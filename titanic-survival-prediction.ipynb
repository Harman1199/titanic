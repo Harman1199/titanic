{
 "cells": [
  {
   "cell_type": "code",
   "execution_count": 128,
   "metadata": {
    "_cell_guid": "ebacc885-31fe-472d-9a4c-45e892748d46",
    "_uuid": "b33894ec-2ae9-4714-bc67-ad0b918dedee",
    "collapsed": false,
    "execution": {
     "iopub.execute_input": "2025-01-04T05:32:15.168135Z",
     "iopub.status.busy": "2025-01-04T05:32:15.167707Z",
     "iopub.status.idle": "2025-01-04T05:32:15.181695Z",
     "shell.execute_reply": "2025-01-04T05:32:15.180504Z",
     "shell.execute_reply.started": "2025-01-04T05:32:15.168062Z"
    },
    "jupyter": {
     "outputs_hidden": false
    },
    "trusted": true
   },
   "outputs": [],
   "source": [
    "# imports\n",
    "import numpy as np # linear algebra\n",
    "import pandas as pd # data processing, CSV file I/O (e.g. pd.read_csv)\n",
    "\n",
    "import time\n",
    "import random\n",
    "\n",
    "\n",
    "# visualization\n",
    "import matplotlib.pyplot as plt\n",
    "import seaborn as sns\n",
    "\n",
    "# feature selection\n",
    "from sklearn.feature_selection import VarianceThreshold\n",
    "from sklearn.feature_selection import SequentialFeatureSelector\n",
    "from mlxtend.feature_selection import SequentialFeatureSelector as SFS\n",
    "from mlxtend.feature_selection import ExhaustiveFeatureSelector as EFS\n",
    "\n",
    "# data splitting\n",
    "from sklearn.model_selection import train_test_split, cross_validate\n",
    "\n",
    "# models\n",
    "from sklearn import ensemble, linear_model, naive_bayes, neighbors, svm, tree, discriminant_analysis\n",
    "from sklearn.ensemble import RandomForestClassifier\n",
    "from xgboost import XGBClassifier\n",
    "\n",
    "# metrics\n",
    "from sklearn.metrics import roc_auc_score\n",
    "\n",
    "# hyperparameter tuning\n",
    "from sklearn.model_selection import GridSearchCV\n",
    "\n",
    "# common helpers\n",
    "from sklearn.preprocessing import OneHotEncoder, LabelEncoder\n",
    "\n",
    "import warnings\n",
    "warnings.filterwarnings(\"ignore\")"
   ]
  },
  {
   "cell_type": "code",
   "execution_count": 129,
   "metadata": {
    "_cell_guid": "9f845811-ff82-4167-aabd-54f8bde227de",
    "_uuid": "9a294087-6599-4da0-b170-74173cff9dd1",
    "collapsed": false,
    "execution": {
     "iopub.execute_input": "2025-01-04T05:32:15.183043Z",
     "iopub.status.busy": "2025-01-04T05:32:15.182749Z",
     "iopub.status.idle": "2025-01-04T05:32:15.221960Z",
     "shell.execute_reply": "2025-01-04T05:32:15.220842Z",
     "shell.execute_reply.started": "2025-01-04T05:32:15.183019Z"
    },
    "jupyter": {
     "outputs_hidden": false
    },
    "trusted": true
   },
   "outputs": [],
   "source": [
    "# data loading\n",
    "train = pd.read_csv(\"datasets/train.csv\")\n",
    "test = pd.read_csv(\"datasets/test.csv\")"
   ]
  },
  {
   "cell_type": "code",
   "execution_count": 130,
   "metadata": {
    "_cell_guid": "25bc9ce7-37bf-4591-9cd5-2f0ceb3b7975",
    "_uuid": "d13b0eac-3f27-4e26-bbdf-7664a9e73480",
    "collapsed": false,
    "execution": {
     "iopub.execute_input": "2025-01-04T05:32:15.223567Z",
     "iopub.status.busy": "2025-01-04T05:32:15.223264Z",
     "iopub.status.idle": "2025-01-04T05:32:15.228399Z",
     "shell.execute_reply": "2025-01-04T05:32:15.227206Z",
     "shell.execute_reply.started": "2025-01-04T05:32:15.223542Z"
    },
    "jupyter": {
     "outputs_hidden": false
    },
    "trusted": true
   },
   "outputs": [],
   "source": [
    "data = [train, test]"
   ]
  },
  {
   "cell_type": "code",
   "execution_count": 131,
   "metadata": {
    "_cell_guid": "aaa627c7-ce05-4d07-9ff5-b0f0be4daaf2",
    "_uuid": "e54b50c4-ff39-4dd0-8e99-8148af8c79b7",
    "collapsed": false,
    "execution": {
     "iopub.execute_input": "2025-01-04T05:32:15.230077Z",
     "iopub.status.busy": "2025-01-04T05:32:15.229656Z",
     "iopub.status.idle": "2025-01-04T05:32:15.258117Z",
     "shell.execute_reply": "2025-01-04T05:32:15.256754Z",
     "shell.execute_reply.started": "2025-01-04T05:32:15.230037Z"
    },
    "jupyter": {
     "outputs_hidden": false
    },
    "trusted": true
   },
   "outputs": [
    {
     "data": {
      "text/html": [
       "<div>\n",
       "<style scoped>\n",
       "    .dataframe tbody tr th:only-of-type {\n",
       "        vertical-align: middle;\n",
       "    }\n",
       "\n",
       "    .dataframe tbody tr th {\n",
       "        vertical-align: top;\n",
       "    }\n",
       "\n",
       "    .dataframe thead th {\n",
       "        text-align: right;\n",
       "    }\n",
       "</style>\n",
       "<table border=\"1\" class=\"dataframe\">\n",
       "  <thead>\n",
       "    <tr style=\"text-align: right;\">\n",
       "      <th></th>\n",
       "      <th>PassengerId</th>\n",
       "      <th>Survived</th>\n",
       "      <th>Pclass</th>\n",
       "      <th>Name</th>\n",
       "      <th>Sex</th>\n",
       "      <th>Age</th>\n",
       "      <th>SibSp</th>\n",
       "      <th>Parch</th>\n",
       "      <th>Ticket</th>\n",
       "      <th>Fare</th>\n",
       "      <th>Cabin</th>\n",
       "      <th>Embarked</th>\n",
       "    </tr>\n",
       "  </thead>\n",
       "  <tbody>\n",
       "    <tr>\n",
       "      <th>0</th>\n",
       "      <td>1</td>\n",
       "      <td>0</td>\n",
       "      <td>3</td>\n",
       "      <td>Braund, Mr. Owen Harris</td>\n",
       "      <td>male</td>\n",
       "      <td>22.0</td>\n",
       "      <td>1</td>\n",
       "      <td>0</td>\n",
       "      <td>A/5 21171</td>\n",
       "      <td>7.2500</td>\n",
       "      <td>NaN</td>\n",
       "      <td>S</td>\n",
       "    </tr>\n",
       "    <tr>\n",
       "      <th>1</th>\n",
       "      <td>2</td>\n",
       "      <td>1</td>\n",
       "      <td>1</td>\n",
       "      <td>Cumings, Mrs. John Bradley (Florence Briggs Th...</td>\n",
       "      <td>female</td>\n",
       "      <td>38.0</td>\n",
       "      <td>1</td>\n",
       "      <td>0</td>\n",
       "      <td>PC 17599</td>\n",
       "      <td>71.2833</td>\n",
       "      <td>C85</td>\n",
       "      <td>C</td>\n",
       "    </tr>\n",
       "    <tr>\n",
       "      <th>2</th>\n",
       "      <td>3</td>\n",
       "      <td>1</td>\n",
       "      <td>3</td>\n",
       "      <td>Heikkinen, Miss. Laina</td>\n",
       "      <td>female</td>\n",
       "      <td>26.0</td>\n",
       "      <td>0</td>\n",
       "      <td>0</td>\n",
       "      <td>STON/O2. 3101282</td>\n",
       "      <td>7.9250</td>\n",
       "      <td>NaN</td>\n",
       "      <td>S</td>\n",
       "    </tr>\n",
       "    <tr>\n",
       "      <th>3</th>\n",
       "      <td>4</td>\n",
       "      <td>1</td>\n",
       "      <td>1</td>\n",
       "      <td>Futrelle, Mrs. Jacques Heath (Lily May Peel)</td>\n",
       "      <td>female</td>\n",
       "      <td>35.0</td>\n",
       "      <td>1</td>\n",
       "      <td>0</td>\n",
       "      <td>113803</td>\n",
       "      <td>53.1000</td>\n",
       "      <td>C123</td>\n",
       "      <td>S</td>\n",
       "    </tr>\n",
       "    <tr>\n",
       "      <th>4</th>\n",
       "      <td>5</td>\n",
       "      <td>0</td>\n",
       "      <td>3</td>\n",
       "      <td>Allen, Mr. William Henry</td>\n",
       "      <td>male</td>\n",
       "      <td>35.0</td>\n",
       "      <td>0</td>\n",
       "      <td>0</td>\n",
       "      <td>373450</td>\n",
       "      <td>8.0500</td>\n",
       "      <td>NaN</td>\n",
       "      <td>S</td>\n",
       "    </tr>\n",
       "  </tbody>\n",
       "</table>\n",
       "</div>"
      ],
      "text/plain": [
       "   PassengerId  Survived  Pclass  \\\n",
       "0            1         0       3   \n",
       "1            2         1       1   \n",
       "2            3         1       3   \n",
       "3            4         1       1   \n",
       "4            5         0       3   \n",
       "\n",
       "                                                Name     Sex   Age  SibSp  \\\n",
       "0                            Braund, Mr. Owen Harris    male  22.0      1   \n",
       "1  Cumings, Mrs. John Bradley (Florence Briggs Th...  female  38.0      1   \n",
       "2                             Heikkinen, Miss. Laina  female  26.0      0   \n",
       "3       Futrelle, Mrs. Jacques Heath (Lily May Peel)  female  35.0      1   \n",
       "4                           Allen, Mr. William Henry    male  35.0      0   \n",
       "\n",
       "   Parch            Ticket     Fare Cabin Embarked  \n",
       "0      0         A/5 21171   7.2500   NaN        S  \n",
       "1      0          PC 17599  71.2833   C85        C  \n",
       "2      0  STON/O2. 3101282   7.9250   NaN        S  \n",
       "3      0            113803  53.1000  C123        S  \n",
       "4      0            373450   8.0500   NaN        S  "
      ]
     },
     "execution_count": 131,
     "metadata": {},
     "output_type": "execute_result"
    }
   ],
   "source": [
    "train.head()"
   ]
  },
  {
   "cell_type": "code",
   "execution_count": 132,
   "metadata": {
    "_cell_guid": "0ea8cbdb-59f0-461f-8a89-3d033117ea57",
    "_uuid": "c9f41107-4ca8-4744-a16c-5bf20a3a56ba",
    "collapsed": false,
    "execution": {
     "iopub.execute_input": "2025-01-04T05:32:15.259949Z",
     "iopub.status.busy": "2025-01-04T05:32:15.259516Z",
     "iopub.status.idle": "2025-01-04T05:32:15.285336Z",
     "shell.execute_reply": "2025-01-04T05:32:15.284158Z",
     "shell.execute_reply.started": "2025-01-04T05:32:15.259912Z"
    },
    "jupyter": {
     "outputs_hidden": false
    },
    "trusted": true
   },
   "outputs": [
    {
     "data": {
      "text/html": [
       "<div>\n",
       "<style scoped>\n",
       "    .dataframe tbody tr th:only-of-type {\n",
       "        vertical-align: middle;\n",
       "    }\n",
       "\n",
       "    .dataframe tbody tr th {\n",
       "        vertical-align: top;\n",
       "    }\n",
       "\n",
       "    .dataframe thead th {\n",
       "        text-align: right;\n",
       "    }\n",
       "</style>\n",
       "<table border=\"1\" class=\"dataframe\">\n",
       "  <thead>\n",
       "    <tr style=\"text-align: right;\">\n",
       "      <th></th>\n",
       "      <th>PassengerId</th>\n",
       "      <th>Pclass</th>\n",
       "      <th>Name</th>\n",
       "      <th>Sex</th>\n",
       "      <th>Age</th>\n",
       "      <th>SibSp</th>\n",
       "      <th>Parch</th>\n",
       "      <th>Ticket</th>\n",
       "      <th>Fare</th>\n",
       "      <th>Cabin</th>\n",
       "      <th>Embarked</th>\n",
       "    </tr>\n",
       "  </thead>\n",
       "  <tbody>\n",
       "    <tr>\n",
       "      <th>389</th>\n",
       "      <td>1281</td>\n",
       "      <td>3</td>\n",
       "      <td>Palsson, Master. Paul Folke</td>\n",
       "      <td>male</td>\n",
       "      <td>6.00</td>\n",
       "      <td>3</td>\n",
       "      <td>1</td>\n",
       "      <td>349909</td>\n",
       "      <td>21.0750</td>\n",
       "      <td>NaN</td>\n",
       "      <td>S</td>\n",
       "    </tr>\n",
       "    <tr>\n",
       "      <th>92</th>\n",
       "      <td>984</td>\n",
       "      <td>1</td>\n",
       "      <td>Davidson, Mrs. Thornton (Orian Hays)</td>\n",
       "      <td>female</td>\n",
       "      <td>27.00</td>\n",
       "      <td>1</td>\n",
       "      <td>2</td>\n",
       "      <td>F.C. 12750</td>\n",
       "      <td>52.0000</td>\n",
       "      <td>B71</td>\n",
       "      <td>S</td>\n",
       "    </tr>\n",
       "    <tr>\n",
       "      <th>281</th>\n",
       "      <td>1173</td>\n",
       "      <td>3</td>\n",
       "      <td>Peacock, Master. Alfred Edward</td>\n",
       "      <td>male</td>\n",
       "      <td>0.75</td>\n",
       "      <td>1</td>\n",
       "      <td>1</td>\n",
       "      <td>SOTON/O.Q. 3101315</td>\n",
       "      <td>13.7750</td>\n",
       "      <td>NaN</td>\n",
       "      <td>S</td>\n",
       "    </tr>\n",
       "    <tr>\n",
       "      <th>98</th>\n",
       "      <td>990</td>\n",
       "      <td>3</td>\n",
       "      <td>Braf, Miss. Elin Ester Maria</td>\n",
       "      <td>female</td>\n",
       "      <td>20.00</td>\n",
       "      <td>0</td>\n",
       "      <td>0</td>\n",
       "      <td>347471</td>\n",
       "      <td>7.8542</td>\n",
       "      <td>NaN</td>\n",
       "      <td>S</td>\n",
       "    </tr>\n",
       "    <tr>\n",
       "      <th>403</th>\n",
       "      <td>1295</td>\n",
       "      <td>1</td>\n",
       "      <td>Carrau, Mr. Jose Pedro</td>\n",
       "      <td>male</td>\n",
       "      <td>17.00</td>\n",
       "      <td>0</td>\n",
       "      <td>0</td>\n",
       "      <td>113059</td>\n",
       "      <td>47.1000</td>\n",
       "      <td>NaN</td>\n",
       "      <td>S</td>\n",
       "    </tr>\n",
       "  </tbody>\n",
       "</table>\n",
       "</div>"
      ],
      "text/plain": [
       "     PassengerId  Pclass                                  Name     Sex    Age  \\\n",
       "389         1281       3           Palsson, Master. Paul Folke    male   6.00   \n",
       "92           984       1  Davidson, Mrs. Thornton (Orian Hays)  female  27.00   \n",
       "281         1173       3        Peacock, Master. Alfred Edward    male   0.75   \n",
       "98           990       3          Braf, Miss. Elin Ester Maria  female  20.00   \n",
       "403         1295       1                Carrau, Mr. Jose Pedro    male  17.00   \n",
       "\n",
       "     SibSp  Parch              Ticket     Fare Cabin Embarked  \n",
       "389      3      1              349909  21.0750   NaN        S  \n",
       "92       1      2          F.C. 12750  52.0000   B71        S  \n",
       "281      1      1  SOTON/O.Q. 3101315  13.7750   NaN        S  \n",
       "98       0      0              347471   7.8542   NaN        S  \n",
       "403      0      0              113059  47.1000   NaN        S  "
      ]
     },
     "execution_count": 132,
     "metadata": {},
     "output_type": "execute_result"
    }
   ],
   "source": [
    "test.sample(5)"
   ]
  },
  {
   "cell_type": "code",
   "execution_count": 133,
   "metadata": {
    "_cell_guid": "8d043625-537e-4529-8958-93b2177bf934",
    "_uuid": "114fe128-c97f-4275-b3ec-d7e98ced30b2",
    "collapsed": false,
    "execution": {
     "iopub.execute_input": "2025-01-04T05:32:15.286901Z",
     "iopub.status.busy": "2025-01-04T05:32:15.286423Z",
     "iopub.status.idle": "2025-01-04T05:32:15.307471Z",
     "shell.execute_reply": "2025-01-04T05:32:15.306386Z",
     "shell.execute_reply.started": "2025-01-04T05:32:15.286849Z"
    },
    "jupyter": {
     "outputs_hidden": false
    },
    "trusted": true
   },
   "outputs": [
    {
     "name": "stdout",
     "output_type": "stream",
     "text": [
      "<class 'pandas.core.frame.DataFrame'>\n",
      "RangeIndex: 891 entries, 0 to 890\n",
      "Data columns (total 12 columns):\n",
      " #   Column       Non-Null Count  Dtype  \n",
      "---  ------       --------------  -----  \n",
      " 0   PassengerId  891 non-null    int64  \n",
      " 1   Survived     891 non-null    int64  \n",
      " 2   Pclass       891 non-null    int64  \n",
      " 3   Name         891 non-null    object \n",
      " 4   Sex          891 non-null    object \n",
      " 5   Age          714 non-null    float64\n",
      " 6   SibSp        891 non-null    int64  \n",
      " 7   Parch        891 non-null    int64  \n",
      " 8   Ticket       891 non-null    object \n",
      " 9   Fare         891 non-null    float64\n",
      " 10  Cabin        204 non-null    object \n",
      " 11  Embarked     889 non-null    object \n",
      "dtypes: float64(2), int64(5), object(5)\n",
      "memory usage: 83.7+ KB\n"
     ]
    }
   ],
   "source": [
    "train.info()"
   ]
  },
  {
   "cell_type": "code",
   "execution_count": 134,
   "metadata": {
    "_cell_guid": "4d2d6710-2c86-421e-a4ae-1db063776b22",
    "_uuid": "c89ec9a3-2375-4042-8382-d14bcfc4cce7",
    "collapsed": false,
    "execution": {
     "iopub.execute_input": "2025-01-04T05:32:15.308847Z",
     "iopub.status.busy": "2025-01-04T05:32:15.308552Z",
     "iopub.status.idle": "2025-01-04T05:32:15.350644Z",
     "shell.execute_reply": "2025-01-04T05:32:15.349696Z",
     "shell.execute_reply.started": "2025-01-04T05:32:15.308820Z"
    },
    "jupyter": {
     "outputs_hidden": false
    },
    "trusted": true
   },
   "outputs": [
    {
     "data": {
      "text/html": [
       "<div>\n",
       "<style scoped>\n",
       "    .dataframe tbody tr th:only-of-type {\n",
       "        vertical-align: middle;\n",
       "    }\n",
       "\n",
       "    .dataframe tbody tr th {\n",
       "        vertical-align: top;\n",
       "    }\n",
       "\n",
       "    .dataframe thead th {\n",
       "        text-align: right;\n",
       "    }\n",
       "</style>\n",
       "<table border=\"1\" class=\"dataframe\">\n",
       "  <thead>\n",
       "    <tr style=\"text-align: right;\">\n",
       "      <th></th>\n",
       "      <th>PassengerId</th>\n",
       "      <th>Survived</th>\n",
       "      <th>Pclass</th>\n",
       "      <th>Age</th>\n",
       "      <th>SibSp</th>\n",
       "      <th>Parch</th>\n",
       "      <th>Fare</th>\n",
       "    </tr>\n",
       "  </thead>\n",
       "  <tbody>\n",
       "    <tr>\n",
       "      <th>count</th>\n",
       "      <td>891.000000</td>\n",
       "      <td>891.000000</td>\n",
       "      <td>891.000000</td>\n",
       "      <td>714.000000</td>\n",
       "      <td>891.000000</td>\n",
       "      <td>891.000000</td>\n",
       "      <td>891.000000</td>\n",
       "    </tr>\n",
       "    <tr>\n",
       "      <th>mean</th>\n",
       "      <td>446.000000</td>\n",
       "      <td>0.383838</td>\n",
       "      <td>2.308642</td>\n",
       "      <td>29.699118</td>\n",
       "      <td>0.523008</td>\n",
       "      <td>0.381594</td>\n",
       "      <td>32.204208</td>\n",
       "    </tr>\n",
       "    <tr>\n",
       "      <th>std</th>\n",
       "      <td>257.353842</td>\n",
       "      <td>0.486592</td>\n",
       "      <td>0.836071</td>\n",
       "      <td>14.526497</td>\n",
       "      <td>1.102743</td>\n",
       "      <td>0.806057</td>\n",
       "      <td>49.693429</td>\n",
       "    </tr>\n",
       "    <tr>\n",
       "      <th>min</th>\n",
       "      <td>1.000000</td>\n",
       "      <td>0.000000</td>\n",
       "      <td>1.000000</td>\n",
       "      <td>0.420000</td>\n",
       "      <td>0.000000</td>\n",
       "      <td>0.000000</td>\n",
       "      <td>0.000000</td>\n",
       "    </tr>\n",
       "    <tr>\n",
       "      <th>25%</th>\n",
       "      <td>223.500000</td>\n",
       "      <td>0.000000</td>\n",
       "      <td>2.000000</td>\n",
       "      <td>20.125000</td>\n",
       "      <td>0.000000</td>\n",
       "      <td>0.000000</td>\n",
       "      <td>7.910400</td>\n",
       "    </tr>\n",
       "    <tr>\n",
       "      <th>50%</th>\n",
       "      <td>446.000000</td>\n",
       "      <td>0.000000</td>\n",
       "      <td>3.000000</td>\n",
       "      <td>28.000000</td>\n",
       "      <td>0.000000</td>\n",
       "      <td>0.000000</td>\n",
       "      <td>14.454200</td>\n",
       "    </tr>\n",
       "    <tr>\n",
       "      <th>75%</th>\n",
       "      <td>668.500000</td>\n",
       "      <td>1.000000</td>\n",
       "      <td>3.000000</td>\n",
       "      <td>38.000000</td>\n",
       "      <td>1.000000</td>\n",
       "      <td>0.000000</td>\n",
       "      <td>31.000000</td>\n",
       "    </tr>\n",
       "    <tr>\n",
       "      <th>max</th>\n",
       "      <td>891.000000</td>\n",
       "      <td>1.000000</td>\n",
       "      <td>3.000000</td>\n",
       "      <td>80.000000</td>\n",
       "      <td>8.000000</td>\n",
       "      <td>6.000000</td>\n",
       "      <td>512.329200</td>\n",
       "    </tr>\n",
       "  </tbody>\n",
       "</table>\n",
       "</div>"
      ],
      "text/plain": [
       "       PassengerId    Survived      Pclass         Age       SibSp  \\\n",
       "count   891.000000  891.000000  891.000000  714.000000  891.000000   \n",
       "mean    446.000000    0.383838    2.308642   29.699118    0.523008   \n",
       "std     257.353842    0.486592    0.836071   14.526497    1.102743   \n",
       "min       1.000000    0.000000    1.000000    0.420000    0.000000   \n",
       "25%     223.500000    0.000000    2.000000   20.125000    0.000000   \n",
       "50%     446.000000    0.000000    3.000000   28.000000    0.000000   \n",
       "75%     668.500000    1.000000    3.000000   38.000000    1.000000   \n",
       "max     891.000000    1.000000    3.000000   80.000000    8.000000   \n",
       "\n",
       "            Parch        Fare  \n",
       "count  891.000000  891.000000  \n",
       "mean     0.381594   32.204208  \n",
       "std      0.806057   49.693429  \n",
       "min      0.000000    0.000000  \n",
       "25%      0.000000    7.910400  \n",
       "50%      0.000000   14.454200  \n",
       "75%      0.000000   31.000000  \n",
       "max      6.000000  512.329200  "
      ]
     },
     "execution_count": 134,
     "metadata": {},
     "output_type": "execute_result"
    }
   ],
   "source": [
    "train.describe()"
   ]
  },
  {
   "cell_type": "code",
   "execution_count": 135,
   "metadata": {
    "_cell_guid": "c9625e79-72ff-4ee9-b0aa-41fe300c9ff8",
    "_uuid": "fbf8cf14-8b41-4a4f-8301-117418e5b2b1",
    "collapsed": false,
    "execution": {
     "iopub.execute_input": "2025-01-04T05:32:15.352680Z",
     "iopub.status.busy": "2025-01-04T05:32:15.352318Z",
     "iopub.status.idle": "2025-01-04T05:32:15.372562Z",
     "shell.execute_reply": "2025-01-04T05:32:15.371023Z",
     "shell.execute_reply.started": "2025-01-04T05:32:15.352650Z"
    },
    "jupyter": {
     "outputs_hidden": false
    },
    "trusted": true
   },
   "outputs": [
    {
     "data": {
      "text/html": [
       "<div>\n",
       "<style scoped>\n",
       "    .dataframe tbody tr th:only-of-type {\n",
       "        vertical-align: middle;\n",
       "    }\n",
       "\n",
       "    .dataframe tbody tr th {\n",
       "        vertical-align: top;\n",
       "    }\n",
       "\n",
       "    .dataframe thead th {\n",
       "        text-align: right;\n",
       "    }\n",
       "</style>\n",
       "<table border=\"1\" class=\"dataframe\">\n",
       "  <thead>\n",
       "    <tr style=\"text-align: right;\">\n",
       "      <th></th>\n",
       "      <th>Name</th>\n",
       "      <th>Sex</th>\n",
       "      <th>Ticket</th>\n",
       "      <th>Cabin</th>\n",
       "      <th>Embarked</th>\n",
       "    </tr>\n",
       "  </thead>\n",
       "  <tbody>\n",
       "    <tr>\n",
       "      <th>count</th>\n",
       "      <td>891</td>\n",
       "      <td>891</td>\n",
       "      <td>891</td>\n",
       "      <td>204</td>\n",
       "      <td>889</td>\n",
       "    </tr>\n",
       "    <tr>\n",
       "      <th>unique</th>\n",
       "      <td>891</td>\n",
       "      <td>2</td>\n",
       "      <td>681</td>\n",
       "      <td>147</td>\n",
       "      <td>3</td>\n",
       "    </tr>\n",
       "    <tr>\n",
       "      <th>top</th>\n",
       "      <td>Braund, Mr. Owen Harris</td>\n",
       "      <td>male</td>\n",
       "      <td>347082</td>\n",
       "      <td>B96 B98</td>\n",
       "      <td>S</td>\n",
       "    </tr>\n",
       "    <tr>\n",
       "      <th>freq</th>\n",
       "      <td>1</td>\n",
       "      <td>577</td>\n",
       "      <td>7</td>\n",
       "      <td>4</td>\n",
       "      <td>644</td>\n",
       "    </tr>\n",
       "  </tbody>\n",
       "</table>\n",
       "</div>"
      ],
      "text/plain": [
       "                           Name   Sex  Ticket    Cabin Embarked\n",
       "count                       891   891     891      204      889\n",
       "unique                      891     2     681      147        3\n",
       "top     Braund, Mr. Owen Harris  male  347082  B96 B98        S\n",
       "freq                          1   577       7        4      644"
      ]
     },
     "execution_count": 135,
     "metadata": {},
     "output_type": "execute_result"
    }
   ],
   "source": [
    "train.describe(include='O')"
   ]
  },
  {
   "cell_type": "code",
   "execution_count": 136,
   "metadata": {
    "_cell_guid": "ecda62be-0768-49e6-bc0a-991212647667",
    "_uuid": "4341b4e0-8d47-42c3-91b1-e0ff7ebe79b0",
    "collapsed": false,
    "execution": {
     "iopub.execute_input": "2025-01-04T05:32:15.374257Z",
     "iopub.status.busy": "2025-01-04T05:32:15.373821Z",
     "iopub.status.idle": "2025-01-04T05:32:15.397392Z",
     "shell.execute_reply": "2025-01-04T05:32:15.396377Z",
     "shell.execute_reply.started": "2025-01-04T05:32:15.374226Z"
    },
    "jupyter": {
     "outputs_hidden": false
    },
    "trusted": true
   },
   "outputs": [
    {
     "name": "stdout",
     "output_type": "stream",
     "text": [
      "Survived: [0 1]\n",
      "Pclass: [3 1 2]\n",
      "Sex: ['male' 'female']\n",
      "Age: 0.42 - 80.0\n",
      "SibSp: 0 - 8\n",
      "Parch: 0 - 6\n",
      "Fare: 0.0 - 512.3292\n",
      "Embarked: ['S' 'C' 'Q' nan]\n"
     ]
    }
   ],
   "source": [
    "# unique values and ranges\n",
    "\n",
    "print(\"Survived:\", train[\"Survived\"].unique())\n",
    "print(\"Pclass:\", train[\"Pclass\"].unique())\n",
    "print(\"Sex:\", train[\"Sex\"].unique())\n",
    "print(\"Age:\", train[\"Age\"].min(),'-', train[\"Age\"].max())\n",
    "print(\"SibSp:\", train[\"SibSp\"].min(), '-', train[\"SibSp\"].max())\n",
    "print(\"Parch:\", train[\"Parch\"].min(), '-', train[\"Parch\"].max())\n",
    "print(\"Fare:\", train[\"Fare\"].min(), '-', train[\"Fare\"].max())\n",
    "print(\"Embarked:\", train[\"Embarked\"].unique())"
   ]
  },
  {
   "cell_type": "markdown",
   "metadata": {
    "_cell_guid": "67ecc1a8-5dab-4fac-90b3-1119e12fee88",
    "_uuid": "074c7b0a-265b-4ab8-bc94-40f7584ffcf9",
    "collapsed": false,
    "jupyter": {
     "outputs_hidden": false
    },
    "trusted": true
   },
   "source": [
    "## **Numerical and Categorical Features**"
   ]
  },
  {
   "cell_type": "code",
   "execution_count": 137,
   "metadata": {
    "_cell_guid": "c6a70afd-d26c-41a8-b5f7-481779e8da1c",
    "_uuid": "f33afe7c-f86c-40e4-b567-06bf1f473148",
    "collapsed": false,
    "execution": {
     "iopub.execute_input": "2025-01-04T05:32:15.399202Z",
     "iopub.status.busy": "2025-01-04T05:32:15.398803Z",
     "iopub.status.idle": "2025-01-04T05:32:15.406216Z",
     "shell.execute_reply": "2025-01-04T05:32:15.405269Z",
     "shell.execute_reply.started": "2025-01-04T05:32:15.399163Z"
    },
    "jupyter": {
     "outputs_hidden": false
    },
    "trusted": true
   },
   "outputs": [
    {
     "name": "stdout",
     "output_type": "stream",
     "text": [
      "Numerical variables: ['PassengerId', 'Survived', 'Pclass', 'Age', 'SibSp', 'Parch', 'Fare']\n",
      "Total: 7\n"
     ]
    }
   ],
   "source": [
    "# numerical variables\n",
    "\n",
    "num_vars = train.select_dtypes(np.number).columns.to_list()\n",
    "print(\"Numerical variables:\", num_vars)\n",
    "print(\"Total:\", len(num_vars))"
   ]
  },
  {
   "cell_type": "code",
   "execution_count": 138,
   "metadata": {
    "_cell_guid": "33391004-0248-4d7c-8057-f7757b582be1",
    "_uuid": "0d2395bc-deff-4fee-8e25-7862ea387e5c",
    "collapsed": false,
    "execution": {
     "iopub.execute_input": "2025-01-04T05:32:15.407583Z",
     "iopub.status.busy": "2025-01-04T05:32:15.407274Z",
     "iopub.status.idle": "2025-01-04T05:32:15.424864Z",
     "shell.execute_reply": "2025-01-04T05:32:15.423691Z",
     "shell.execute_reply.started": "2025-01-04T05:32:15.407557Z"
    },
    "jupyter": {
     "outputs_hidden": false
    },
    "trusted": true
   },
   "outputs": [
    {
     "name": "stdout",
     "output_type": "stream",
     "text": [
      "Discrete variables: ['Survived', 'Pclass', 'SibSp', 'Parch']\n",
      "Total: 4\n"
     ]
    }
   ],
   "source": [
    "# discrete variables\n",
    "\n",
    "disc_vars = [var \n",
    "             for var in num_vars \n",
    "             if train[var].nunique() < 10 and var not in ['PassengerId']]\n",
    "print(\"Discrete variables:\", disc_vars)\n",
    "print(\"Total:\", len(disc_vars))"
   ]
  },
  {
   "cell_type": "code",
   "execution_count": 139,
   "metadata": {
    "_cell_guid": "e86e42c0-ed33-494a-9719-44de1bd1eeae",
    "_uuid": "9f37aa4f-3f68-45d7-b426-12db9e8a2456",
    "collapsed": false,
    "execution": {
     "iopub.execute_input": "2025-01-04T05:32:15.426395Z",
     "iopub.status.busy": "2025-01-04T05:32:15.426026Z",
     "iopub.status.idle": "2025-01-04T05:32:15.447196Z",
     "shell.execute_reply": "2025-01-04T05:32:15.446040Z",
     "shell.execute_reply.started": "2025-01-04T05:32:15.426366Z"
    },
    "jupyter": {
     "outputs_hidden": false
    },
    "trusted": true
   },
   "outputs": [
    {
     "name": "stdout",
     "output_type": "stream",
     "text": [
      "Continuous variables: ['Fare', 'Age']\n",
      "Total: 2\n"
     ]
    }
   ],
   "source": [
    "# continuous variables\n",
    "\n",
    "cont_vars = [var \n",
    "             for var in set(num_vars).difference(set(disc_vars +['PassengerId']))]\n",
    "print(\"Continuous variables:\", cont_vars)\n",
    "print(\"Total:\", len(cont_vars))"
   ]
  },
  {
   "cell_type": "code",
   "execution_count": 140,
   "metadata": {
    "_cell_guid": "b78a7fab-0c27-48da-bcc3-31223996d810",
    "_uuid": "072a2683-fb0b-4299-a135-2a9f47c1f444",
    "collapsed": false,
    "execution": {
     "iopub.execute_input": "2025-01-04T05:32:15.448620Z",
     "iopub.status.busy": "2025-01-04T05:32:15.448221Z",
     "iopub.status.idle": "2025-01-04T05:32:15.466042Z",
     "shell.execute_reply": "2025-01-04T05:32:15.464832Z",
     "shell.execute_reply.started": "2025-01-04T05:32:15.448582Z"
    },
    "jupyter": {
     "outputs_hidden": false
    },
    "trusted": true
   },
   "outputs": [
    {
     "name": "stdout",
     "output_type": "stream",
     "text": [
      "Categorical variables: ['Name', 'Sex', 'Ticket', 'Cabin', 'Embarked']\n",
      "Total: 5\n"
     ]
    }
   ],
   "source": [
    "# categorical variables\n",
    "\n",
    "cat_vars = train.select_dtypes(include=['object']).columns.to_list()\n",
    "print(\"Categorical variables:\", cat_vars)\n",
    "print(\"Total:\", len(cat_vars))"
   ]
  },
  {
   "cell_type": "code",
   "execution_count": 141,
   "metadata": {
    "_cell_guid": "33fb3796-e100-4c4c-9229-1a1521f36d62",
    "_uuid": "1df4621b-4bda-495f-9a11-74b6fc5d0fe3",
    "collapsed": false,
    "execution": {
     "iopub.execute_input": "2025-01-04T05:32:15.467646Z",
     "iopub.status.busy": "2025-01-04T05:32:15.467245Z",
     "iopub.status.idle": "2025-01-04T05:32:15.486434Z",
     "shell.execute_reply": "2025-01-04T05:32:15.485226Z",
     "shell.execute_reply.started": "2025-01-04T05:32:15.467615Z"
    },
    "jupyter": {
     "outputs_hidden": false
    },
    "trusted": true
   },
   "outputs": [
    {
     "name": "stdout",
     "output_type": "stream",
     "text": [
      "Name -> #891\n",
      "Sex -> #2\n",
      "Ticket -> #681\n",
      "Cabin -> #147\n",
      "Embarked -> #3\n"
     ]
    }
   ],
   "source": [
    "# cardinality of categorical variables\n",
    "\n",
    "for var in cat_vars:\n",
    "    print(var, '->', f'#{train[var].nunique()}')"
   ]
  },
  {
   "cell_type": "markdown",
   "metadata": {
    "_cell_guid": "70be3fe0-fd29-4a48-8376-fd18b5863f39",
    "_uuid": "cfc4672c-9fd9-4498-8220-4978fde4e78e",
    "collapsed": false,
    "jupyter": {
     "outputs_hidden": false
    },
    "trusted": true
   },
   "source": [
    "# **Data Cleaning**\n",
    "\n",
    "* Correcting\n",
    "* Completing\n",
    "* Creating\n",
    "* Converting"
   ]
  },
  {
   "cell_type": "markdown",
   "metadata": {
    "_cell_guid": "fead2919-bda6-4560-9838-e183b8d80308",
    "_uuid": "ae1ab436-c73c-4fc9-b274-8982492960a9",
    "collapsed": false,
    "jupyter": {
     "outputs_hidden": false
    },
    "trusted": true
   },
   "source": [
    "### Correcting"
   ]
  },
  {
   "cell_type": "code",
   "execution_count": 142,
   "metadata": {
    "_cell_guid": "bbb5a9b8-ded8-471b-bb62-4b2263477401",
    "_uuid": "79bb4237-4782-4af8-bc3e-2827145d1879",
    "collapsed": false,
    "execution": {
     "iopub.execute_input": "2025-01-04T05:32:15.487898Z",
     "iopub.status.busy": "2025-01-04T05:32:15.487561Z",
     "iopub.status.idle": "2025-01-04T05:32:16.005503Z",
     "shell.execute_reply": "2025-01-04T05:32:16.003711Z",
     "shell.execute_reply.started": "2025-01-04T05:32:15.487871Z"
    },
    "jupyter": {
     "outputs_hidden": false
    },
    "trusted": true
   },
   "outputs": [
    {
     "data": {
      "image/png": "[encoded data removed]",
      "text/plain": [
       "<Figure size 1000x1000 with 4 Axes>"
      ]
     },
     "metadata": {},
     "output_type": "display_data"
    }
   ],
   "source": [
    "# data correction\n",
    "\n",
    "plt.figure(figsize=[10, 10])\n",
    "\n",
    "plt.subplot(221)\n",
    "sns.boxplot(train[\"Age\"], orient=\"h\", showmeans=True, meanline=True)\n",
    "plt.title(\"trainAge\")\n",
    "plt.ylabel(\"Age in years\")\n",
    "\n",
    "plt.subplot(222)\n",
    "sns.boxplot(test[\"Age\"], orient=\"h\", showmeans=True, meanline=True)\n",
    "plt.title(\"testAge\")\n",
    "plt.ylabel(\"Age in years\")\n",
    "\n",
    "plt.subplot(223)\n",
    "sns.boxplot(train[\"Fare\"], orient=\"h\", showmeans=True, meanline=True)\n",
    "plt.title(\"trainFare\")\n",
    "plt.ylabel(\"Fare in $\")\n",
    "\n",
    "plt.subplot(224)\n",
    "sns.boxplot(test[\"Fare\"], orient=\"h\", showmeans=True, meanline=True)\n",
    "plt.title(\"testFare\")\n",
    "plt.ylabel(\"Fare in $\");"
   ]
  },
  {
   "cell_type": "code",
   "execution_count": 143,
   "metadata": {
    "_cell_guid": "e758fc5c-fb80-4a17-baa3-b2a2c93e6a11",
    "_uuid": "164cd492-3390-4084-ad29-bae72068ddac",
    "collapsed": false,
    "execution": {
     "iopub.execute_input": "2025-01-04T05:32:16.007064Z",
     "iopub.status.busy": "2025-01-04T05:32:16.006742Z",
     "iopub.status.idle": "2025-01-04T05:32:16.011125Z",
     "shell.execute_reply": "2025-01-04T05:32:16.010233Z",
     "shell.execute_reply.started": "2025-01-04T05:32:16.007039Z"
    },
    "jupyter": {
     "outputs_hidden": false
    },
    "trusted": true
   },
   "outputs": [],
   "source": [
    "# outliers needed as they're in test-set as well\n",
    "# no correction required"
   ]
  },
  {
   "cell_type": "code",
   "execution_count": 144,
   "metadata": {
    "_cell_guid": "38d65f15-6efb-43f9-ba66-a208c4a153be",
    "_uuid": "cc529d04-69d0-4b6f-ad02-62393187bbb1",
    "collapsed": false,
    "execution": {
     "iopub.execute_input": "2025-01-04T05:32:16.012624Z",
     "iopub.status.busy": "2025-01-04T05:32:16.012065Z",
     "iopub.status.idle": "2025-01-04T05:32:16.285027Z",
     "shell.execute_reply": "2025-01-04T05:32:16.284022Z",
     "shell.execute_reply.started": "2025-01-04T05:32:16.012597Z"
    },
    "jupyter": {
     "outputs_hidden": false
    },
    "trusted": true
   },
   "outputs": [
    {
     "data": {
      "image/png": "[encoded data removed]",
      "text/plain": [
       "<Figure size 640x480 with 1 Axes>"
      ]
     },
     "metadata": {},
     "output_type": "display_data"
    }
   ],
   "source": [
    "sns.countplot(train, x=\"Pclass\", hue=\"Survived\", palette={0: \"black\", 1: \"green\"});"
   ]
  },
  {
   "cell_type": "code",
   "execution_count": 145,
   "metadata": {
    "_cell_guid": "049e594d-6e75-4aae-b8d3-5a70f3c2c8fd",
    "_uuid": "a8158332-e4a3-43ed-b527-56183d91796c",
    "collapsed": false,
    "execution": {
     "iopub.execute_input": "2025-01-04T05:32:16.286412Z",
     "iopub.status.busy": "2025-01-04T05:32:16.286039Z",
     "iopub.status.idle": "2025-01-04T05:32:16.564043Z",
     "shell.execute_reply": "2025-01-04T05:32:16.563163Z",
     "shell.execute_reply.started": "2025-01-04T05:32:16.286385Z"
    },
    "jupyter": {
     "outputs_hidden": false
    },
    "trusted": true
   },
   "outputs": [
    {
     "data": {
      "image/png": "[encoded data removed]",
      "text/plain": [
       "<Figure size 640x480 with 1 Axes>"
      ]
     },
     "metadata": {},
     "output_type": "display_data"
    }
   ],
   "source": [
    "# age distribution\n",
    "\n",
    "plt.hist(train[\"Age\"], bins=20);"
   ]
  },
  {
   "cell_type": "code",
   "execution_count": 146,
   "metadata": {
    "_cell_guid": "86bd09ef-d315-4e4b-8839-649a20c4d8dd",
    "_uuid": "109ae6f0-42f2-49ef-8574-0c2a2301fc16",
    "collapsed": false,
    "execution": {
     "iopub.execute_input": "2025-01-04T05:32:16.565389Z",
     "iopub.status.busy": "2025-01-04T05:32:16.565063Z",
     "iopub.status.idle": "2025-01-04T05:32:16.972491Z",
     "shell.execute_reply": "2025-01-04T05:32:16.971380Z",
     "shell.execute_reply.started": "2025-01-04T05:32:16.565362Z"
    },
    "jupyter": {
     "outputs_hidden": false
    },
    "trusted": true
   },
   "outputs": [
    {
     "data": {
      "image/png": "[encoded data removed]",
      "text/plain": [
       "<Figure size 640x480 with 1 Axes>"
      ]
     },
     "metadata": {},
     "output_type": "display_data"
    }
   ],
   "source": [
    "# survivability vs age\n",
    "\n",
    "sns.kdeplot(train[\"Age\"][train[\"Survived\"] == 0], \n",
    "            color=\"black\", label=\"Died\", linestyle=\"--\")\n",
    "sns.kdeplot(train[\"Age\"][train[\"Survived\"] == 1], \n",
    "            color=\"green\", label=\"Survived\")\n",
    "\n",
    "plt.title(\"Survivability vs Age\")\n",
    "plt.legend();"
   ]
  },
  {
   "cell_type": "code",
   "execution_count": 147,
   "metadata": {
    "_cell_guid": "ff6ddb09-3818-4ccf-b7eb-04e2fa5df3b3",
    "_uuid": "7f73f542-dc42-440e-bf88-1c58b7755445",
    "collapsed": false,
    "execution": {
     "iopub.execute_input": "2025-01-04T05:32:16.974089Z",
     "iopub.status.busy": "2025-01-04T05:32:16.973695Z",
     "iopub.status.idle": "2025-01-04T05:32:17.279618Z",
     "shell.execute_reply": "2025-01-04T05:32:17.278458Z",
     "shell.execute_reply.started": "2025-01-04T05:32:16.974048Z"
    },
    "jupyter": {
     "outputs_hidden": false
    },
    "trusted": true
   },
   "outputs": [
    {
     "data": {
      "image/png": "[encoded data removed]",
      "text/plain": [
       "<Figure size 640x480 with 1 Axes>"
      ]
     },
     "metadata": {},
     "output_type": "display_data"
    }
   ],
   "source": [
    "# fare distribution\n",
    "\n",
    "sns.histplot(train[\"Fare\"], bins=20);"
   ]
  },
  {
   "cell_type": "code",
   "execution_count": 148,
   "metadata": {
    "_cell_guid": "77181aa6-183e-4d32-8553-5729d9527d3c",
    "_uuid": "31f61dd4-75fd-4525-ac61-2b913c4decab",
    "collapsed": false,
    "execution": {
     "iopub.execute_input": "2025-01-04T05:32:17.280897Z",
     "iopub.status.busy": "2025-01-04T05:32:17.280604Z",
     "iopub.status.idle": "2025-01-04T05:32:17.779748Z",
     "shell.execute_reply": "2025-01-04T05:32:17.778699Z",
     "shell.execute_reply.started": "2025-01-04T05:32:17.280870Z"
    },
    "jupyter": {
     "outputs_hidden": false
    },
    "trusted": true
   },
   "outputs": [
    {
     "data": {
      "image/png": "[encoded data removed]",
      "text/plain": [
       "<Figure size 640x480 with 1 Axes>"
      ]
     },
     "metadata": {},
     "output_type": "display_data"
    }
   ],
   "source": [
    "# survivability vs fare\n",
    "\n",
    "sns.kdeplot(train[\"Fare\"][train[\"Survived\"] == 0], \n",
    "            color=\"black\", label=\"Died\", linestyle=\"--\")\n",
    "sns.kdeplot(train[\"Fare\"][train[\"Survived\"] == 1], \n",
    "            color=\"green\", label=\"Survived\")\n",
    "\n",
    "plt.title(\"Survivability vs Fare\")\n",
    "plt.legend();"
   ]
  },
  {
   "cell_type": "markdown",
   "metadata": {
    "_cell_guid": "89a6a237-32f0-452d-a46a-dbdefeb89868",
    "_uuid": "b0f0a66d-b96e-4e73-a1b0-bdedda2a25f2",
    "collapsed": false,
    "jupyter": {
     "outputs_hidden": false
    },
    "trusted": true
   },
   "source": [
    "### Survivability vis a vis discrete numerical features"
   ]
  },
  {
   "cell_type": "code",
   "execution_count": 149,
   "metadata": {
    "_cell_guid": "58cd570a-5ac2-4e3a-a4c9-d7bc0ca39786",
    "_uuid": "072534a2-1cd5-4b36-999d-da62e92ec481",
    "collapsed": false,
    "execution": {
     "iopub.execute_input": "2025-01-04T05:32:17.781294Z",
     "iopub.status.busy": "2025-01-04T05:32:17.780919Z",
     "iopub.status.idle": "2025-01-04T05:32:18.840474Z",
     "shell.execute_reply": "2025-01-04T05:32:18.839233Z",
     "shell.execute_reply.started": "2025-01-04T05:32:17.781264Z"
    },
    "jupyter": {
     "outputs_hidden": false
    },
    "trusted": true
   },
   "outputs": [
    {
     "data": {
      "image/png": "[encoded data removed]",
      "text/plain": [
       "<Figure size 1000x1000 with 4 Axes>"
      ]
     },
     "metadata": {},
     "output_type": "display_data"
    }
   ],
   "source": [
    "# survivability vs passenger class\n",
    "\n",
    "plt.figure(figsize=(10, 10))\n",
    "plt.subplot(221)\n",
    "sns.countplot(data=train, x=\"Pclass\")\n",
    "\n",
    "plt.subplot(222)\n",
    "sns.countplot(train, x=\"Pclass\", hue=\"Survived\", palette={0: \"black\", 1: \"green\"})\n",
    "\n",
    "plt.subplot(223)\n",
    "sns.barplot(data=train, x=\"Pclass\", y=\"Survived\")\n",
    "\n",
    "plt.subplot(224)\n",
    "sns.barplot(data=train, x=\"Pclass\", y=\"Survived\", hue=\"Sex\");"
   ]
  },
  {
   "cell_type": "code",
   "execution_count": 150,
   "metadata": {
    "_cell_guid": "fe24239a-4bf9-48db-8714-c08d054e997c",
    "_uuid": "bef4ebe0-eaa5-459e-91d4-c5faeefba202",
    "collapsed": false,
    "execution": {
     "iopub.execute_input": "2025-01-04T05:32:18.841816Z",
     "iopub.status.busy": "2025-01-04T05:32:18.841523Z",
     "iopub.status.idle": "2025-01-04T05:32:18.846083Z",
     "shell.execute_reply": "2025-01-04T05:32:18.844942Z",
     "shell.execute_reply.started": "2025-01-04T05:32:18.841791Z"
    },
    "jupyter": {
     "outputs_hidden": false
    },
    "trusted": true
   },
   "outputs": [],
   "source": [
    "# class 1 had better survival probability\n",
    "# females had better survival probability"
   ]
  },
  {
   "cell_type": "code",
   "execution_count": 151,
   "metadata": {
    "_cell_guid": "e4063584-384f-402a-829c-84b62eec0dd7",
    "_uuid": "22862189-423d-451f-af9b-a80ed2d640b7",
    "collapsed": false,
    "execution": {
     "iopub.execute_input": "2025-01-04T05:32:18.847573Z",
     "iopub.status.busy": "2025-01-04T05:32:18.847175Z",
     "iopub.status.idle": "2025-01-04T05:32:19.659811Z",
     "shell.execute_reply": "2025-01-04T05:32:19.658601Z",
     "shell.execute_reply.started": "2025-01-04T05:32:18.847535Z"
    },
    "jupyter": {
     "outputs_hidden": false
    },
    "trusted": true
   },
   "outputs": [
    {
     "data": {
      "image/png": "[encoded data removed]",
      "text/plain": [
       "<Figure size 1800x400 with 3 Axes>"
      ]
     },
     "metadata": {},
     "output_type": "display_data"
    }
   ],
   "source": [
    "# survivability with siblings/spouse\n",
    "\n",
    "plt.figure(figsize=(18, 4))\n",
    "\n",
    "plt.subplot(131)\n",
    "sns.countplot(train, x=\"SibSp\")\n",
    "\n",
    "plt.subplot(132)\n",
    "sns.countplot(train, x=\"SibSp\", hue=\"Survived\", palette={0: \"black\", 1: \"green\"})\n",
    "\n",
    "plt.subplot(133)\n",
    "sns.barplot(train, x=\"SibSp\", y=\"Survived\");"
   ]
  },
  {
   "cell_type": "code",
   "execution_count": 152,
   "metadata": {
    "_cell_guid": "ade7a8b6-39a3-4b86-a044-e7a6bfa1e2b3",
    "_uuid": "4c501016-851c-41c6-b68a-bbdd78b181bc",
    "collapsed": false,
    "execution": {
     "iopub.execute_input": "2025-01-04T05:32:19.661221Z",
     "iopub.status.busy": "2025-01-04T05:32:19.660838Z",
     "iopub.status.idle": "2025-01-04T05:32:19.665286Z",
     "shell.execute_reply": "2025-01-04T05:32:19.664041Z",
     "shell.execute_reply.started": "2025-01-04T05:32:19.661191Z"
    },
    "jupyter": {
     "outputs_hidden": false
    },
    "trusted": true
   },
   "outputs": [],
   "source": [
    "# people with 1 or 2 siblings and/or spouse had better survival change"
   ]
  },
  {
   "cell_type": "code",
   "execution_count": 153,
   "metadata": {
    "_cell_guid": "628b9cf1-a3a8-454c-86cc-9b290d3dc173",
    "_uuid": "7d3b2f2c-c967-4684-8517-d719db10952d",
    "collapsed": false,
    "execution": {
     "iopub.execute_input": "2025-01-04T05:32:19.666656Z",
     "iopub.status.busy": "2025-01-04T05:32:19.666338Z",
     "iopub.status.idle": "2025-01-04T05:32:20.402341Z",
     "shell.execute_reply": "2025-01-04T05:32:20.401168Z",
     "shell.execute_reply.started": "2025-01-04T05:32:19.666630Z"
    },
    "jupyter": {
     "outputs_hidden": false
    },
    "trusted": true
   },
   "outputs": [
    {
     "data": {
      "image/png": "[encoded data removed]",
      "text/plain": [
       "<Figure size 1800x400 with 3 Axes>"
      ]
     },
     "metadata": {},
     "output_type": "display_data"
    }
   ],
   "source": [
    "# survivability with parents/children\n",
    "\n",
    "plt.figure(figsize=(18, 4))\n",
    "\n",
    "plt.subplot(131)\n",
    "sns.countplot(train, x=\"Parch\")\n",
    "\n",
    "plt.subplot(132)\n",
    "sns.countplot(train, x=\"Parch\", hue=\"Survived\", palette={0: \"black\", 1: \"green\"})\n",
    "\n",
    "plt.subplot(133)\n",
    "sns.barplot(train, x=\"Parch\", y=\"Survived\");"
   ]
  },
  {
   "cell_type": "code",
   "execution_count": 154,
   "metadata": {
    "_cell_guid": "72d4c2d2-cf08-4f71-9517-1eed8c7b6d47",
    "_uuid": "83b67b1a-273e-4b23-9e3d-d8ed8b40ea2b",
    "collapsed": false,
    "execution": {
     "iopub.execute_input": "2025-01-04T05:32:20.404158Z",
     "iopub.status.busy": "2025-01-04T05:32:20.403735Z",
     "iopub.status.idle": "2025-01-04T05:32:20.408395Z",
     "shell.execute_reply": "2025-01-04T05:32:20.407292Z",
     "shell.execute_reply.started": "2025-01-04T05:32:20.404114Z"
    },
    "jupyter": {
     "outputs_hidden": false
    },
    "trusted": true
   },
   "outputs": [],
   "source": [
    "# people who were alone, though large in number, had less survival chance\n",
    "# new column \"isAlone\" as it is a major deciding factor\n",
    "# new column \"Family\" which is SibSp + Parch"
   ]
  },
  {
   "cell_type": "code",
   "execution_count": 155,
   "metadata": {
    "_cell_guid": "c914e1c4-4604-4058-afa2-e564369f8b1b",
    "_uuid": "cd9d0018-6ee1-445d-ac78-479b0ac10d0c",
    "collapsed": false,
    "execution": {
     "iopub.execute_input": "2025-01-04T05:32:20.409787Z",
     "iopub.status.busy": "2025-01-04T05:32:20.409434Z",
     "iopub.status.idle": "2025-01-04T05:32:20.430090Z",
     "shell.execute_reply": "2025-01-04T05:32:20.429122Z",
     "shell.execute_reply.started": "2025-01-04T05:32:20.409761Z"
    },
    "jupyter": {
     "outputs_hidden": false
    },
    "trusted": true
   },
   "outputs": [
    {
     "data": {
      "text/plain": [
       "109"
      ]
     },
     "execution_count": 155,
     "metadata": {},
     "output_type": "execute_result"
    }
   ],
   "source": [
    "train.Name.where((train.Survived == 1) & (train.Sex == \"male\")).count()"
   ]
  },
  {
   "cell_type": "markdown",
   "metadata": {
    "_cell_guid": "a8b8a1f2-0797-4ac5-b3f3-56c29c09b11a",
    "_uuid": "3884f566-6249-4d09-a859-9d6d4a438d30",
    "collapsed": false,
    "jupyter": {
     "outputs_hidden": false
    },
    "trusted": true
   },
   "source": [
    "### Survivability vis a vis categorical features"
   ]
  },
  {
   "cell_type": "code",
   "execution_count": 156,
   "metadata": {
    "_cell_guid": "59ae00f4-90ea-4670-a429-702546a706fb",
    "_uuid": "0714d5de-f91c-48a1-b5b6-def06ce0a148",
    "collapsed": false,
    "execution": {
     "iopub.execute_input": "2025-01-04T05:32:20.431440Z",
     "iopub.status.busy": "2025-01-04T05:32:20.431043Z",
     "iopub.status.idle": "2025-01-04T05:32:20.976321Z",
     "shell.execute_reply": "2025-01-04T05:32:20.975199Z",
     "shell.execute_reply.started": "2025-01-04T05:32:20.431403Z"
    },
    "jupyter": {
     "outputs_hidden": false
    },
    "trusted": true
   },
   "outputs": [
    {
     "data": {
      "image/png": "[encoded data removed]",
      "text/plain": [
       "<Figure size 1800x400 with 3 Axes>"
      ]
     },
     "metadata": {},
     "output_type": "display_data"
    }
   ],
   "source": [
    "# survivability vs sex\n",
    "\n",
    "plt.figure(figsize=(18, 4))\n",
    "\n",
    "plt.subplot(131)\n",
    "sns.countplot(train, x=\"Sex\", palette={\"male\": \"lightblue\", \"female\": \"pink\"})\n",
    "\n",
    "plt.subplot(132)\n",
    "sns.countplot(train, x=\"Sex\", hue=\"Survived\", palette={0: \"black\", 1: \"green\"})\n",
    "\n",
    "plt.subplot(133)\n",
    "sns.barplot(train, x=\"Sex\", y=\"Survived\", palette={\"male\": \"lightblue\", \"female\": \"pink\"});"
   ]
  },
  {
   "cell_type": "code",
   "execution_count": 157,
   "metadata": {
    "_cell_guid": "8a915791-27f4-4aba-a140-f6431e5d331f",
    "_uuid": "633f0816-9e16-4ccd-a2df-63f3646b3f73",
    "collapsed": false,
    "execution": {
     "iopub.execute_input": "2025-01-04T05:32:20.977844Z",
     "iopub.status.busy": "2025-01-04T05:32:20.977430Z",
     "iopub.status.idle": "2025-01-04T05:32:22.591241Z",
     "shell.execute_reply": "2025-01-04T05:32:22.590198Z",
     "shell.execute_reply.started": "2025-01-04T05:32:20.977800Z"
    },
    "jupyter": {
     "outputs_hidden": false
    },
    "trusted": true
   },
   "outputs": [
    {
     "data": {
      "image/png": "[encoded data removed]",
      "text/plain": [
       "<Figure size 1000x1000 with 4 Axes>"
      ]
     },
     "metadata": {},
     "output_type": "display_data"
    }
   ],
   "source": [
    "# survivability vs (sex & other feature)\n",
    "\n",
    "plt.figure(figsize=(10, 10))\n",
    "\n",
    "plt.subplot(221)\n",
    "sns.barplot(train, x=\"Sex\", y=\"Survived\", hue=\"Pclass\")\n",
    "\n",
    "plt.subplot(222)\n",
    "sns.barplot(train, x=\"Sex\", y=\"Survived\", hue=\"Embarked\")\n",
    "\n",
    "plt.subplot(223)\n",
    "sns.barplot(train, x=\"Sex\", y=\"Survived\", hue=\"SibSp\")\n",
    "\n",
    "plt.subplot(224)\n",
    "sns.barplot(train, x=\"Sex\", y=\"Survived\", hue=\"Parch\");"
   ]
  },
  {
   "cell_type": "markdown",
   "metadata": {
    "_cell_guid": "87e8cee6-a378-49ec-a271-a8153cb8eb45",
    "_uuid": "7450cd66-bb7b-46d6-a58d-4c5e133c061f",
    "collapsed": false,
    "jupyter": {
     "outputs_hidden": false
    },
    "trusted": true
   },
   "source": [
    "### Completion (Imputation)"
   ]
  },
  {
   "cell_type": "code",
   "execution_count": 158,
   "metadata": {
    "_cell_guid": "81c2989d-ce64-486b-89fa-b20b7e8a40f9",
    "_uuid": "dbfa7c2d-5ee1-4c97-86a6-c017e5d35d9d",
    "collapsed": false,
    "execution": {
     "iopub.execute_input": "2025-01-04T05:32:22.592980Z",
     "iopub.status.busy": "2025-01-04T05:32:22.592567Z",
     "iopub.status.idle": "2025-01-04T05:32:22.607464Z",
     "shell.execute_reply": "2025-01-04T05:32:22.606228Z",
     "shell.execute_reply.started": "2025-01-04T05:32:22.592939Z"
    },
    "jupyter": {
     "outputs_hidden": false
    },
    "trusted": true
   },
   "outputs": [
    {
     "name": "stdout",
     "output_type": "stream",
     "text": [
      "177 Missing values in Age 19.87 %\n",
      "687 Missing values in Cabin 77.1 %\n",
      "2 Missing values in Embarked 0.22 %\n"
     ]
    }
   ],
   "source": [
    "na_vars = [var for var in train.columns if train[var].isnull().sum()]\n",
    "[print(train[var].isnull().sum() ,\"Missing values in\", var, round((train[var].isnull().sum()/891)*100, 2), \"%\") for var in na_vars];"
   ]
  },
  {
   "cell_type": "code",
   "execution_count": 159,
   "metadata": {
    "_cell_guid": "5657c6ba-0f7e-4be7-acb5-afa0ba16153c",
    "_uuid": "60a51c67-f163-42ce-b49d-3676d6dc09d1",
    "collapsed": false,
    "execution": {
     "iopub.execute_input": "2025-01-04T05:32:22.609046Z",
     "iopub.status.busy": "2025-01-04T05:32:22.608617Z",
     "iopub.status.idle": "2025-01-04T05:32:22.875024Z",
     "shell.execute_reply": "2025-01-04T05:32:22.874076Z",
     "shell.execute_reply.started": "2025-01-04T05:32:22.608987Z"
    },
    "jupyter": {
     "outputs_hidden": false
    },
    "trusted": true
   },
   "outputs": [
    {
     "data": {
      "image/png": "[encoded data removed]",
      "text/plain": [
       "<Figure size 800x800 with 1 Axes>"
      ]
     },
     "metadata": {},
     "output_type": "display_data"
    }
   ],
   "source": [
    "plt.figure(figsize=(8, 8))\n",
    "sns.heatmap(train.isnull(), yticklabels=False, cbar=False);"
   ]
  },
  {
   "cell_type": "code",
   "execution_count": 160,
   "metadata": {
    "_cell_guid": "10372fb7-d48c-4c95-ae1f-358eb58f7d84",
    "_uuid": "8e634582-a0eb-4e89-9132-add750b30108",
    "collapsed": false,
    "execution": {
     "iopub.execute_input": "2025-01-04T05:32:22.876637Z",
     "iopub.status.busy": "2025-01-04T05:32:22.876263Z",
     "iopub.status.idle": "2025-01-04T05:32:22.888654Z",
     "shell.execute_reply": "2025-01-04T05:32:22.887674Z",
     "shell.execute_reply.started": "2025-01-04T05:32:22.876604Z"
    },
    "jupyter": {
     "outputs_hidden": false
    },
    "trusted": true
   },
   "outputs": [
    {
     "name": "stdout",
     "output_type": "stream",
     "text": [
      "86 Missing values in Age 9.65 %\n",
      "1 Missing values in Fare 0.11 %\n",
      "327 Missing values in Cabin 36.7 %\n"
     ]
    }
   ],
   "source": [
    "# test \n",
    "na_vars_test = [var for var in test.columns if test[var].isnull().sum()]\n",
    "[print(test[var].isnull().sum() ,\"Missing values in\", var, round((test[var].isnull().sum()/891)*100, 2), \"%\") for var in na_vars_test];"
   ]
  },
  {
   "cell_type": "code",
   "execution_count": 161,
   "metadata": {
    "_cell_guid": "ee21d76f-e73a-4d19-ab4c-ba299961fec2",
    "_uuid": "ea0e541a-588b-41a3-b740-6dcae73d1dba",
    "collapsed": false,
    "execution": {
     "iopub.execute_input": "2025-01-04T05:32:22.890373Z",
     "iopub.status.busy": "2025-01-04T05:32:22.889931Z",
     "iopub.status.idle": "2025-01-04T05:32:23.136646Z",
     "shell.execute_reply": "2025-01-04T05:32:23.135523Z",
     "shell.execute_reply.started": "2025-01-04T05:32:22.890331Z"
    },
    "jupyter": {
     "outputs_hidden": false
    },
    "trusted": true
   },
   "outputs": [
    {
     "data": {
      "image/png": "[encoded data removed]",
      "text/plain": [
       "<Figure size 800x800 with 1 Axes>"
      ]
     },
     "metadata": {},
     "output_type": "display_data"
    }
   ],
   "source": [
    "plt.figure(figsize=(8, 8))\n",
    "sns.heatmap(test.isnull(), yticklabels=False, cbar=False);"
   ]
  },
  {
   "cell_type": "code",
   "execution_count": 162,
   "metadata": {
    "_cell_guid": "18287160-a81c-41ae-a7f0-27c45b3e9141",
    "_uuid": "22bc0dfd-0d6b-420f-98f3-ca14847b92ff",
    "collapsed": false,
    "execution": {
     "iopub.execute_input": "2025-01-04T05:32:23.137932Z",
     "iopub.status.busy": "2025-01-04T05:32:23.137648Z",
     "iopub.status.idle": "2025-01-04T05:32:23.492615Z",
     "shell.execute_reply": "2025-01-04T05:32:23.491526Z",
     "shell.execute_reply.started": "2025-01-04T05:32:23.137907Z"
    },
    "jupyter": {
     "outputs_hidden": false
    },
    "trusted": true
   },
   "outputs": [
    {
     "data": {
      "image/png": "[encoded data removed]",
      "text/plain": [
       "<Figure size 800x400 with 2 Axes>"
      ]
     },
     "metadata": {},
     "output_type": "display_data"
    }
   ],
   "source": [
    "# to fill the missing values in Age and Fare, we have to check their distributions\n",
    "plt.figure(figsize=(8, 4))\n",
    "plt.subplot(121)\n",
    "plt.hist(train[\"Age\"], bins=20)\n",
    "\n",
    "plt.subplot(122)\n",
    "plt.hist(train[\"Fare\"], bins=20);"
   ]
  },
  {
   "cell_type": "code",
   "execution_count": 163,
   "metadata": {
    "_cell_guid": "207a5177-84fc-4dec-adf3-5a0cec658724",
    "_uuid": "d69f974c-bb71-47ab-bea5-268ce0734414",
    "collapsed": false,
    "execution": {
     "iopub.execute_input": "2025-01-04T05:32:23.494159Z",
     "iopub.status.busy": "2025-01-04T05:32:23.493780Z",
     "iopub.status.idle": "2025-01-04T05:32:23.497874Z",
     "shell.execute_reply": "2025-01-04T05:32:23.496854Z",
     "shell.execute_reply.started": "2025-01-04T05:32:23.494122Z"
    },
    "jupyter": {
     "outputs_hidden": false
    },
    "trusted": true
   },
   "outputs": [],
   "source": [
    "# for Age, it is better to fill it with median value\n",
    "# same goes for the Fare"
   ]
  },
  {
   "cell_type": "code",
   "execution_count": 164,
   "metadata": {
    "_cell_guid": "51f0e280-3b74-4f35-ac72-c61b7f31c367",
    "_uuid": "fc23d396-beb7-409f-b5f6-87e70eb7a2a8",
    "collapsed": false,
    "execution": {
     "iopub.execute_input": "2025-01-04T05:32:23.499155Z",
     "iopub.status.busy": "2025-01-04T05:32:23.498823Z",
     "iopub.status.idle": "2025-01-04T05:32:23.517988Z",
     "shell.execute_reply": "2025-01-04T05:32:23.516892Z",
     "shell.execute_reply.started": "2025-01-04T05:32:23.499122Z"
    },
    "jupyter": {
     "outputs_hidden": false
    },
    "trusted": true
   },
   "outputs": [
    {
     "data": {
      "text/plain": [
       "Embarked\n",
       "S    644\n",
       "C    168\n",
       "Q     77\n",
       "Name: count, dtype: int64"
      ]
     },
     "execution_count": 164,
     "metadata": {},
     "output_type": "execute_result"
    }
   ],
   "source": [
    "train.Embarked.value_counts()"
   ]
  },
  {
   "cell_type": "code",
   "execution_count": 165,
   "metadata": {
    "_cell_guid": "da7f8e8b-da23-4170-9276-3c0ae4a3a57d",
    "_uuid": "f94be8df-1a6c-4833-8865-1261df8f2243",
    "collapsed": false,
    "execution": {
     "iopub.execute_input": "2025-01-04T05:32:23.519640Z",
     "iopub.status.busy": "2025-01-04T05:32:23.519224Z",
     "iopub.status.idle": "2025-01-04T05:32:23.531478Z",
     "shell.execute_reply": "2025-01-04T05:32:23.530439Z",
     "shell.execute_reply.started": "2025-01-04T05:32:23.519597Z"
    },
    "jupyter": {
     "outputs_hidden": false
    },
    "trusted": true
   },
   "outputs": [],
   "source": [
    "# it is better to fille Embarked with mode, i.e, \"S\""
   ]
  },
  {
   "cell_type": "code",
   "execution_count": 166,
   "metadata": {
    "_cell_guid": "5243e6f9-6055-4f22-830c-87ae27ba5970",
    "_uuid": "51fefb41-39aa-421e-961b-d4a289f52bba",
    "collapsed": false,
    "execution": {
     "iopub.execute_input": "2025-01-04T05:32:23.532908Z",
     "iopub.status.busy": "2025-01-04T05:32:23.532493Z",
     "iopub.status.idle": "2025-01-04T05:32:23.549482Z",
     "shell.execute_reply": "2025-01-04T05:32:23.548375Z",
     "shell.execute_reply.started": "2025-01-04T05:32:23.532867Z"
    },
    "jupyter": {
     "outputs_hidden": false
    },
    "trusted": true
   },
   "outputs": [
    {
     "data": {
      "text/plain": [
       "array([nan, 'C85', 'C123', 'E46', 'G6', 'C103', 'D56', 'A6',\n",
       "       'C23 C25 C27', 'B78', 'D33', 'B30', 'C52', 'B28', 'C83', 'F33',\n",
       "       'F G73', 'E31', 'A5', 'D10 D12', 'D26', 'C110', 'B58 B60', 'E101',\n",
       "       'F E69', 'D47', 'B86', 'F2', 'C2', 'E33', 'B19', 'A7', 'C49', 'F4',\n",
       "       'A32', 'B4', 'B80', 'A31', 'D36', 'D15', 'C93', 'C78', 'D35',\n",
       "       'C87', 'B77', 'E67', 'B94', 'C125', 'C99', 'C118', 'D7', 'A19',\n",
       "       'B49', 'D', 'C22 C26', 'C106', 'C65', 'E36', 'C54',\n",
       "       'B57 B59 B63 B66', 'C7', 'E34', 'C32', 'B18', 'C124', 'C91', 'E40',\n",
       "       'T', 'C128', 'D37', 'B35', 'E50', 'C82', 'B96 B98', 'E10', 'E44',\n",
       "       'A34', 'C104', 'C111', 'C92', 'E38', 'D21', 'E12', 'E63', 'A14',\n",
       "       'B37', 'C30', 'D20', 'B79', 'E25', 'D46', 'B73', 'C95', 'B38',\n",
       "       'B39', 'B22', 'C86', 'C70', 'A16', 'C101', 'C68', 'A10', 'E68',\n",
       "       'B41', 'A20', 'D19', 'D50', 'D9', 'A23', 'B50', 'A26', 'D48',\n",
       "       'E58', 'C126', 'B71', 'B51 B53 B55', 'D49', 'B5', 'B20', 'F G63',\n",
       "       'C62 C64', 'E24', 'C90', 'C45', 'E8', 'B101', 'D45', 'C46', 'D30',\n",
       "       'E121', 'D11', 'E77', 'F38', 'B3', 'D6', 'B82 B84', 'D17', 'A36',\n",
       "       'B102', 'B69', 'E49', 'C47', 'D28', 'E17', 'A24', 'C50', 'B42',\n",
       "       'C148'], dtype=object)"
      ]
     },
     "execution_count": 166,
     "metadata": {},
     "output_type": "execute_result"
    }
   ],
   "source": [
    "train.Cabin.unique()"
   ]
  },
  {
   "cell_type": "code",
   "execution_count": 167,
   "metadata": {
    "_cell_guid": "e7273b6b-8263-4e4a-872f-bbe4818e053d",
    "_uuid": "bf49faba-b557-4ade-9904-7d992429e678",
    "collapsed": false,
    "execution": {
     "iopub.execute_input": "2025-01-04T05:32:23.551264Z",
     "iopub.status.busy": "2025-01-04T05:32:23.550828Z",
     "iopub.status.idle": "2025-01-04T05:32:23.566402Z",
     "shell.execute_reply": "2025-01-04T05:32:23.565212Z",
     "shell.execute_reply.started": "2025-01-04T05:32:23.551224Z"
    },
    "jupyter": {
     "outputs_hidden": false
    },
    "trusted": true
   },
   "outputs": [],
   "source": [
    "# Since Cabin values start with letters and range from A-G and T, we can assume the people with missing cabin\n",
    "# information travlled without one and label all of them with a single alphabet, say \"H\""
   ]
  },
  {
   "cell_type": "code",
   "execution_count": 168,
   "metadata": {
    "_cell_guid": "37656a6a-cf09-4077-af14-72d9c817a088",
    "_uuid": "e4326235-285f-475b-bd8b-728195931ef6",
    "collapsed": false,
    "execution": {
     "iopub.execute_input": "2025-01-04T05:32:23.567967Z",
     "iopub.status.busy": "2025-01-04T05:32:23.567664Z",
     "iopub.status.idle": "2025-01-04T05:32:26.509139Z",
     "shell.execute_reply": "2025-01-04T05:32:26.508183Z",
     "shell.execute_reply.started": "2025-01-04T05:32:23.567942Z"
    },
    "jupyter": {
     "outputs_hidden": false
    },
    "trusted": true
   },
   "outputs": [
    {
     "data": {
      "text/plain": [
       "array(['Mr', 'Mrs', 'Miss', 'Master', 'Don', 'Rev', 'Dr', 'Mme', 'Ms',\n",
       "       'Major', 'Lady', 'Sir', 'Mlle', 'Col', 'Capt', 'Countess',\n",
       "       'Jonkheer'], dtype=object)"
      ]
     },
     "execution_count": 168,
     "metadata": {},
     "output_type": "execute_result"
    }
   ],
   "source": [
    "# using Name to fill missing values in Age\n",
    "\n",
    "for dataset in data:\n",
    "    for i in dataset[\"Name\"]:\n",
    "        dataset[\"Title\"] = dataset[\"Name\"].str.extract(\"([A-Za-z]+)\\.\")\n",
    "\n",
    "train.Title.unique()"
   ]
  },
  {
   "cell_type": "code",
   "execution_count": 169,
   "metadata": {
    "_cell_guid": "a5864e76-cd89-4c51-a651-34898c3edd1f",
    "_uuid": "bb9b9a09-0514-40b7-9615-d84a0860942b",
    "collapsed": false,
    "execution": {
     "iopub.execute_input": "2025-01-04T05:32:26.510353Z",
     "iopub.status.busy": "2025-01-04T05:32:26.510088Z",
     "iopub.status.idle": "2025-01-04T05:32:26.528779Z",
     "shell.execute_reply": "2025-01-04T05:32:26.527868Z",
     "shell.execute_reply.started": "2025-01-04T05:32:26.510330Z"
    },
    "jupyter": {
     "outputs_hidden": false
    },
    "trusted": true
   },
   "outputs": [
    {
     "data": {
      "text/html": [
       "<div>\n",
       "<style scoped>\n",
       "    .dataframe tbody tr th:only-of-type {\n",
       "        vertical-align: middle;\n",
       "    }\n",
       "\n",
       "    .dataframe tbody tr th {\n",
       "        vertical-align: top;\n",
       "    }\n",
       "\n",
       "    .dataframe thead th {\n",
       "        text-align: right;\n",
       "    }\n",
       "</style>\n",
       "<table border=\"1\" class=\"dataframe\">\n",
       "  <thead>\n",
       "    <tr style=\"text-align: right;\">\n",
       "      <th>Sex</th>\n",
       "      <th>female</th>\n",
       "      <th>male</th>\n",
       "    </tr>\n",
       "    <tr>\n",
       "      <th>Title</th>\n",
       "      <th></th>\n",
       "      <th></th>\n",
       "    </tr>\n",
       "  </thead>\n",
       "  <tbody>\n",
       "    <tr>\n",
       "      <th>Capt</th>\n",
       "      <td>0</td>\n",
       "      <td>1</td>\n",
       "    </tr>\n",
       "    <tr>\n",
       "      <th>Col</th>\n",
       "      <td>0</td>\n",
       "      <td>2</td>\n",
       "    </tr>\n",
       "    <tr>\n",
       "      <th>Countess</th>\n",
       "      <td>1</td>\n",
       "      <td>0</td>\n",
       "    </tr>\n",
       "    <tr>\n",
       "      <th>Don</th>\n",
       "      <td>0</td>\n",
       "      <td>1</td>\n",
       "    </tr>\n",
       "    <tr>\n",
       "      <th>Dr</th>\n",
       "      <td>1</td>\n",
       "      <td>6</td>\n",
       "    </tr>\n",
       "    <tr>\n",
       "      <th>Jonkheer</th>\n",
       "      <td>0</td>\n",
       "      <td>1</td>\n",
       "    </tr>\n",
       "    <tr>\n",
       "      <th>Lady</th>\n",
       "      <td>1</td>\n",
       "      <td>0</td>\n",
       "    </tr>\n",
       "    <tr>\n",
       "      <th>Major</th>\n",
       "      <td>0</td>\n",
       "      <td>2</td>\n",
       "    </tr>\n",
       "    <tr>\n",
       "      <th>Master</th>\n",
       "      <td>0</td>\n",
       "      <td>40</td>\n",
       "    </tr>\n",
       "    <tr>\n",
       "      <th>Miss</th>\n",
       "      <td>182</td>\n",
       "      <td>0</td>\n",
       "    </tr>\n",
       "    <tr>\n",
       "      <th>Mlle</th>\n",
       "      <td>2</td>\n",
       "      <td>0</td>\n",
       "    </tr>\n",
       "    <tr>\n",
       "      <th>Mme</th>\n",
       "      <td>1</td>\n",
       "      <td>0</td>\n",
       "    </tr>\n",
       "    <tr>\n",
       "      <th>Mr</th>\n",
       "      <td>0</td>\n",
       "      <td>517</td>\n",
       "    </tr>\n",
       "    <tr>\n",
       "      <th>Mrs</th>\n",
       "      <td>125</td>\n",
       "      <td>0</td>\n",
       "    </tr>\n",
       "    <tr>\n",
       "      <th>Ms</th>\n",
       "      <td>1</td>\n",
       "      <td>0</td>\n",
       "    </tr>\n",
       "    <tr>\n",
       "      <th>Rev</th>\n",
       "      <td>0</td>\n",
       "      <td>6</td>\n",
       "    </tr>\n",
       "    <tr>\n",
       "      <th>Sir</th>\n",
       "      <td>0</td>\n",
       "      <td>1</td>\n",
       "    </tr>\n",
       "  </tbody>\n",
       "</table>\n",
       "</div>"
      ],
      "text/plain": [
       "Sex       female  male\n",
       "Title                 \n",
       "Capt           0     1\n",
       "Col            0     2\n",
       "Countess       1     0\n",
       "Don            0     1\n",
       "Dr             1     6\n",
       "Jonkheer       0     1\n",
       "Lady           1     0\n",
       "Major          0     2\n",
       "Master         0    40\n",
       "Miss         182     0\n",
       "Mlle           2     0\n",
       "Mme            1     0\n",
       "Mr             0   517\n",
       "Mrs          125     0\n",
       "Ms             1     0\n",
       "Rev            0     6\n",
       "Sir            0     1"
      ]
     },
     "execution_count": 169,
     "metadata": {},
     "output_type": "execute_result"
    }
   ],
   "source": [
    "pd.crosstab(train.Title, train.Sex)"
   ]
  },
  {
   "cell_type": "code",
   "execution_count": 170,
   "metadata": {
    "_cell_guid": "a5212946-e8d3-472c-8143-e6e60f9ac0b6",
    "_uuid": "8e1bda7f-b0eb-44c4-867a-816e0ed117ec",
    "collapsed": false,
    "execution": {
     "iopub.execute_input": "2025-01-04T05:32:26.530123Z",
     "iopub.status.busy": "2025-01-04T05:32:26.529793Z",
     "iopub.status.idle": "2025-01-04T05:32:26.556622Z",
     "shell.execute_reply": "2025-01-04T05:32:26.555721Z",
     "shell.execute_reply.started": "2025-01-04T05:32:26.530063Z"
    },
    "jupyter": {
     "outputs_hidden": false
    },
    "trusted": true
   },
   "outputs": [
    {
     "data": {
      "text/html": [
       "<div>\n",
       "<style scoped>\n",
       "    .dataframe tbody tr th:only-of-type {\n",
       "        vertical-align: middle;\n",
       "    }\n",
       "\n",
       "    .dataframe tbody tr th {\n",
       "        vertical-align: top;\n",
       "    }\n",
       "\n",
       "    .dataframe thead th {\n",
       "        text-align: right;\n",
       "    }\n",
       "</style>\n",
       "<table border=\"1\" class=\"dataframe\">\n",
       "  <thead>\n",
       "    <tr style=\"text-align: right;\">\n",
       "      <th>Sex</th>\n",
       "      <th>female</th>\n",
       "      <th>male</th>\n",
       "    </tr>\n",
       "    <tr>\n",
       "      <th>Title</th>\n",
       "      <th></th>\n",
       "      <th></th>\n",
       "    </tr>\n",
       "  </thead>\n",
       "  <tbody>\n",
       "    <tr>\n",
       "      <th>Col</th>\n",
       "      <td>0</td>\n",
       "      <td>2</td>\n",
       "    </tr>\n",
       "    <tr>\n",
       "      <th>Dona</th>\n",
       "      <td>1</td>\n",
       "      <td>0</td>\n",
       "    </tr>\n",
       "    <tr>\n",
       "      <th>Dr</th>\n",
       "      <td>0</td>\n",
       "      <td>1</td>\n",
       "    </tr>\n",
       "    <tr>\n",
       "      <th>Master</th>\n",
       "      <td>0</td>\n",
       "      <td>21</td>\n",
       "    </tr>\n",
       "    <tr>\n",
       "      <th>Miss</th>\n",
       "      <td>78</td>\n",
       "      <td>0</td>\n",
       "    </tr>\n",
       "    <tr>\n",
       "      <th>Mr</th>\n",
       "      <td>0</td>\n",
       "      <td>240</td>\n",
       "    </tr>\n",
       "    <tr>\n",
       "      <th>Mrs</th>\n",
       "      <td>72</td>\n",
       "      <td>0</td>\n",
       "    </tr>\n",
       "    <tr>\n",
       "      <th>Ms</th>\n",
       "      <td>1</td>\n",
       "      <td>0</td>\n",
       "    </tr>\n",
       "    <tr>\n",
       "      <th>Rev</th>\n",
       "      <td>0</td>\n",
       "      <td>2</td>\n",
       "    </tr>\n",
       "  </tbody>\n",
       "</table>\n",
       "</div>"
      ],
      "text/plain": [
       "Sex     female  male\n",
       "Title               \n",
       "Col          0     2\n",
       "Dona         1     0\n",
       "Dr           0     1\n",
       "Master       0    21\n",
       "Miss        78     0\n",
       "Mr           0   240\n",
       "Mrs         72     0\n",
       "Ms           1     0\n",
       "Rev          0     2"
      ]
     },
     "execution_count": 170,
     "metadata": {},
     "output_type": "execute_result"
    }
   ],
   "source": [
    "pd.crosstab(test.Title, test.Sex)"
   ]
  },
  {
   "cell_type": "code",
   "execution_count": 171,
   "metadata": {
    "_cell_guid": "71ccf6f2-60c7-44f4-b4a5-2859a3ad25ca",
    "_uuid": "2b517b10-509f-43dc-b911-e825c1915a61",
    "collapsed": false,
    "execution": {
     "iopub.execute_input": "2025-01-04T05:32:26.557966Z",
     "iopub.status.busy": "2025-01-04T05:32:26.557687Z",
     "iopub.status.idle": "2025-01-04T05:32:26.576789Z",
     "shell.execute_reply": "2025-01-04T05:32:26.575836Z",
     "shell.execute_reply.started": "2025-01-04T05:32:26.557942Z"
    },
    "jupyter": {
     "outputs_hidden": false
    },
    "trusted": true
   },
   "outputs": [],
   "source": [
    "mapping = {\n",
    "    \"Capt\": \"Mr\", \"Col\": \"Mr\", \"Don\": \"Mr\", \"Jonkheer\": \"Mr\", \"Major\": \"Mr\", \"Rev\": \"Mr\", \"Sir\": \"Mr\",\n",
    "    \"Mlle\": \"Miss\", \"Mme\": \"Miss\", \"Lady\": \"Mrs\", \"Countess\": \"Mrs\", \"Ms\": \"Miss\",  \"Dona\": \"Mrs\"\n",
    "}\n",
    "\n",
    "for dataset in data:\n",
    "    dataset.replace({\"Title\": mapping}, inplace=True)"
   ]
  },
  {
   "cell_type": "code",
   "execution_count": 172,
   "metadata": {
    "_cell_guid": "3a0af84e-b4d1-43e4-baf0-3f7990cb48d1",
    "_uuid": "cd1d9435-e957-4d01-8ee2-e12a03848ac5",
    "collapsed": false,
    "execution": {
     "iopub.execute_input": "2025-01-04T05:32:26.578195Z",
     "iopub.status.busy": "2025-01-04T05:32:26.577797Z",
     "iopub.status.idle": "2025-01-04T05:32:26.603527Z",
     "shell.execute_reply": "2025-01-04T05:32:26.602576Z",
     "shell.execute_reply.started": "2025-01-04T05:32:26.578158Z"
    },
    "jupyter": {
     "outputs_hidden": false
    },
    "trusted": true
   },
   "outputs": [
    {
     "data": {
      "text/html": [
       "<div>\n",
       "<style scoped>\n",
       "    .dataframe tbody tr th:only-of-type {\n",
       "        vertical-align: middle;\n",
       "    }\n",
       "\n",
       "    .dataframe tbody tr th {\n",
       "        vertical-align: top;\n",
       "    }\n",
       "\n",
       "    .dataframe thead th {\n",
       "        text-align: right;\n",
       "    }\n",
       "</style>\n",
       "<table border=\"1\" class=\"dataframe\">\n",
       "  <thead>\n",
       "    <tr style=\"text-align: right;\">\n",
       "      <th>Sex</th>\n",
       "      <th>female</th>\n",
       "      <th>male</th>\n",
       "    </tr>\n",
       "    <tr>\n",
       "      <th>Title</th>\n",
       "      <th></th>\n",
       "      <th></th>\n",
       "    </tr>\n",
       "  </thead>\n",
       "  <tbody>\n",
       "    <tr>\n",
       "      <th>Dr</th>\n",
       "      <td>1</td>\n",
       "      <td>6</td>\n",
       "    </tr>\n",
       "    <tr>\n",
       "      <th>Master</th>\n",
       "      <td>0</td>\n",
       "      <td>40</td>\n",
       "    </tr>\n",
       "    <tr>\n",
       "      <th>Miss</th>\n",
       "      <td>186</td>\n",
       "      <td>0</td>\n",
       "    </tr>\n",
       "    <tr>\n",
       "      <th>Mr</th>\n",
       "      <td>0</td>\n",
       "      <td>531</td>\n",
       "    </tr>\n",
       "    <tr>\n",
       "      <th>Mrs</th>\n",
       "      <td>127</td>\n",
       "      <td>0</td>\n",
       "    </tr>\n",
       "  </tbody>\n",
       "</table>\n",
       "</div>"
      ],
      "text/plain": [
       "Sex     female  male\n",
       "Title               \n",
       "Dr           1     6\n",
       "Master       0    40\n",
       "Miss       186     0\n",
       "Mr           0   531\n",
       "Mrs        127     0"
      ]
     },
     "execution_count": 172,
     "metadata": {},
     "output_type": "execute_result"
    }
   ],
   "source": [
    "pd.crosstab(train.Title, train.Sex)"
   ]
  },
  {
   "cell_type": "code",
   "execution_count": 173,
   "metadata": {
    "_cell_guid": "68ab879e-78ca-446b-b4b8-b46c57ef5ad2",
    "_uuid": "47640323-2ebd-4eba-8d88-7713c8ec36b3",
    "collapsed": false,
    "execution": {
     "iopub.execute_input": "2025-01-04T05:32:26.604994Z",
     "iopub.status.busy": "2025-01-04T05:32:26.604615Z",
     "iopub.status.idle": "2025-01-04T05:32:26.621002Z",
     "shell.execute_reply": "2025-01-04T05:32:26.620010Z",
     "shell.execute_reply.started": "2025-01-04T05:32:26.604959Z"
    },
    "jupyter": {
     "outputs_hidden": false
    },
    "trusted": true
   },
   "outputs": [
    {
     "data": {
      "text/html": [
       "<div>\n",
       "<style scoped>\n",
       "    .dataframe tbody tr th:only-of-type {\n",
       "        vertical-align: middle;\n",
       "    }\n",
       "\n",
       "    .dataframe tbody tr th {\n",
       "        vertical-align: top;\n",
       "    }\n",
       "\n",
       "    .dataframe thead th {\n",
       "        text-align: right;\n",
       "    }\n",
       "</style>\n",
       "<table border=\"1\" class=\"dataframe\">\n",
       "  <thead>\n",
       "    <tr style=\"text-align: right;\">\n",
       "      <th>Sex</th>\n",
       "      <th>female</th>\n",
       "      <th>male</th>\n",
       "    </tr>\n",
       "    <tr>\n",
       "      <th>Title</th>\n",
       "      <th></th>\n",
       "      <th></th>\n",
       "    </tr>\n",
       "  </thead>\n",
       "  <tbody>\n",
       "    <tr>\n",
       "      <th>Dr</th>\n",
       "      <td>0</td>\n",
       "      <td>1</td>\n",
       "    </tr>\n",
       "    <tr>\n",
       "      <th>Master</th>\n",
       "      <td>0</td>\n",
       "      <td>21</td>\n",
       "    </tr>\n",
       "    <tr>\n",
       "      <th>Miss</th>\n",
       "      <td>79</td>\n",
       "      <td>0</td>\n",
       "    </tr>\n",
       "    <tr>\n",
       "      <th>Mr</th>\n",
       "      <td>0</td>\n",
       "      <td>244</td>\n",
       "    </tr>\n",
       "    <tr>\n",
       "      <th>Mrs</th>\n",
       "      <td>73</td>\n",
       "      <td>0</td>\n",
       "    </tr>\n",
       "  </tbody>\n",
       "</table>\n",
       "</div>"
      ],
      "text/plain": [
       "Sex     female  male\n",
       "Title               \n",
       "Dr           0     1\n",
       "Master       0    21\n",
       "Miss        79     0\n",
       "Mr           0   244\n",
       "Mrs         73     0"
      ]
     },
     "execution_count": 173,
     "metadata": {},
     "output_type": "execute_result"
    }
   ],
   "source": [
    "pd.crosstab(test.Title, test.Sex)"
   ]
  },
  {
   "cell_type": "code",
   "execution_count": 174,
   "metadata": {
    "_cell_guid": "4696f3cb-d36a-4b9d-97e5-6d16cb34bbed",
    "_uuid": "4c1f696e-2375-4262-b05b-b211dc6f3b9e",
    "collapsed": false,
    "execution": {
     "iopub.execute_input": "2025-01-04T05:32:26.622437Z",
     "iopub.status.busy": "2025-01-04T05:32:26.622040Z",
     "iopub.status.idle": "2025-01-04T05:32:26.663108Z",
     "shell.execute_reply": "2025-01-04T05:32:26.662238Z",
     "shell.execute_reply.started": "2025-01-04T05:32:26.622399Z"
    },
    "jupyter": {
     "outputs_hidden": false
    },
    "trusted": true
   },
   "outputs": [],
   "source": [
    "# Age imputation from median age of Title\n",
    "\n",
    "titles = list(train.Title.unique())\n",
    "\n",
    "for dataset in data:\n",
    "    for title in titles:\n",
    "        imputed_age = dataset.groupby(\"Title\")[\"Age\"].median()[titles.index(title)]\n",
    "        dataset.loc[((dataset.Age.isnull()) & (train.Title == title)), \"Age\"] = imputed_age"
   ]
  },
  {
   "cell_type": "code",
   "execution_count": 175,
   "metadata": {
    "_cell_guid": "e6a581df-daad-4e57-9d0e-d9483f340cd3",
    "_uuid": "51ce05f9-61f1-493f-bfe0-7c1b49b6d6a4",
    "collapsed": false,
    "execution": {
     "iopub.execute_input": "2025-01-04T05:32:26.664306Z",
     "iopub.status.busy": "2025-01-04T05:32:26.664023Z",
     "iopub.status.idle": "2025-01-04T05:32:26.674062Z",
     "shell.execute_reply": "2025-01-04T05:32:26.672694Z",
     "shell.execute_reply.started": "2025-01-04T05:32:26.664283Z"
    },
    "jupyter": {
     "outputs_hidden": false
    },
    "trusted": true
   },
   "outputs": [],
   "source": [
    "# filling missing values of Embarked, Fare and Cabin with fillna()\n",
    "\n",
    "for dataset in data:\n",
    "    dataset.Embarked.fillna(dataset.Embarked.mode()[0], inplace=True)\n",
    "    dataset.Fare.fillna(dataset.Fare.median(), inplace=True)\n",
    "    dataset.Cabin.fillna(\"H\", inplace=True)"
   ]
  },
  {
   "cell_type": "code",
   "execution_count": 176,
   "metadata": {
    "_cell_guid": "147cd985-a11b-491e-9751-247e517a9edc",
    "_uuid": "1cec12f4-d5f5-4804-94c4-cbd4e5081a3d",
    "collapsed": false,
    "execution": {
     "iopub.execute_input": "2025-01-04T05:32:26.675730Z",
     "iopub.status.busy": "2025-01-04T05:32:26.675376Z",
     "iopub.status.idle": "2025-01-04T05:32:26.692644Z",
     "shell.execute_reply": "2025-01-04T05:32:26.691505Z",
     "shell.execute_reply.started": "2025-01-04T05:32:26.675692Z"
    },
    "jupyter": {
     "outputs_hidden": false
    },
    "trusted": true
   },
   "outputs": [],
   "source": [
    "# train.pivot_table(index=[\"Ticket\"], aggfunc=\"size\")"
   ]
  },
  {
   "cell_type": "code",
   "execution_count": 177,
   "metadata": {
    "_cell_guid": "95981397-318d-4332-b795-cdb36317cea2",
    "_uuid": "b03a6417-ee39-4913-b26d-67e8561d0237",
    "collapsed": false,
    "execution": {
     "iopub.execute_input": "2025-01-04T05:32:26.693995Z",
     "iopub.status.busy": "2025-01-04T05:32:26.693679Z",
     "iopub.status.idle": "2025-01-04T05:32:26.716325Z",
     "shell.execute_reply": "2025-01-04T05:32:26.715204Z",
     "shell.execute_reply.started": "2025-01-04T05:32:26.693969Z"
    },
    "jupyter": {
     "outputs_hidden": false
    },
    "trusted": true
   },
   "outputs": [
    {
     "data": {
      "text/plain": [
       "(0, 0)"
      ]
     },
     "execution_count": 177,
     "metadata": {},
     "output_type": "execute_result"
    }
   ],
   "source": [
    "train.isnull().sum().sum(), test.isnull().sum().sum()"
   ]
  },
  {
   "cell_type": "code",
   "execution_count": 178,
   "metadata": {
    "_cell_guid": "f2a2311d-eaf1-40d7-a953-0346521af874",
    "_uuid": "7e7e2f9d-b374-4c34-bbde-6645346a31ca",
    "collapsed": false,
    "execution": {
     "iopub.execute_input": "2025-01-04T05:32:26.717740Z",
     "iopub.status.busy": "2025-01-04T05:32:26.717459Z",
     "iopub.status.idle": "2025-01-04T05:32:26.731920Z",
     "shell.execute_reply": "2025-01-04T05:32:26.730912Z",
     "shell.execute_reply.started": "2025-01-04T05:32:26.717718Z"
    },
    "jupyter": {
     "outputs_hidden": false
    },
    "trusted": true
   },
   "outputs": [],
   "source": [
    "# no missing values"
   ]
  },
  {
   "cell_type": "markdown",
   "metadata": {
    "_cell_guid": "49d608df-4234-419f-ad3e-11d22c79c879",
    "_uuid": "dcf095e6-8b7b-47ac-ba0b-b9f2b1236be8",
    "collapsed": false,
    "jupyter": {
     "outputs_hidden": false
    },
    "trusted": true
   },
   "source": [
    "### Creating"
   ]
  },
  {
   "cell_type": "code",
   "execution_count": 179,
   "metadata": {
    "_cell_guid": "20546bf2-1ff3-46f3-beee-1e4894771502",
    "_uuid": "79ede4d1-093a-4532-a53f-d383f624ec16",
    "collapsed": false,
    "execution": {
     "iopub.execute_input": "2025-01-04T05:32:26.733215Z",
     "iopub.status.busy": "2025-01-04T05:32:26.732892Z",
     "iopub.status.idle": "2025-01-04T05:32:27.253226Z",
     "shell.execute_reply": "2025-01-04T05:32:27.252283Z",
     "shell.execute_reply.started": "2025-01-04T05:32:26.733171Z"
    },
    "jupyter": {
     "outputs_hidden": false
    },
    "trusted": true
   },
   "outputs": [
    {
     "data": {
      "image/png": "[encoded data removed]",
      "text/plain": [
       "<Figure size 1000x400 with 2 Axes>"
      ]
     },
     "metadata": {},
     "output_type": "display_data"
    }
   ],
   "source": [
    "# relationship of Survived with SibSp/Parch\n",
    "plt.figure(figsize=(10, 4))\n",
    "\n",
    "plt.subplot(121)\n",
    "sns.countplot(train, x=\"SibSp\", hue=\"Survived\", palette={0: \"black\", 1: \"green\"})\n",
    "\n",
    "plt.subplot(122)\n",
    "sns.countplot(train, x=\"Parch\", hue=\"Survived\", palette={0: \"black\", 1: \"green\"});"
   ]
  },
  {
   "cell_type": "code",
   "execution_count": 180,
   "metadata": {
    "_cell_guid": "a2d79be1-a084-4982-a23f-c814fadd3ec5",
    "_uuid": "8fbac700-6694-4a39-b410-3eb57c32c913",
    "collapsed": false,
    "execution": {
     "iopub.execute_input": "2025-01-04T05:32:27.254703Z",
     "iopub.status.busy": "2025-01-04T05:32:27.254298Z",
     "iopub.status.idle": "2025-01-04T05:32:27.264087Z",
     "shell.execute_reply": "2025-01-04T05:32:27.262976Z",
     "shell.execute_reply.started": "2025-01-04T05:32:27.254652Z"
    },
    "jupyter": {
     "outputs_hidden": false
    },
    "trusted": true
   },
   "outputs": [],
   "source": [
    "for dataset in data:\n",
    "    dataset[\"Family\"] = dataset[\"SibSp\"] + dataset[\"Parch\"] + 1 # 1 for the person themself\n",
    "    dataset[\"isAlone\"] = 1\n",
    "    dataset[\"isAlone\"].loc[dataset[\"Family\"] > 1] = 0 # if family, then mark isAlone False"
   ]
  },
  {
   "cell_type": "code",
   "execution_count": 181,
   "metadata": {
    "_cell_guid": "4459ce84-b102-45ff-9ca0-d4613d502d43",
    "_uuid": "de14b060-0225-4a1f-a869-36c74bd82ecd",
    "collapsed": false,
    "execution": {
     "iopub.execute_input": "2025-01-04T05:32:27.265438Z",
     "iopub.status.busy": "2025-01-04T05:32:27.265070Z",
     "iopub.status.idle": "2025-01-04T05:32:27.299245Z",
     "shell.execute_reply": "2025-01-04T05:32:27.298141Z",
     "shell.execute_reply.started": "2025-01-04T05:32:27.265409Z"
    },
    "jupyter": {
     "outputs_hidden": false
    },
    "trusted": true
   },
   "outputs": [
    {
     "data": {
      "text/plain": [
       "array(['H', 'C', 'E', 'G', 'D', 'A', 'B', 'F', 'T'], dtype=object)"
      ]
     },
     "execution_count": 181,
     "metadata": {},
     "output_type": "execute_result"
    }
   ],
   "source": [
    "# extracting cabin class from Cabin\n",
    "\n",
    "for dataset in data:\n",
    "    dataset.Cabin = dataset.apply(lambda row: row.Cabin[0], axis=1)\n",
    "\n",
    "train.Cabin.unique()"
   ]
  },
  {
   "cell_type": "code",
   "execution_count": 182,
   "metadata": {
    "_cell_guid": "75c3dddc-92f7-4520-88f3-431ae5ccb76d",
    "_uuid": "a4d0dc99-bcf2-4721-9046-5b0f7eef0a5c",
    "collapsed": false,
    "execution": {
     "iopub.execute_input": "2025-01-04T05:32:27.301160Z",
     "iopub.status.busy": "2025-01-04T05:32:27.300650Z",
     "iopub.status.idle": "2025-01-04T05:32:27.317967Z",
     "shell.execute_reply": "2025-01-04T05:32:27.316841Z",
     "shell.execute_reply.started": "2025-01-04T05:32:27.301122Z"
    },
    "jupyter": {
     "outputs_hidden": false
    },
    "trusted": true
   },
   "outputs": [],
   "source": [
    "# Age and Fare bins\n",
    "\n",
    "for dataset in data:\n",
    "    dataset[\"FareBin\"] = pd.qcut(dataset.Fare, 5)\n",
    "    dataset[\"AgeBin\"] = pd.cut(dataset.Age.astype(int), 5)"
   ]
  },
  {
   "cell_type": "code",
   "execution_count": 183,
   "metadata": {
    "_cell_guid": "f85f87ae-f517-405f-9404-19aab3c170eb",
    "_uuid": "5fe43a19-ac1a-4196-87d8-5e230d1c1064",
    "collapsed": false,
    "execution": {
     "iopub.execute_input": "2025-01-04T05:32:27.319574Z",
     "iopub.status.busy": "2025-01-04T05:32:27.319240Z",
     "iopub.status.idle": "2025-01-04T05:32:27.339452Z",
     "shell.execute_reply": "2025-01-04T05:32:27.338457Z",
     "shell.execute_reply.started": "2025-01-04T05:32:27.319531Z"
    },
    "jupyter": {
     "outputs_hidden": false
    },
    "trusted": true
   },
   "outputs": [
    {
     "data": {
      "text/plain": [
       "[(-0.001, 7.854], (39.688, 512.329], (7.854, 10.5], (10.5, 21.679], (21.679, 39.688]]\n",
       "Categories (5, interval[float64, right]): [(-0.001, 7.854] < (7.854, 10.5] < (10.5, 21.679] < (21.679, 39.688] < (39.688, 512.329]]"
      ]
     },
     "execution_count": 183,
     "metadata": {},
     "output_type": "execute_result"
    }
   ],
   "source": [
    "train.FareBin.unique()"
   ]
  },
  {
   "cell_type": "code",
   "execution_count": 184,
   "metadata": {
    "_cell_guid": "f32109ab-51b1-43c3-a550-340536b5bfb1",
    "_uuid": "ed249a12-b382-48de-9ed7-b15dad3be4cf",
    "collapsed": false,
    "execution": {
     "iopub.execute_input": "2025-01-04T05:32:27.340836Z",
     "iopub.status.busy": "2025-01-04T05:32:27.340443Z",
     "iopub.status.idle": "2025-01-04T05:32:27.361592Z",
     "shell.execute_reply": "2025-01-04T05:32:27.360371Z",
     "shell.execute_reply.started": "2025-01-04T05:32:27.340797Z"
    },
    "jupyter": {
     "outputs_hidden": false
    },
    "trusted": true
   },
   "outputs": [
    {
     "data": {
      "text/plain": [
       "[(16.0, 32.0], (32.0, 48.0], (48.0, 64.0], (-0.08, 16.0], (64.0, 80.0]]\n",
       "Categories (5, interval[float64, right]): [(-0.08, 16.0] < (16.0, 32.0] < (32.0, 48.0] < (48.0, 64.0] < (64.0, 80.0]]"
      ]
     },
     "execution_count": 184,
     "metadata": {},
     "output_type": "execute_result"
    }
   ],
   "source": [
    "train.AgeBin.unique()"
   ]
  },
  {
   "cell_type": "code",
   "execution_count": 185,
   "metadata": {
    "_cell_guid": "127a5e45-5aff-41cf-884f-17272f858da3",
    "_uuid": "a1caf6e5-5d85-4a97-8d8f-ec344bbc8095",
    "collapsed": false,
    "execution": {
     "iopub.execute_input": "2025-01-04T05:32:27.363191Z",
     "iopub.status.busy": "2025-01-04T05:32:27.362745Z",
     "iopub.status.idle": "2025-01-04T05:32:27.380262Z",
     "shell.execute_reply": "2025-01-04T05:32:27.378964Z",
     "shell.execute_reply.started": "2025-01-04T05:32:27.363151Z"
    },
    "jupyter": {
     "outputs_hidden": false
    },
    "trusted": true
   },
   "outputs": [],
   "source": [
    "# dataset.Family_survival"
   ]
  },
  {
   "cell_type": "markdown",
   "metadata": {},
   "source": [
    "### Converting"
   ]
  },
  {
   "cell_type": "code",
   "execution_count": 186,
   "metadata": {
    "execution": {
     "iopub.execute_input": "2025-01-04T05:32:27.382013Z",
     "iopub.status.busy": "2025-01-04T05:32:27.381529Z",
     "iopub.status.idle": "2025-01-04T05:32:27.412451Z",
     "shell.execute_reply": "2025-01-04T05:32:27.411472Z",
     "shell.execute_reply.started": "2025-01-04T05:32:27.381953Z"
    },
    "trusted": true
   },
   "outputs": [
    {
     "data": {
      "text/html": [
       "<div>\n",
       "<style scoped>\n",
       "    .dataframe tbody tr th:only-of-type {\n",
       "        vertical-align: middle;\n",
       "    }\n",
       "\n",
       "    .dataframe tbody tr th {\n",
       "        vertical-align: top;\n",
       "    }\n",
       "\n",
       "    .dataframe thead th {\n",
       "        text-align: right;\n",
       "    }\n",
       "</style>\n",
       "<table border=\"1\" class=\"dataframe\">\n",
       "  <thead>\n",
       "    <tr style=\"text-align: right;\">\n",
       "      <th></th>\n",
       "      <th>PassengerId</th>\n",
       "      <th>Survived</th>\n",
       "      <th>Pclass</th>\n",
       "      <th>Name</th>\n",
       "      <th>Sex</th>\n",
       "      <th>Age</th>\n",
       "      <th>SibSp</th>\n",
       "      <th>Parch</th>\n",
       "      <th>Ticket</th>\n",
       "      <th>Fare</th>\n",
       "      <th>Cabin</th>\n",
       "      <th>Embarked</th>\n",
       "      <th>Title</th>\n",
       "      <th>Family</th>\n",
       "      <th>isAlone</th>\n",
       "      <th>FareBin</th>\n",
       "      <th>AgeBin</th>\n",
       "    </tr>\n",
       "  </thead>\n",
       "  <tbody>\n",
       "    <tr>\n",
       "      <th>0</th>\n",
       "      <td>1</td>\n",
       "      <td>0</td>\n",
       "      <td>3</td>\n",
       "      <td>Braund, Mr. Owen Harris</td>\n",
       "      <td>male</td>\n",
       "      <td>22.0</td>\n",
       "      <td>1</td>\n",
       "      <td>0</td>\n",
       "      <td>A/5 21171</td>\n",
       "      <td>7.2500</td>\n",
       "      <td>H</td>\n",
       "      <td>S</td>\n",
       "      <td>Mr</td>\n",
       "      <td>2</td>\n",
       "      <td>0</td>\n",
       "      <td>(-0.001, 7.854]</td>\n",
       "      <td>(16.0, 32.0]</td>\n",
       "    </tr>\n",
       "    <tr>\n",
       "      <th>1</th>\n",
       "      <td>2</td>\n",
       "      <td>1</td>\n",
       "      <td>1</td>\n",
       "      <td>Cumings, Mrs. John Bradley (Florence Briggs Th...</td>\n",
       "      <td>female</td>\n",
       "      <td>38.0</td>\n",
       "      <td>1</td>\n",
       "      <td>0</td>\n",
       "      <td>PC 17599</td>\n",
       "      <td>71.2833</td>\n",
       "      <td>C</td>\n",
       "      <td>C</td>\n",
       "      <td>Mrs</td>\n",
       "      <td>2</td>\n",
       "      <td>0</td>\n",
       "      <td>(39.688, 512.329]</td>\n",
       "      <td>(32.0, 48.0]</td>\n",
       "    </tr>\n",
       "    <tr>\n",
       "      <th>2</th>\n",
       "      <td>3</td>\n",
       "      <td>1</td>\n",
       "      <td>3</td>\n",
       "      <td>Heikkinen, Miss. Laina</td>\n",
       "      <td>female</td>\n",
       "      <td>26.0</td>\n",
       "      <td>0</td>\n",
       "      <td>0</td>\n",
       "      <td>STON/O2. 3101282</td>\n",
       "      <td>7.9250</td>\n",
       "      <td>H</td>\n",
       "      <td>S</td>\n",
       "      <td>Miss</td>\n",
       "      <td>1</td>\n",
       "      <td>1</td>\n",
       "      <td>(7.854, 10.5]</td>\n",
       "      <td>(16.0, 32.0]</td>\n",
       "    </tr>\n",
       "    <tr>\n",
       "      <th>3</th>\n",
       "      <td>4</td>\n",
       "      <td>1</td>\n",
       "      <td>1</td>\n",
       "      <td>Futrelle, Mrs. Jacques Heath (Lily May Peel)</td>\n",
       "      <td>female</td>\n",
       "      <td>35.0</td>\n",
       "      <td>1</td>\n",
       "      <td>0</td>\n",
       "      <td>113803</td>\n",
       "      <td>53.1000</td>\n",
       "      <td>C</td>\n",
       "      <td>S</td>\n",
       "      <td>Mrs</td>\n",
       "      <td>2</td>\n",
       "      <td>0</td>\n",
       "      <td>(39.688, 512.329]</td>\n",
       "      <td>(32.0, 48.0]</td>\n",
       "    </tr>\n",
       "    <tr>\n",
       "      <th>4</th>\n",
       "      <td>5</td>\n",
       "      <td>0</td>\n",
       "      <td>3</td>\n",
       "      <td>Allen, Mr. William Henry</td>\n",
       "      <td>male</td>\n",
       "      <td>35.0</td>\n",
       "      <td>0</td>\n",
       "      <td>0</td>\n",
       "      <td>373450</td>\n",
       "      <td>8.0500</td>\n",
       "      <td>H</td>\n",
       "      <td>S</td>\n",
       "      <td>Mr</td>\n",
       "      <td>1</td>\n",
       "      <td>1</td>\n",
       "      <td>(7.854, 10.5]</td>\n",
       "      <td>(32.0, 48.0]</td>\n",
       "    </tr>\n",
       "  </tbody>\n",
       "</table>\n",
       "</div>"
      ],
      "text/plain": [
       "   PassengerId  Survived  Pclass  \\\n",
       "0            1         0       3   \n",
       "1            2         1       1   \n",
       "2            3         1       3   \n",
       "3            4         1       1   \n",
       "4            5         0       3   \n",
       "\n",
       "                                                Name     Sex   Age  SibSp  \\\n",
       "0                            Braund, Mr. Owen Harris    male  22.0      1   \n",
       "1  Cumings, Mrs. John Bradley (Florence Briggs Th...  female  38.0      1   \n",
       "2                             Heikkinen, Miss. Laina  female  26.0      0   \n",
       "3       Futrelle, Mrs. Jacques Heath (Lily May Peel)  female  35.0      1   \n",
       "4                           Allen, Mr. William Henry    male  35.0      0   \n",
       "\n",
       "   Parch            Ticket     Fare Cabin Embarked Title  Family  isAlone  \\\n",
       "0      0         A/5 21171   7.2500     H        S    Mr       2        0   \n",
       "1      0          PC 17599  71.2833     C        C   Mrs       2        0   \n",
       "2      0  STON/O2. 3101282   7.9250     H        S  Miss       1        1   \n",
       "3      0            113803  53.1000     C        S   Mrs       2        0   \n",
       "4      0            373450   8.0500     H        S    Mr       1        1   \n",
       "\n",
       "             FareBin        AgeBin  \n",
       "0    (-0.001, 7.854]  (16.0, 32.0]  \n",
       "1  (39.688, 512.329]  (32.0, 48.0]  \n",
       "2      (7.854, 10.5]  (16.0, 32.0]  \n",
       "3  (39.688, 512.329]  (32.0, 48.0]  \n",
       "4      (7.854, 10.5]  (32.0, 48.0]  "
      ]
     },
     "execution_count": 186,
     "metadata": {},
     "output_type": "execute_result"
    }
   ],
   "source": [
    "train.head()"
   ]
  },
  {
   "cell_type": "code",
   "execution_count": 187,
   "metadata": {
    "_cell_guid": "a695e4d8-8d11-44f9-8579-016516bada1c",
    "_uuid": "39eadafb-8648-43db-8485-ed137550685d",
    "collapsed": false,
    "execution": {
     "iopub.execute_input": "2025-01-04T05:32:27.414055Z",
     "iopub.status.busy": "2025-01-04T05:32:27.413737Z",
     "iopub.status.idle": "2025-01-04T05:32:27.431846Z",
     "shell.execute_reply": "2025-01-04T05:32:27.430763Z",
     "shell.execute_reply.started": "2025-01-04T05:32:27.414021Z"
    },
    "jupyter": {
     "outputs_hidden": false
    },
    "trusted": true
   },
   "outputs": [],
   "source": [
    "for dataset in data:\n",
    "    dataset.Sex.replace([\"male\", \"female\"], [0, 1], inplace=True)"
   ]
  },
  {
   "cell_type": "code",
   "execution_count": 188,
   "metadata": {
    "_cell_guid": "3d720959-e2c7-421f-8f6f-4ebdd1c03dcd",
    "_uuid": "58039b42-402e-4959-adc3-44c8f5a59e75",
    "collapsed": false,
    "execution": {
     "iopub.execute_input": "2025-01-04T05:32:27.433367Z",
     "iopub.status.busy": "2025-01-04T05:32:27.432976Z",
     "iopub.status.idle": "2025-01-04T05:32:27.466343Z",
     "shell.execute_reply": "2025-01-04T05:32:27.465221Z",
     "shell.execute_reply.started": "2025-01-04T05:32:27.433326Z"
    },
    "jupyter": {
     "outputs_hidden": false
    },
    "trusted": true
   },
   "outputs": [],
   "source": [
    "le = LabelEncoder()\n",
    "\n",
    "for dataset in data:\n",
    "    dataset[\"Embarked_le\"] = le.fit_transform(dataset.Embarked)\n",
    "    dataset[\"Title_le\"] = le.fit_transform(dataset.Title)\n",
    "    dataset[\"FareBin_le\"] = le.fit_transform(dataset.FareBin)\n",
    "    dataset[\"AgeBin_le\"] = le.fit_transform(dataset.AgeBin)\n",
    "    dataset[\"Cabin_le\"] = le.fit_transform(dataset.Cabin)"
   ]
  },
  {
   "cell_type": "code",
   "execution_count": 189,
   "metadata": {
    "execution": {
     "iopub.execute_input": "2025-01-04T05:32:27.467811Z",
     "iopub.status.busy": "2025-01-04T05:32:27.467523Z",
     "iopub.status.idle": "2025-01-04T05:32:27.485540Z",
     "shell.execute_reply": "2025-01-04T05:32:27.484640Z",
     "shell.execute_reply.started": "2025-01-04T05:32:27.467786Z"
    },
    "trusted": true
   },
   "outputs": [
    {
     "data": {
      "text/plain": [
       "(Index(['PassengerId', 'Survived', 'Pclass', 'Name', 'Sex', 'Age', 'SibSp',\n",
       "        'Parch', 'Ticket', 'Fare', 'Cabin', 'Embarked', 'Title', 'Family',\n",
       "        'isAlone', 'FareBin', 'AgeBin', 'Embarked_le', 'Title_le', 'FareBin_le',\n",
       "        'AgeBin_le', 'Cabin_le'],\n",
       "       dtype='object'),\n",
       " Index(['PassengerId', 'Pclass', 'Name', 'Sex', 'Age', 'SibSp', 'Parch',\n",
       "        'Ticket', 'Fare', 'Cabin', 'Embarked', 'Title', 'Family', 'isAlone',\n",
       "        'FareBin', 'AgeBin', 'Embarked_le', 'Title_le', 'FareBin_le',\n",
       "        'AgeBin_le', 'Cabin_le'],\n",
       "       dtype='object'))"
      ]
     },
     "execution_count": 189,
     "metadata": {},
     "output_type": "execute_result"
    }
   ],
   "source": [
    "train.columns, test.columns"
   ]
  },
  {
   "cell_type": "code",
   "execution_count": 190,
   "metadata": {
    "_cell_guid": "d094d8fd-783f-401a-bd31-64aa9d43df90",
    "_uuid": "50b1057d-5419-43c0-9dd1-e978b68f6fae",
    "collapsed": false,
    "execution": {
     "iopub.execute_input": "2025-01-04T05:32:27.487300Z",
     "iopub.status.busy": "2025-01-04T05:32:27.486867Z",
     "iopub.status.idle": "2025-01-04T05:32:27.505885Z",
     "shell.execute_reply": "2025-01-04T05:32:27.504868Z",
     "shell.execute_reply.started": "2025-01-04T05:32:27.487261Z"
    },
    "jupyter": {
     "outputs_hidden": false
    },
    "trusted": true
   },
   "outputs": [
    {
     "data": {
      "text/plain": [
       "(Index(['Survived', 'Pclass', 'Sex', 'Family', 'isAlone', 'Embarked_le',\n",
       "        'Title_le', 'FareBin_le', 'AgeBin_le', 'Cabin_le'],\n",
       "       dtype='object'),\n",
       " Index(['Pclass', 'Sex', 'Family', 'isAlone', 'Embarked_le', 'Title_le',\n",
       "        'FareBin_le', 'AgeBin_le', 'Cabin_le'],\n",
       "       dtype='object'))"
      ]
     },
     "execution_count": 190,
     "metadata": {},
     "output_type": "execute_result"
    }
   ],
   "source": [
    "train_df = train.drop(['PassengerId', 'Name', 'Age', 'SibSp', 'Parch', 'Ticket', \n",
    "                       'Fare', 'Cabin', 'Embarked', 'Title', 'FareBin', 'AgeBin'],\n",
    "                      axis=1)\n",
    "\n",
    "test_df = test.drop(['PassengerId', 'Name', 'Age', 'SibSp', 'Parch', 'Ticket', \n",
    "                       'Fare', 'Cabin', 'Embarked', 'Title', 'FareBin', 'AgeBin'],\n",
    "                      axis=1)\n",
    "\n",
    "train_df.columns, test_df.columns"
   ]
  },
  {
   "cell_type": "code",
   "execution_count": 191,
   "metadata": {
    "execution": {
     "iopub.execute_input": "2025-01-04T05:32:27.507330Z",
     "iopub.status.busy": "2025-01-04T05:32:27.506946Z",
     "iopub.status.idle": "2025-01-04T05:32:27.525298Z",
     "shell.execute_reply": "2025-01-04T05:32:27.523942Z",
     "shell.execute_reply.started": "2025-01-04T05:32:27.507301Z"
    },
    "trusted": true
   },
   "outputs": [
    {
     "data": {
      "text/plain": [
       "((891, 10), (418, 9))"
      ]
     },
     "execution_count": 191,
     "metadata": {},
     "output_type": "execute_result"
    }
   ],
   "source": [
    "train_df.shape, test_df.shape"
   ]
  },
  {
   "cell_type": "code",
   "execution_count": 192,
   "metadata": {
    "execution": {
     "iopub.execute_input": "2025-01-04T05:32:27.526973Z",
     "iopub.status.busy": "2025-01-04T05:32:27.526531Z",
     "iopub.status.idle": "2025-01-04T05:32:27.543301Z",
     "shell.execute_reply": "2025-01-04T05:32:27.542223Z",
     "shell.execute_reply.started": "2025-01-04T05:32:27.526928Z"
    },
    "trusted": true
   },
   "outputs": [],
   "source": [
    "X = train_df.drop([\"Survived\"], axis=1)\n",
    "y = train_df[\"Survived\"]"
   ]
  },
  {
   "cell_type": "code",
   "execution_count": 193,
   "metadata": {
    "execution": {
     "iopub.execute_input": "2025-01-04T05:32:27.544870Z",
     "iopub.status.busy": "2025-01-04T05:32:27.544472Z",
     "iopub.status.idle": "2025-01-04T05:32:27.562139Z",
     "shell.execute_reply": "2025-01-04T05:32:27.560985Z",
     "shell.execute_reply.started": "2025-01-04T05:32:27.544831Z"
    },
    "trusted": true
   },
   "outputs": [],
   "source": [
    "X_train, X_test, y_train, y_test = train_test_split(X, y, test_size=0.3, random_state=42)"
   ]
  },
  {
   "cell_type": "code",
   "execution_count": 194,
   "metadata": {
    "execution": {
     "iopub.execute_input": "2025-01-04T05:32:27.563631Z",
     "iopub.status.busy": "2025-01-04T05:32:27.563329Z",
     "iopub.status.idle": "2025-01-04T05:32:27.580004Z",
     "shell.execute_reply": "2025-01-04T05:32:27.579146Z",
     "shell.execute_reply.started": "2025-01-04T05:32:27.563594Z"
    },
    "trusted": true
   },
   "outputs": [
    {
     "data": {
      "text/plain": [
       "((623, 9), (623,), (268, 9), (268,))"
      ]
     },
     "execution_count": 194,
     "metadata": {},
     "output_type": "execute_result"
    }
   ],
   "source": [
    "X_train.shape, y_train.shape, X_test.shape, y_test.shape"
   ]
  },
  {
   "cell_type": "markdown",
   "metadata": {},
   "source": [
    "### Feature Selection"
   ]
  },
  {
   "cell_type": "code",
   "execution_count": 195,
   "metadata": {
    "execution": {
     "iopub.execute_input": "2025-01-04T05:32:27.581276Z",
     "iopub.status.busy": "2025-01-04T05:32:27.580922Z",
     "iopub.status.idle": "2025-01-04T05:32:27.601109Z",
     "shell.execute_reply": "2025-01-04T05:32:27.600037Z",
     "shell.execute_reply.started": "2025-01-04T05:32:27.581250Z"
    },
    "trusted": true
   },
   "outputs": [
    {
     "data": {
      "text/html": [
       "<style>#sk-container-id-7 {color: black;background-color: white;}#sk-container-id-7 pre{padding: 0;}#sk-container-id-7 div.sk-toggleable {background-color: white;}#sk-container-id-7 label.sk-toggleable__label {cursor: pointer;display: block;width: 100%;margin-bottom: 0;padding: 0.3em;box-sizing: border-box;text-align: center;}#sk-container-id-7 label.sk-toggleable__label-arrow:before {content: \"▸\";float: left;margin-right: 0.25em;color: #696969;}#sk-container-id-7 label.sk-toggleable__label-arrow:hover:before {color: black;}#sk-container-id-7 div.sk-estimator:hover label.sk-toggleable__label-arrow:before {color: black;}#sk-container-id-7 div.sk-toggleable__content {max-height: 0;max-width: 0;overflow: hidden;text-align: left;background-color: #f0f8ff;}#sk-container-id-7 div.sk-toggleable__content pre {margin: 0.2em;color: black;border-radius: 0.25em;background-color: #f0f8ff;}#sk-container-id-7 input.sk-toggleable__control:checked~div.sk-toggleable__content {max-height: 200px;max-width: 100%;overflow: auto;}#sk-container-id-7 input.sk-toggleable__control:checked~label.sk-toggleable__label-arrow:before {content: \"▾\";}#sk-container-id-7 div.sk-estimator input.sk-toggleable__control:checked~label.sk-toggleable__label {background-color: #d4ebff;}#sk-container-id-7 div.sk-label input.sk-toggleable__control:checked~label.sk-toggleable__label {background-color: #d4ebff;}#sk-container-id-7 input.sk-hidden--visually {border: 0;clip: rect(1px 1px 1px 1px);clip: rect(1px, 1px, 1px, 1px);height: 1px;margin: -1px;overflow: hidden;padding: 0;position: absolute;width: 1px;}#sk-container-id-7 div.sk-estimator {font-family: monospace;background-color: #f0f8ff;border: 1px dotted black;border-radius: 0.25em;box-sizing: border-box;margin-bottom: 0.5em;}#sk-container-id-7 div.sk-estimator:hover {background-color: #d4ebff;}#sk-container-id-7 div.sk-parallel-item::after {content: \"\";width: 100%;border-bottom: 1px solid gray;flex-grow: 1;}#sk-container-id-7 div.sk-label:hover label.sk-toggleable__label {background-color: #d4ebff;}#sk-container-id-7 div.sk-serial::before {content: \"\";position: absolute;border-left: 1px solid gray;box-sizing: border-box;top: 0;bottom: 0;left: 50%;z-index: 0;}#sk-container-id-7 div.sk-serial {display: flex;flex-direction: column;align-items: center;background-color: white;padding-right: 0.2em;padding-left: 0.2em;position: relative;}#sk-container-id-7 div.sk-item {position: relative;z-index: 1;}#sk-container-id-7 div.sk-parallel {display: flex;align-items: stretch;justify-content: center;background-color: white;position: relative;}#sk-container-id-7 div.sk-item::before, #sk-container-id-7 div.sk-parallel-item::before {content: \"\";position: absolute;border-left: 1px solid gray;box-sizing: border-box;top: 0;bottom: 0;left: 50%;z-index: -1;}#sk-container-id-7 div.sk-parallel-item {display: flex;flex-direction: column;z-index: 1;position: relative;background-color: white;}#sk-container-id-7 div.sk-parallel-item:first-child::after {align-self: flex-end;width: 50%;}#sk-container-id-7 div.sk-parallel-item:last-child::after {align-self: flex-start;width: 50%;}#sk-container-id-7 div.sk-parallel-item:only-child::after {width: 0;}#sk-container-id-7 div.sk-dashed-wrapped {border: 1px dashed gray;margin: 0 0.4em 0.5em 0.4em;box-sizing: border-box;padding-bottom: 0.4em;background-color: white;}#sk-container-id-7 div.sk-label label {font-family: monospace;font-weight: bold;display: inline-block;line-height: 1.2em;}#sk-container-id-7 div.sk-label-container {text-align: center;}#sk-container-id-7 div.sk-container {/* jupyter's `normalize.less` sets `[hidden] { display: none; }` but bootstrap.min.css set `[hidden] { display: none !important; }` so we also need the `!important` here to be able to override the default hidden behavior on the sphinx rendered scikit-learn.org. See: https://github.com/scikit-learn/scikit-learn/issues/21755 */display: inline-block !important;position: relative;}#sk-container-id-7 div.sk-text-repr-fallback {display: none;}</style><div id=\"sk-container-id-7\" class=\"sk-top-container\"><div class=\"sk-text-repr-fallback\"><pre>VarianceThreshold()</pre><b>In a Jupyter environment, please rerun this cell to show the HTML representation or trust the notebook. <br />On GitHub, the HTML representation is unable to render, please try loading this page with nbviewer.org.</b></div><div class=\"sk-container\" hidden><div class=\"sk-item\"><div class=\"sk-estimator sk-toggleable\"><input class=\"sk-toggleable__control sk-hidden--visually\" id=\"sk-estimator-id-9\" type=\"checkbox\" checked><label for=\"sk-estimator-id-9\" class=\"sk-toggleable__label sk-toggleable__label-arrow\">VarianceThreshold</label><div class=\"sk-toggleable__content\"><pre>VarianceThreshold()</pre></div></div></div></div></div>"
      ],
      "text/plain": [
       "VarianceThreshold()"
      ]
     },
     "execution_count": 195,
     "metadata": {},
     "output_type": "execute_result"
    }
   ],
   "source": [
    "# removing features with 0 variance (using VarianceThreshold \"constant feature removal\")\n",
    "\n",
    "vt_selector = VarianceThreshold()\n",
    "vt_selector.fit(X_train)"
   ]
  },
  {
   "cell_type": "code",
   "execution_count": 196,
   "metadata": {
    "execution": {
     "iopub.execute_input": "2025-01-04T05:32:27.602600Z",
     "iopub.status.busy": "2025-01-04T05:32:27.602140Z",
     "iopub.status.idle": "2025-01-04T05:32:27.614242Z",
     "shell.execute_reply": "2025-01-04T05:32:27.613217Z",
     "shell.execute_reply.started": "2025-01-04T05:32:27.602562Z"
    },
    "trusted": true
   },
   "outputs": [
    {
     "data": {
      "text/plain": [
       "9"
      ]
     },
     "execution_count": 196,
     "metadata": {},
     "output_type": "execute_result"
    }
   ],
   "source": [
    "vt_selector.get_support().sum()"
   ]
  },
  {
   "cell_type": "code",
   "execution_count": 197,
   "metadata": {
    "execution": {
     "iopub.execute_input": "2025-01-04T05:32:27.615774Z",
     "iopub.status.busy": "2025-01-04T05:32:27.615385Z",
     "iopub.status.idle": "2025-01-04T05:32:27.631329Z",
     "shell.execute_reply": "2025-01-04T05:32:27.630191Z",
     "shell.execute_reply.started": "2025-01-04T05:32:27.615739Z"
    },
    "trusted": true
   },
   "outputs": [],
   "source": [
    "# no column removed"
   ]
  },
  {
   "cell_type": "code",
   "execution_count": 198,
   "metadata": {
    "_cell_guid": "87564c54-e483-4aa6-8868-fce203a5b265",
    "_uuid": "6a59e3ee-6940-46d6-9a42-f9ec60d93899",
    "collapsed": false,
    "execution": {
     "iopub.execute_input": "2025-01-04T05:32:27.633156Z",
     "iopub.status.busy": "2025-01-04T05:32:27.632740Z",
     "iopub.status.idle": "2025-01-04T05:32:27.653647Z",
     "shell.execute_reply": "2025-01-04T05:32:27.652527Z",
     "shell.execute_reply.started": "2025-01-04T05:32:27.633118Z"
    },
    "jupyter": {
     "outputs_hidden": false
    },
    "trusted": true
   },
   "outputs": [
    {
     "data": {
      "text/html": [
       "<style>#sk-container-id-8 {color: black;background-color: white;}#sk-container-id-8 pre{padding: 0;}#sk-container-id-8 div.sk-toggleable {background-color: white;}#sk-container-id-8 label.sk-toggleable__label {cursor: pointer;display: block;width: 100%;margin-bottom: 0;padding: 0.3em;box-sizing: border-box;text-align: center;}#sk-container-id-8 label.sk-toggleable__label-arrow:before {content: \"▸\";float: left;margin-right: 0.25em;color: #696969;}#sk-container-id-8 label.sk-toggleable__label-arrow:hover:before {color: black;}#sk-container-id-8 div.sk-estimator:hover label.sk-toggleable__label-arrow:before {color: black;}#sk-container-id-8 div.sk-toggleable__content {max-height: 0;max-width: 0;overflow: hidden;text-align: left;background-color: #f0f8ff;}#sk-container-id-8 div.sk-toggleable__content pre {margin: 0.2em;color: black;border-radius: 0.25em;background-color: #f0f8ff;}#sk-container-id-8 input.sk-toggleable__control:checked~div.sk-toggleable__content {max-height: 200px;max-width: 100%;overflow: auto;}#sk-container-id-8 input.sk-toggleable__control:checked~label.sk-toggleable__label-arrow:before {content: \"▾\";}#sk-container-id-8 div.sk-estimator input.sk-toggleable__control:checked~label.sk-toggleable__label {background-color: #d4ebff;}#sk-container-id-8 div.sk-label input.sk-toggleable__control:checked~label.sk-toggleable__label {background-color: #d4ebff;}#sk-container-id-8 input.sk-hidden--visually {border: 0;clip: rect(1px 1px 1px 1px);clip: rect(1px, 1px, 1px, 1px);height: 1px;margin: -1px;overflow: hidden;padding: 0;position: absolute;width: 1px;}#sk-container-id-8 div.sk-estimator {font-family: monospace;background-color: #f0f8ff;border: 1px dotted black;border-radius: 0.25em;box-sizing: border-box;margin-bottom: 0.5em;}#sk-container-id-8 div.sk-estimator:hover {background-color: #d4ebff;}#sk-container-id-8 div.sk-parallel-item::after {content: \"\";width: 100%;border-bottom: 1px solid gray;flex-grow: 1;}#sk-container-id-8 div.sk-label:hover label.sk-toggleable__label {background-color: #d4ebff;}#sk-container-id-8 div.sk-serial::before {content: \"\";position: absolute;border-left: 1px solid gray;box-sizing: border-box;top: 0;bottom: 0;left: 50%;z-index: 0;}#sk-container-id-8 div.sk-serial {display: flex;flex-direction: column;align-items: center;background-color: white;padding-right: 0.2em;padding-left: 0.2em;position: relative;}#sk-container-id-8 div.sk-item {position: relative;z-index: 1;}#sk-container-id-8 div.sk-parallel {display: flex;align-items: stretch;justify-content: center;background-color: white;position: relative;}#sk-container-id-8 div.sk-item::before, #sk-container-id-8 div.sk-parallel-item::before {content: \"\";position: absolute;border-left: 1px solid gray;box-sizing: border-box;top: 0;bottom: 0;left: 50%;z-index: -1;}#sk-container-id-8 div.sk-parallel-item {display: flex;flex-direction: column;z-index: 1;position: relative;background-color: white;}#sk-container-id-8 div.sk-parallel-item:first-child::after {align-self: flex-end;width: 50%;}#sk-container-id-8 div.sk-parallel-item:last-child::after {align-self: flex-start;width: 50%;}#sk-container-id-8 div.sk-parallel-item:only-child::after {width: 0;}#sk-container-id-8 div.sk-dashed-wrapped {border: 1px dashed gray;margin: 0 0.4em 0.5em 0.4em;box-sizing: border-box;padding-bottom: 0.4em;background-color: white;}#sk-container-id-8 div.sk-label label {font-family: monospace;font-weight: bold;display: inline-block;line-height: 1.2em;}#sk-container-id-8 div.sk-label-container {text-align: center;}#sk-container-id-8 div.sk-container {/* jupyter's `normalize.less` sets `[hidden] { display: none; }` but bootstrap.min.css set `[hidden] { display: none !important; }` so we also need the `!important` here to be able to override the default hidden behavior on the sphinx rendered scikit-learn.org. See: https://github.com/scikit-learn/scikit-learn/issues/21755 */display: inline-block !important;position: relative;}#sk-container-id-8 div.sk-text-repr-fallback {display: none;}</style><div id=\"sk-container-id-8\" class=\"sk-top-container\"><div class=\"sk-text-repr-fallback\"><pre>VarianceThreshold(threshold=0.01)</pre><b>In a Jupyter environment, please rerun this cell to show the HTML representation or trust the notebook. <br />On GitHub, the HTML representation is unable to render, please try loading this page with nbviewer.org.</b></div><div class=\"sk-container\" hidden><div class=\"sk-item\"><div class=\"sk-estimator sk-toggleable\"><input class=\"sk-toggleable__control sk-hidden--visually\" id=\"sk-estimator-id-10\" type=\"checkbox\" checked><label for=\"sk-estimator-id-10\" class=\"sk-toggleable__label sk-toggleable__label-arrow\">VarianceThreshold</label><div class=\"sk-toggleable__content\"><pre>VarianceThreshold(threshold=0.01)</pre></div></div></div></div></div>"
      ],
      "text/plain": [
       "VarianceThreshold(threshold=0.01)"
      ]
     },
     "execution_count": 198,
     "metadata": {},
     "output_type": "execute_result"
    }
   ],
   "source": [
    "# using \"quasi-constant feature removal\"\n",
    "\n",
    "vt_selector = VarianceThreshold(0.01)\n",
    "vt_selector.fit(X_train)"
   ]
  },
  {
   "cell_type": "code",
   "execution_count": 199,
   "metadata": {
    "execution": {
     "iopub.execute_input": "2025-01-04T05:32:27.655180Z",
     "iopub.status.busy": "2025-01-04T05:32:27.654767Z",
     "iopub.status.idle": "2025-01-04T05:32:27.670981Z",
     "shell.execute_reply": "2025-01-04T05:32:27.669809Z",
     "shell.execute_reply.started": "2025-01-04T05:32:27.655145Z"
    },
    "trusted": true
   },
   "outputs": [
    {
     "data": {
      "text/plain": [
       "9"
      ]
     },
     "execution_count": 199,
     "metadata": {},
     "output_type": "execute_result"
    }
   ],
   "source": [
    "vt_selector.get_support().sum()"
   ]
  },
  {
   "cell_type": "code",
   "execution_count": 200,
   "metadata": {
    "execution": {
     "iopub.execute_input": "2025-01-04T05:32:27.672449Z",
     "iopub.status.busy": "2025-01-04T05:32:27.672120Z",
     "iopub.status.idle": "2025-01-04T05:32:27.689487Z",
     "shell.execute_reply": "2025-01-04T05:32:27.688124Z",
     "shell.execute_reply.started": "2025-01-04T05:32:27.672423Z"
    },
    "trusted": true
   },
   "outputs": [],
   "source": [
    "# no column removed"
   ]
  },
  {
   "cell_type": "code",
   "execution_count": 201,
   "metadata": {
    "execution": {
     "iopub.execute_input": "2025-01-04T05:32:27.691230Z",
     "iopub.status.busy": "2025-01-04T05:32:27.690781Z",
     "iopub.status.idle": "2025-01-04T05:32:27.712071Z",
     "shell.execute_reply": "2025-01-04T05:32:27.710770Z",
     "shell.execute_reply.started": "2025-01-04T05:32:27.691198Z"
    },
    "trusted": true
   },
   "outputs": [],
   "source": [
    "# using filter method: Correlation among featues\n",
    "\n",
    "def correlation(dataset, threshold=0.8):\n",
    "    corr_columns = set()\n",
    "    corr_mat = dataset.corr()\n",
    "    \n",
    "    for i in range(len(dataset.columns)):\n",
    "        for j in range(i):\n",
    "            if abs(corr_mat.iloc[i, j]) > threshold:\n",
    "                corr_col_name = corr_mat.columns[i]\n",
    "                corr_columns.add(corr_col_name)\n",
    "    return corr_columns"
   ]
  },
  {
   "cell_type": "code",
   "execution_count": 202,
   "metadata": {
    "execution": {
     "iopub.execute_input": "2025-01-04T05:32:27.713708Z",
     "iopub.status.busy": "2025-01-04T05:32:27.713220Z",
     "iopub.status.idle": "2025-01-04T05:32:28.295491Z",
     "shell.execute_reply": "2025-01-04T05:32:28.294414Z",
     "shell.execute_reply.started": "2025-01-04T05:32:27.713667Z"
    },
    "trusted": true
   },
   "outputs": [
    {
     "data": {
      "image/png": "[encoded data removed]",
      "text/plain": [
       "<Figure size 640x480 with 2 Axes>"
      ]
     },
     "metadata": {},
     "output_type": "display_data"
    }
   ],
   "source": [
    "sns.heatmap(X_train.corr(), annot=True);"
   ]
  },
  {
   "cell_type": "code",
   "execution_count": 203,
   "metadata": {
    "execution": {
     "iopub.execute_input": "2025-01-04T05:32:28.297431Z",
     "iopub.status.busy": "2025-01-04T05:32:28.296984Z",
     "iopub.status.idle": "2025-01-04T05:32:28.305455Z",
     "shell.execute_reply": "2025-01-04T05:32:28.304491Z",
     "shell.execute_reply.started": "2025-01-04T05:32:28.297390Z"
    },
    "trusted": true
   },
   "outputs": [
    {
     "data": {
      "text/plain": [
       "set()"
      ]
     },
     "execution_count": 203,
     "metadata": {},
     "output_type": "execute_result"
    }
   ],
   "source": [
    "corr_features = correlation(X_train)\n",
    "corr_features"
   ]
  },
  {
   "cell_type": "code",
   "execution_count": 204,
   "metadata": {
    "execution": {
     "iopub.execute_input": "2025-01-04T05:32:28.325050Z",
     "iopub.status.busy": "2025-01-04T05:32:28.324650Z",
     "iopub.status.idle": "2025-01-04T05:32:28.329699Z",
     "shell.execute_reply": "2025-01-04T05:32:28.328621Z",
     "shell.execute_reply.started": "2025-01-04T05:32:28.325018Z"
    },
    "trusted": true
   },
   "outputs": [],
   "source": [
    "# no column removed by correlation filtering"
   ]
  },
  {
   "cell_type": "code",
   "execution_count": 205,
   "metadata": {
    "execution": {
     "iopub.execute_input": "2025-01-04T05:32:28.333116Z",
     "iopub.status.busy": "2025-01-04T05:32:28.332769Z",
     "iopub.status.idle": "2025-01-04T05:32:28.682287Z",
     "shell.execute_reply": "2025-01-04T05:32:28.681173Z",
     "shell.execute_reply.started": "2025-01-04T05:32:28.333069Z"
    },
    "trusted": true
   },
   "outputs": [
    {
     "data": {
      "image/png": "[encoded data removed]",
      "text/plain": [
       "<Figure size 640x480 with 2 Axes>"
      ]
     },
     "metadata": {},
     "output_type": "display_data"
    }
   ],
   "source": [
    "X_y = X_train.copy()\n",
    "X_y[\"Survived\"] = y_train\n",
    "\n",
    "plt.title(\"Correlation between features and Survived\")\n",
    "sns.heatmap(X_y.corr()[[\"Survived\"]].drop(labels=\"Survived\"), annot=True);"
   ]
  },
  {
   "cell_type": "code",
   "execution_count": 206,
   "metadata": {
    "execution": {
     "iopub.execute_input": "2025-01-04T05:32:28.683940Z",
     "iopub.status.busy": "2025-01-04T05:32:28.683519Z",
     "iopub.status.idle": "2025-01-04T05:32:28.689683Z",
     "shell.execute_reply": "2025-01-04T05:32:28.688458Z",
     "shell.execute_reply.started": "2025-01-04T05:32:28.683901Z"
    },
    "trusted": true
   },
   "outputs": [],
   "source": [
    "# Variance Inflation Factor (VIF)\n",
    "\n",
    "from statsmodels.stats.outliers_influence import variance_inflation_factor\n",
    "\n",
    "def vif(X):\n",
    "    vif = pd.DataFrame()\n",
    "    vif[\"features\"] = X.columns\n",
    "    vif[\"VIF\"] = [variance_inflation_factor(X, i) for i in range(X.shape[1])]\n",
    "\n",
    "    return vif"
   ]
  },
  {
   "cell_type": "code",
   "execution_count": 207,
   "metadata": {
    "execution": {
     "iopub.execute_input": "2025-01-04T05:32:28.691136Z",
     "iopub.status.busy": "2025-01-04T05:32:28.690718Z",
     "iopub.status.idle": "2025-01-04T05:32:28.724600Z",
     "shell.execute_reply": "2025-01-04T05:32:28.723621Z",
     "shell.execute_reply.started": "2025-01-04T05:32:28.691081Z"
    },
    "trusted": true
   },
   "outputs": [
    {
     "data": {
      "text/html": [
       "<div>\n",
       "<style scoped>\n",
       "    .dataframe tbody tr th:only-of-type {\n",
       "        vertical-align: middle;\n",
       "    }\n",
       "\n",
       "    .dataframe tbody tr th {\n",
       "        vertical-align: top;\n",
       "    }\n",
       "\n",
       "    .dataframe thead th {\n",
       "        text-align: right;\n",
       "    }\n",
       "</style>\n",
       "<table border=\"1\" class=\"dataframe\">\n",
       "  <thead>\n",
       "    <tr style=\"text-align: right;\">\n",
       "      <th></th>\n",
       "      <th>features</th>\n",
       "      <th>VIF</th>\n",
       "    </tr>\n",
       "  </thead>\n",
       "  <tbody>\n",
       "    <tr>\n",
       "      <th>0</th>\n",
       "      <td>Pclass</td>\n",
       "      <td>26.824697</td>\n",
       "    </tr>\n",
       "    <tr>\n",
       "      <th>1</th>\n",
       "      <td>Sex</td>\n",
       "      <td>1.694747</td>\n",
       "    </tr>\n",
       "    <tr>\n",
       "      <th>2</th>\n",
       "      <td>Family</td>\n",
       "      <td>5.791280</td>\n",
       "    </tr>\n",
       "    <tr>\n",
       "      <th>3</th>\n",
       "      <td>isAlone</td>\n",
       "      <td>4.540641</td>\n",
       "    </tr>\n",
       "    <tr>\n",
       "      <th>4</th>\n",
       "      <td>Embarked_le</td>\n",
       "      <td>5.299197</td>\n",
       "    </tr>\n",
       "    <tr>\n",
       "      <th>5</th>\n",
       "      <td>Title_le</td>\n",
       "      <td>15.450370</td>\n",
       "    </tr>\n",
       "    <tr>\n",
       "      <th>6</th>\n",
       "      <td>FareBin_le</td>\n",
       "      <td>5.554616</td>\n",
       "    </tr>\n",
       "    <tr>\n",
       "      <th>7</th>\n",
       "      <td>AgeBin_le</td>\n",
       "      <td>5.020999</td>\n",
       "    </tr>\n",
       "    <tr>\n",
       "      <th>8</th>\n",
       "      <td>Cabin_le</td>\n",
       "      <td>22.228874</td>\n",
       "    </tr>\n",
       "  </tbody>\n",
       "</table>\n",
       "</div>"
      ],
      "text/plain": [
       "      features        VIF\n",
       "0       Pclass  26.824697\n",
       "1          Sex   1.694747\n",
       "2       Family   5.791280\n",
       "3      isAlone   4.540641\n",
       "4  Embarked_le   5.299197\n",
       "5     Title_le  15.450370\n",
       "6   FareBin_le   5.554616\n",
       "7    AgeBin_le   5.020999\n",
       "8     Cabin_le  22.228874"
      ]
     },
     "execution_count": 207,
     "metadata": {},
     "output_type": "execute_result"
    }
   ],
   "source": [
    "vif(X_train)"
   ]
  },
  {
   "cell_type": "code",
   "execution_count": 208,
   "metadata": {
    "execution": {
     "iopub.execute_input": "2025-01-04T05:32:28.726077Z",
     "iopub.status.busy": "2025-01-04T05:32:28.725673Z",
     "iopub.status.idle": "2025-01-04T05:32:28.729872Z",
     "shell.execute_reply": "2025-01-04T05:32:28.729005Z",
     "shell.execute_reply.started": "2025-01-04T05:32:28.726037Z"
    },
    "trusted": true
   },
   "outputs": [],
   "source": [
    "# should remove PClass, Title_le and Cabin_le as VIF > 10"
   ]
  },
  {
   "cell_type": "code",
   "execution_count": 209,
   "metadata": {
    "execution": {
     "iopub.execute_input": "2025-01-04T05:32:28.731794Z",
     "iopub.status.busy": "2025-01-04T05:32:28.731401Z",
     "iopub.status.idle": "2025-01-04T05:32:28.747287Z",
     "shell.execute_reply": "2025-01-04T05:32:28.746223Z",
     "shell.execute_reply.started": "2025-01-04T05:32:28.731752Z"
    },
    "trusted": true
   },
   "outputs": [],
   "source": [
    "def run_random_forest_classification(X_train, X_test, y_train, y_test):\n",
    "    rfc = RandomForestClassifier(n_estimators=200, max_depth=4, random_state=42)\n",
    "    rfc.fit(X_train, y_train)\n",
    "    \n",
    "    pred = rfc.predict_proba(X_train)\n",
    "    print(f\"Train roc_auc_score: {roc_auc_score(y_train, pred[:, 1])}\")\n",
    "\n",
    "    pred = rfc.predict_proba(X_test)\n",
    "    print(f\"Test roc_auc_score: {roc_auc_score(y_test, pred[:, 1])}\")"
   ]
  },
  {
   "cell_type": "code",
   "execution_count": 210,
   "metadata": {
    "execution": {
     "iopub.execute_input": "2025-01-04T05:32:28.748502Z",
     "iopub.status.busy": "2025-01-04T05:32:28.748200Z",
     "iopub.status.idle": "2025-01-04T05:32:29.164728Z",
     "shell.execute_reply": "2025-01-04T05:32:29.163594Z",
     "shell.execute_reply.started": "2025-01-04T05:32:28.748476Z"
    },
    "trusted": true
   },
   "outputs": [
    {
     "name": "stdout",
     "output_type": "stream",
     "text": [
      "Train roc_auc_score: 0.8901680802191007\n",
      "Test roc_auc_score: 0.891059849658576\n"
     ]
    }
   ],
   "source": [
    "run_random_forest_classification(X_train, X_test, y_train, y_test)"
   ]
  },
  {
   "cell_type": "code",
   "execution_count": 211,
   "metadata": {
    "execution": {
     "iopub.execute_input": "2025-01-04T05:32:29.166276Z",
     "iopub.status.busy": "2025-01-04T05:32:29.165925Z",
     "iopub.status.idle": "2025-01-04T05:32:39.122207Z",
     "shell.execute_reply": "2025-01-04T05:32:39.121125Z",
     "shell.execute_reply.started": "2025-01-04T05:32:29.166235Z"
    },
    "trusted": true
   },
   "outputs": [],
   "source": [
    "# Using wrapper methods\n",
    "# forward selection\n",
    "\n",
    "sfs = SFS(RandomForestClassifier(), \n",
    "          k_features=7,\n",
    "          scoring=\"roc_auc\",\n",
    "          cv=3,\n",
    "          n_jobs=-1)\n",
    "\n",
    "\n",
    "sfs.fit(X_train, y_train)\n",
    "selected_features_f = X_train.columns[list(sfs.k_feature_idx_)]"
   ]
  },
  {
   "cell_type": "code",
   "execution_count": 212,
   "metadata": {
    "execution": {
     "iopub.execute_input": "2025-01-04T05:32:39.123553Z",
     "iopub.status.busy": "2025-01-04T05:32:39.123266Z",
     "iopub.status.idle": "2025-01-04T05:32:43.874743Z",
     "shell.execute_reply": "2025-01-04T05:32:43.873920Z",
     "shell.execute_reply.started": "2025-01-04T05:32:39.123527Z"
    },
    "trusted": true
   },
   "outputs": [],
   "source": [
    "# backward selection\n",
    "\n",
    "sfs = SFS(RandomForestClassifier(),\n",
    "          forward=False,\n",
    "          k_features=7,\n",
    "          scoring=\"roc_auc\",\n",
    "          cv=3,\n",
    "          n_jobs=-1)\n",
    "\n",
    "\n",
    "sfs.fit(X_train.values, y_train)\n",
    "selected_features_b = X_train.columns[list(sfs.k_feature_idx_)]"
   ]
  },
  {
   "cell_type": "code",
   "execution_count": 213,
   "metadata": {
    "execution": {
     "iopub.execute_input": "2025-01-04T05:32:43.875967Z",
     "iopub.status.busy": "2025-01-04T05:32:43.875657Z",
     "iopub.status.idle": "2025-01-04T05:32:43.882187Z",
     "shell.execute_reply": "2025-01-04T05:32:43.881044Z",
     "shell.execute_reply.started": "2025-01-04T05:32:43.875922Z"
    },
    "trusted": true
   },
   "outputs": [
    {
     "name": "stdout",
     "output_type": "stream",
     "text": [
      "ForwardSFS ['Pclass', 'Sex', 'Family', 'isAlone', 'Title_le', 'FareBin_le', 'Cabin_le']\n",
      "BackwardSFS ['Pclass', 'Sex', 'Family', 'isAlone', 'Title_le', 'FareBin_le', 'Cabin_le']\n"
     ]
    }
   ],
   "source": [
    "print(\"ForwardSFS\", list(selected_features_f))\n",
    "print(\"BackwardSFS\", list(selected_features_b))"
   ]
  },
  {
   "cell_type": "code",
   "execution_count": 214,
   "metadata": {
    "execution": {
     "iopub.execute_input": "2025-01-04T05:32:43.883387Z",
     "iopub.status.busy": "2025-01-04T05:32:43.883077Z",
     "iopub.status.idle": "2025-01-04T05:32:44.272482Z",
     "shell.execute_reply": "2025-01-04T05:32:44.271574Z",
     "shell.execute_reply.started": "2025-01-04T05:32:43.883361Z"
    },
    "trusted": true
   },
   "outputs": [
    {
     "name": "stdout",
     "output_type": "stream",
     "text": [
      "Train roc_auc_score: 0.8784952292605354\n",
      "Test roc_auc_score: 0.8820795317610604\n"
     ]
    }
   ],
   "source": [
    "run_random_forest_classification(X_train[selected_features_f], \n",
    "                                 X_test[selected_features_f],\n",
    "                                 y_train, y_test)"
   ]
  },
  {
   "cell_type": "code",
   "execution_count": 215,
   "metadata": {
    "execution": {
     "iopub.execute_input": "2025-01-04T05:32:44.273769Z",
     "iopub.status.busy": "2025-01-04T05:32:44.273447Z",
     "iopub.status.idle": "2025-01-04T05:32:44.644504Z",
     "shell.execute_reply": "2025-01-04T05:32:44.643529Z",
     "shell.execute_reply.started": "2025-01-04T05:32:44.273743Z"
    },
    "trusted": true
   },
   "outputs": [
    {
     "name": "stdout",
     "output_type": "stream",
     "text": [
      "Train roc_auc_score: 0.8784952292605354\n",
      "Test roc_auc_score: 0.8820795317610604\n"
     ]
    }
   ],
   "source": [
    "run_random_forest_classification(X_train[selected_features_b], \n",
    "                                 X_test[selected_features_b],\n",
    "                                 y_train, y_test)"
   ]
  },
  {
   "cell_type": "code",
   "execution_count": 216,
   "metadata": {
    "execution": {
     "iopub.execute_input": "2025-01-04T05:32:44.645942Z",
     "iopub.status.busy": "2025-01-04T05:32:44.645641Z",
     "iopub.status.idle": "2025-01-04T05:32:44.650285Z",
     "shell.execute_reply": "2025-01-04T05:32:44.649196Z",
     "shell.execute_reply.started": "2025-01-04T05:32:44.645903Z"
    },
    "trusted": true
   },
   "outputs": [],
   "source": [
    "# in both cases accuracy has decreased"
   ]
  },
  {
   "cell_type": "code",
   "execution_count": 217,
   "metadata": {
    "execution": {
     "iopub.execute_input": "2025-01-04T05:32:44.651419Z",
     "iopub.status.busy": "2025-01-04T05:32:44.651144Z",
     "iopub.status.idle": "2025-01-04T05:32:44.671274Z",
     "shell.execute_reply": "2025-01-04T05:32:44.670202Z",
     "shell.execute_reply.started": "2025-01-04T05:32:44.651395Z"
    },
    "trusted": true
   },
   "outputs": [],
   "source": [
    "# efs = EFS(RandomForestClassifier(),\n",
    "#           min_features=1,\n",
    "#           max_features=7,\n",
    "#           scoring=\"roc_auc\",\n",
    "#           print_progress=True,\n",
    "#           cv=2,\n",
    "#           n_jobs=-1)\n",
    "\n",
    "# efs.fit(X_train.values, y_train)"
   ]
  },
  {
   "cell_type": "code",
   "execution_count": 218,
   "metadata": {
    "execution": {
     "iopub.execute_input": "2025-01-04T05:32:44.672843Z",
     "iopub.status.busy": "2025-01-04T05:32:44.672461Z",
     "iopub.status.idle": "2025-01-04T05:32:44.691373Z",
     "shell.execute_reply": "2025-01-04T05:32:44.690005Z",
     "shell.execute_reply.started": "2025-01-04T05:32:44.672811Z"
    },
    "trusted": true
   },
   "outputs": [],
   "source": [
    "# selected_features_efs = X_train.columns[list(efs.best_idx_)]\n",
    "# selected_features_efs"
   ]
  },
  {
   "cell_type": "code",
   "execution_count": 219,
   "metadata": {
    "execution": {
     "iopub.execute_input": "2025-01-04T05:32:44.692726Z",
     "iopub.status.busy": "2025-01-04T05:32:44.692292Z",
     "iopub.status.idle": "2025-01-04T05:32:44.710986Z",
     "shell.execute_reply": "2025-01-04T05:32:44.709811Z",
     "shell.execute_reply.started": "2025-01-04T05:32:44.692686Z"
    },
    "trusted": true
   },
   "outputs": [],
   "source": [
    "# run_random_forest_classification(X_train[selected_features_efs], \n",
    "#                                  X_test[selected_features_efs],\n",
    "#                                  y_train, y_test)"
   ]
  },
  {
   "cell_type": "code",
   "execution_count": 220,
   "metadata": {
    "execution": {
     "iopub.execute_input": "2025-01-04T05:32:44.712422Z",
     "iopub.status.busy": "2025-01-04T05:32:44.712082Z",
     "iopub.status.idle": "2025-01-04T05:32:44.729911Z",
     "shell.execute_reply": "2025-01-04T05:32:44.728661Z",
     "shell.execute_reply.started": "2025-01-04T05:32:44.712394Z"
    },
    "trusted": true
   },
   "outputs": [],
   "source": [
    "# accuracy has decreased"
   ]
  },
  {
   "cell_type": "markdown",
   "metadata": {},
   "source": [
    "### Embedded Methods"
   ]
  },
  {
   "cell_type": "code",
   "execution_count": 221,
   "metadata": {
    "execution": {
     "iopub.execute_input": "2025-01-04T05:32:44.731409Z",
     "iopub.status.busy": "2025-01-04T05:32:44.730980Z",
     "iopub.status.idle": "2025-01-04T05:32:44.748748Z",
     "shell.execute_reply": "2025-01-04T05:32:44.747784Z",
     "shell.execute_reply.started": "2025-01-04T05:32:44.731367Z"
    },
    "trusted": true
   },
   "outputs": [],
   "source": [
    "from sklearn.feature_selection import SelectFromModel\n",
    "from sklearn.preprocessing import StandardScaler\n",
    "from sklearn.linear_model import Lasso, LogisticRegression, LinearRegression"
   ]
  },
  {
   "cell_type": "code",
   "execution_count": 222,
   "metadata": {
    "execution": {
     "iopub.execute_input": "2025-01-04T05:32:44.750121Z",
     "iopub.status.busy": "2025-01-04T05:32:44.749725Z",
     "iopub.status.idle": "2025-01-04T05:32:44.771577Z",
     "shell.execute_reply": "2025-01-04T05:32:44.770112Z",
     "shell.execute_reply.started": "2025-01-04T05:32:44.750060Z"
    },
    "trusted": true
   },
   "outputs": [
    {
     "data": {
      "text/html": [
       "<style>#sk-container-id-9 {color: black;background-color: white;}#sk-container-id-9 pre{padding: 0;}#sk-container-id-9 div.sk-toggleable {background-color: white;}#sk-container-id-9 label.sk-toggleable__label {cursor: pointer;display: block;width: 100%;margin-bottom: 0;padding: 0.3em;box-sizing: border-box;text-align: center;}#sk-container-id-9 label.sk-toggleable__label-arrow:before {content: \"▸\";float: left;margin-right: 0.25em;color: #696969;}#sk-container-id-9 label.sk-toggleable__label-arrow:hover:before {color: black;}#sk-container-id-9 div.sk-estimator:hover label.sk-toggleable__label-arrow:before {color: black;}#sk-container-id-9 div.sk-toggleable__content {max-height: 0;max-width: 0;overflow: hidden;text-align: left;background-color: #f0f8ff;}#sk-container-id-9 div.sk-toggleable__content pre {margin: 0.2em;color: black;border-radius: 0.25em;background-color: #f0f8ff;}#sk-container-id-9 input.sk-toggleable__control:checked~div.sk-toggleable__content {max-height: 200px;max-width: 100%;overflow: auto;}#sk-container-id-9 input.sk-toggleable__control:checked~label.sk-toggleable__label-arrow:before {content: \"▾\";}#sk-container-id-9 div.sk-estimator input.sk-toggleable__control:checked~label.sk-toggleable__label {background-color: #d4ebff;}#sk-container-id-9 div.sk-label input.sk-toggleable__control:checked~label.sk-toggleable__label {background-color: #d4ebff;}#sk-container-id-9 input.sk-hidden--visually {border: 0;clip: rect(1px 1px 1px 1px);clip: rect(1px, 1px, 1px, 1px);height: 1px;margin: -1px;overflow: hidden;padding: 0;position: absolute;width: 1px;}#sk-container-id-9 div.sk-estimator {font-family: monospace;background-color: #f0f8ff;border: 1px dotted black;border-radius: 0.25em;box-sizing: border-box;margin-bottom: 0.5em;}#sk-container-id-9 div.sk-estimator:hover {background-color: #d4ebff;}#sk-container-id-9 div.sk-parallel-item::after {content: \"\";width: 100%;border-bottom: 1px solid gray;flex-grow: 1;}#sk-container-id-9 div.sk-label:hover label.sk-toggleable__label {background-color: #d4ebff;}#sk-container-id-9 div.sk-serial::before {content: \"\";position: absolute;border-left: 1px solid gray;box-sizing: border-box;top: 0;bottom: 0;left: 50%;z-index: 0;}#sk-container-id-9 div.sk-serial {display: flex;flex-direction: column;align-items: center;background-color: white;padding-right: 0.2em;padding-left: 0.2em;position: relative;}#sk-container-id-9 div.sk-item {position: relative;z-index: 1;}#sk-container-id-9 div.sk-parallel {display: flex;align-items: stretch;justify-content: center;background-color: white;position: relative;}#sk-container-id-9 div.sk-item::before, #sk-container-id-9 div.sk-parallel-item::before {content: \"\";position: absolute;border-left: 1px solid gray;box-sizing: border-box;top: 0;bottom: 0;left: 50%;z-index: -1;}#sk-container-id-9 div.sk-parallel-item {display: flex;flex-direction: column;z-index: 1;position: relative;background-color: white;}#sk-container-id-9 div.sk-parallel-item:first-child::after {align-self: flex-end;width: 50%;}#sk-container-id-9 div.sk-parallel-item:last-child::after {align-self: flex-start;width: 50%;}#sk-container-id-9 div.sk-parallel-item:only-child::after {width: 0;}#sk-container-id-9 div.sk-dashed-wrapped {border: 1px dashed gray;margin: 0 0.4em 0.5em 0.4em;box-sizing: border-box;padding-bottom: 0.4em;background-color: white;}#sk-container-id-9 div.sk-label label {font-family: monospace;font-weight: bold;display: inline-block;line-height: 1.2em;}#sk-container-id-9 div.sk-label-container {text-align: center;}#sk-container-id-9 div.sk-container {/* jupyter's `normalize.less` sets `[hidden] { display: none; }` but bootstrap.min.css set `[hidden] { display: none !important; }` so we also need the `!important` here to be able to override the default hidden behavior on the sphinx rendered scikit-learn.org. See: https://github.com/scikit-learn/scikit-learn/issues/21755 */display: inline-block !important;position: relative;}#sk-container-id-9 div.sk-text-repr-fallback {display: none;}</style><div id=\"sk-container-id-9\" class=\"sk-top-container\"><div class=\"sk-text-repr-fallback\"><pre>StandardScaler()</pre><b>In a Jupyter environment, please rerun this cell to show the HTML representation or trust the notebook. <br />On GitHub, the HTML representation is unable to render, please try loading this page with nbviewer.org.</b></div><div class=\"sk-container\" hidden><div class=\"sk-item\"><div class=\"sk-estimator sk-toggleable\"><input class=\"sk-toggleable__control sk-hidden--visually\" id=\"sk-estimator-id-11\" type=\"checkbox\" checked><label for=\"sk-estimator-id-11\" class=\"sk-toggleable__label sk-toggleable__label-arrow\">StandardScaler</label><div class=\"sk-toggleable__content\"><pre>StandardScaler()</pre></div></div></div></div></div>"
      ],
      "text/plain": [
       "StandardScaler()"
      ]
     },
     "execution_count": 222,
     "metadata": {},
     "output_type": "execute_result"
    }
   ],
   "source": [
    "scaler = StandardScaler()\n",
    "scaler.fit(X_train)"
   ]
  },
  {
   "cell_type": "code",
   "execution_count": 223,
   "metadata": {
    "execution": {
     "iopub.execute_input": "2025-01-04T05:32:44.773067Z",
     "iopub.status.busy": "2025-01-04T05:32:44.772700Z",
     "iopub.status.idle": "2025-01-04T05:32:44.798654Z",
     "shell.execute_reply": "2025-01-04T05:32:44.797239Z",
     "shell.execute_reply.started": "2025-01-04T05:32:44.773037Z"
    },
    "trusted": true
   },
   "outputs": [
    {
     "data": {
      "text/html": [
       "<style>#sk-container-id-10 {color: black;background-color: white;}#sk-container-id-10 pre{padding: 0;}#sk-container-id-10 div.sk-toggleable {background-color: white;}#sk-container-id-10 label.sk-toggleable__label {cursor: pointer;display: block;width: 100%;margin-bottom: 0;padding: 0.3em;box-sizing: border-box;text-align: center;}#sk-container-id-10 label.sk-toggleable__label-arrow:before {content: \"▸\";float: left;margin-right: 0.25em;color: #696969;}#sk-container-id-10 label.sk-toggleable__label-arrow:hover:before {color: black;}#sk-container-id-10 div.sk-estimator:hover label.sk-toggleable__label-arrow:before {color: black;}#sk-container-id-10 div.sk-toggleable__content {max-height: 0;max-width: 0;overflow: hidden;text-align: left;background-color: #f0f8ff;}#sk-container-id-10 div.sk-toggleable__content pre {margin: 0.2em;color: black;border-radius: 0.25em;background-color: #f0f8ff;}#sk-container-id-10 input.sk-toggleable__control:checked~div.sk-toggleable__content {max-height: 200px;max-width: 100%;overflow: auto;}#sk-container-id-10 input.sk-toggleable__control:checked~label.sk-toggleable__label-arrow:before {content: \"▾\";}#sk-container-id-10 div.sk-estimator input.sk-toggleable__control:checked~label.sk-toggleable__label {background-color: #d4ebff;}#sk-container-id-10 div.sk-label input.sk-toggleable__control:checked~label.sk-toggleable__label {background-color: #d4ebff;}#sk-container-id-10 input.sk-hidden--visually {border: 0;clip: rect(1px 1px 1px 1px);clip: rect(1px, 1px, 1px, 1px);height: 1px;margin: -1px;overflow: hidden;padding: 0;position: absolute;width: 1px;}#sk-container-id-10 div.sk-estimator {font-family: monospace;background-color: #f0f8ff;border: 1px dotted black;border-radius: 0.25em;box-sizing: border-box;margin-bottom: 0.5em;}#sk-container-id-10 div.sk-estimator:hover {background-color: #d4ebff;}#sk-container-id-10 div.sk-parallel-item::after {content: \"\";width: 100%;border-bottom: 1px solid gray;flex-grow: 1;}#sk-container-id-10 div.sk-label:hover label.sk-toggleable__label {background-color: #d4ebff;}#sk-container-id-10 div.sk-serial::before {content: \"\";position: absolute;border-left: 1px solid gray;box-sizing: border-box;top: 0;bottom: 0;left: 50%;z-index: 0;}#sk-container-id-10 div.sk-serial {display: flex;flex-direction: column;align-items: center;background-color: white;padding-right: 0.2em;padding-left: 0.2em;position: relative;}#sk-container-id-10 div.sk-item {position: relative;z-index: 1;}#sk-container-id-10 div.sk-parallel {display: flex;align-items: stretch;justify-content: center;background-color: white;position: relative;}#sk-container-id-10 div.sk-item::before, #sk-container-id-10 div.sk-parallel-item::before {content: \"\";position: absolute;border-left: 1px solid gray;box-sizing: border-box;top: 0;bottom: 0;left: 50%;z-index: -1;}#sk-container-id-10 div.sk-parallel-item {display: flex;flex-direction: column;z-index: 1;position: relative;background-color: white;}#sk-container-id-10 div.sk-parallel-item:first-child::after {align-self: flex-end;width: 50%;}#sk-container-id-10 div.sk-parallel-item:last-child::after {align-self: flex-start;width: 50%;}#sk-container-id-10 div.sk-parallel-item:only-child::after {width: 0;}#sk-container-id-10 div.sk-dashed-wrapped {border: 1px dashed gray;margin: 0 0.4em 0.5em 0.4em;box-sizing: border-box;padding-bottom: 0.4em;background-color: white;}#sk-container-id-10 div.sk-label label {font-family: monospace;font-weight: bold;display: inline-block;line-height: 1.2em;}#sk-container-id-10 div.sk-label-container {text-align: center;}#sk-container-id-10 div.sk-container {/* jupyter's `normalize.less` sets `[hidden] { display: none; }` but bootstrap.min.css set `[hidden] { display: none !important; }` so we also need the `!important` here to be able to override the default hidden behavior on the sphinx rendered scikit-learn.org. See: https://github.com/scikit-learn/scikit-learn/issues/21755 */display: inline-block !important;position: relative;}#sk-container-id-10 div.sk-text-repr-fallback {display: none;}</style><div id=\"sk-container-id-10\" class=\"sk-top-container\"><div class=\"sk-text-repr-fallback\"><pre>SelectFromModel(estimator=LogisticRegression(C=1, penalty=&#x27;l1&#x27;,\n",
       "                                             solver=&#x27;liblinear&#x27;))</pre><b>In a Jupyter environment, please rerun this cell to show the HTML representation or trust the notebook. <br />On GitHub, the HTML representation is unable to render, please try loading this page with nbviewer.org.</b></div><div class=\"sk-container\" hidden><div class=\"sk-item sk-dashed-wrapped\"><div class=\"sk-label-container\"><div class=\"sk-label sk-toggleable\"><input class=\"sk-toggleable__control sk-hidden--visually\" id=\"sk-estimator-id-12\" type=\"checkbox\" ><label for=\"sk-estimator-id-12\" class=\"sk-toggleable__label sk-toggleable__label-arrow\">SelectFromModel</label><div class=\"sk-toggleable__content\"><pre>SelectFromModel(estimator=LogisticRegression(C=1, penalty=&#x27;l1&#x27;,\n",
       "                                             solver=&#x27;liblinear&#x27;))</pre></div></div></div><div class=\"sk-parallel\"><div class=\"sk-parallel-item\"><div class=\"sk-item\"><div class=\"sk-label-container\"><div class=\"sk-label sk-toggleable\"><input class=\"sk-toggleable__control sk-hidden--visually\" id=\"sk-estimator-id-13\" type=\"checkbox\" ><label for=\"sk-estimator-id-13\" class=\"sk-toggleable__label sk-toggleable__label-arrow\">estimator: LogisticRegression</label><div class=\"sk-toggleable__content\"><pre>LogisticRegression(C=1, penalty=&#x27;l1&#x27;, solver=&#x27;liblinear&#x27;)</pre></div></div></div><div class=\"sk-serial\"><div class=\"sk-item\"><div class=\"sk-estimator sk-toggleable\"><input class=\"sk-toggleable__control sk-hidden--visually\" id=\"sk-estimator-id-14\" type=\"checkbox\" ><label for=\"sk-estimator-id-14\" class=\"sk-toggleable__label sk-toggleable__label-arrow\">LogisticRegression</label><div class=\"sk-toggleable__content\"><pre>LogisticRegression(C=1, penalty=&#x27;l1&#x27;, solver=&#x27;liblinear&#x27;)</pre></div></div></div></div></div></div></div></div></div></div>"
      ],
      "text/plain": [
       "SelectFromModel(estimator=LogisticRegression(C=1, penalty='l1',\n",
       "                                             solver='liblinear'))"
      ]
     },
     "execution_count": 223,
     "metadata": {},
     "output_type": "execute_result"
    }
   ],
   "source": [
    "m_sel = SelectFromModel(LogisticRegression(C=1, penalty=\"l1\", solver='liblinear'))\n",
    "m_sel.fit(scaler.transform(X_train), y_train)"
   ]
  },
  {
   "cell_type": "code",
   "execution_count": 224,
   "metadata": {
    "execution": {
     "iopub.execute_input": "2025-01-04T05:32:44.799886Z",
     "iopub.status.busy": "2025-01-04T05:32:44.799511Z",
     "iopub.status.idle": "2025-01-04T05:32:44.815902Z",
     "shell.execute_reply": "2025-01-04T05:32:44.814777Z",
     "shell.execute_reply.started": "2025-01-04T05:32:44.799856Z"
    },
    "trusted": true
   },
   "outputs": [
    {
     "data": {
      "text/plain": [
       "array([ True,  True,  True,  True,  True,  True,  True,  True,  True])"
      ]
     },
     "execution_count": 224,
     "metadata": {},
     "output_type": "execute_result"
    }
   ],
   "source": [
    "m_sel.get_support()"
   ]
  },
  {
   "cell_type": "code",
   "execution_count": 225,
   "metadata": {
    "execution": {
     "iopub.execute_input": "2025-01-04T05:32:44.817473Z",
     "iopub.status.busy": "2025-01-04T05:32:44.816976Z",
     "iopub.status.idle": "2025-01-04T05:32:44.838224Z",
     "shell.execute_reply": "2025-01-04T05:32:44.837292Z",
     "shell.execute_reply.started": "2025-01-04T05:32:44.817427Z"
    },
    "trusted": true
   },
   "outputs": [
    {
     "data": {
      "text/plain": [
       "Index(['Pclass', 'Sex', 'Family', 'isAlone', 'Embarked_le', 'Title_le',\n",
       "       'FareBin_le', 'AgeBin_le', 'Cabin_le'],\n",
       "      dtype='object')"
      ]
     },
     "execution_count": 225,
     "metadata": {},
     "output_type": "execute_result"
    }
   ],
   "source": [
    "X_train.columns[m_sel.get_support()]"
   ]
  },
  {
   "cell_type": "code",
   "execution_count": 226,
   "metadata": {
    "execution": {
     "iopub.execute_input": "2025-01-04T05:32:44.839632Z",
     "iopub.status.busy": "2025-01-04T05:32:44.839236Z",
     "iopub.status.idle": "2025-01-04T05:32:44.870789Z",
     "shell.execute_reply": "2025-01-04T05:32:44.869716Z",
     "shell.execute_reply.started": "2025-01-04T05:32:44.839593Z"
    },
    "trusted": true
   },
   "outputs": [
    {
     "data": {
      "text/html": [
       "<div>\n",
       "<style scoped>\n",
       "    .dataframe tbody tr th:only-of-type {\n",
       "        vertical-align: middle;\n",
       "    }\n",
       "\n",
       "    .dataframe tbody tr th {\n",
       "        vertical-align: top;\n",
       "    }\n",
       "\n",
       "    .dataframe thead th {\n",
       "        text-align: right;\n",
       "    }\n",
       "</style>\n",
       "<table border=\"1\" class=\"dataframe\">\n",
       "  <thead>\n",
       "    <tr style=\"text-align: right;\">\n",
       "      <th></th>\n",
       "      <th>features</th>\n",
       "      <th>VIF</th>\n",
       "    </tr>\n",
       "  </thead>\n",
       "  <tbody>\n",
       "    <tr>\n",
       "      <th>0</th>\n",
       "      <td>Pclass</td>\n",
       "      <td>26.824697</td>\n",
       "    </tr>\n",
       "    <tr>\n",
       "      <th>1</th>\n",
       "      <td>Sex</td>\n",
       "      <td>1.694747</td>\n",
       "    </tr>\n",
       "    <tr>\n",
       "      <th>2</th>\n",
       "      <td>Family</td>\n",
       "      <td>5.791280</td>\n",
       "    </tr>\n",
       "    <tr>\n",
       "      <th>3</th>\n",
       "      <td>isAlone</td>\n",
       "      <td>4.540641</td>\n",
       "    </tr>\n",
       "    <tr>\n",
       "      <th>4</th>\n",
       "      <td>Embarked_le</td>\n",
       "      <td>5.299197</td>\n",
       "    </tr>\n",
       "    <tr>\n",
       "      <th>5</th>\n",
       "      <td>Title_le</td>\n",
       "      <td>15.450370</td>\n",
       "    </tr>\n",
       "    <tr>\n",
       "      <th>6</th>\n",
       "      <td>FareBin_le</td>\n",
       "      <td>5.554616</td>\n",
       "    </tr>\n",
       "    <tr>\n",
       "      <th>7</th>\n",
       "      <td>AgeBin_le</td>\n",
       "      <td>5.020999</td>\n",
       "    </tr>\n",
       "    <tr>\n",
       "      <th>8</th>\n",
       "      <td>Cabin_le</td>\n",
       "      <td>22.228874</td>\n",
       "    </tr>\n",
       "  </tbody>\n",
       "</table>\n",
       "</div>"
      ],
      "text/plain": [
       "      features        VIF\n",
       "0       Pclass  26.824697\n",
       "1          Sex   1.694747\n",
       "2       Family   5.791280\n",
       "3      isAlone   4.540641\n",
       "4  Embarked_le   5.299197\n",
       "5     Title_le  15.450370\n",
       "6   FareBin_le   5.554616\n",
       "7    AgeBin_le   5.020999\n",
       "8     Cabin_le  22.228874"
      ]
     },
     "execution_count": 226,
     "metadata": {},
     "output_type": "execute_result"
    }
   ],
   "source": [
    "vif(X_train)"
   ]
  },
  {
   "cell_type": "markdown",
   "metadata": {},
   "source": [
    "### Finalizing feature selection"
   ]
  },
  {
   "cell_type": "code",
   "execution_count": 227,
   "metadata": {
    "execution": {
     "iopub.execute_input": "2025-01-04T05:32:44.872412Z",
     "iopub.status.busy": "2025-01-04T05:32:44.872004Z",
     "iopub.status.idle": "2025-01-04T05:32:44.881689Z",
     "shell.execute_reply": "2025-01-04T05:32:44.880355Z",
     "shell.execute_reply.started": "2025-01-04T05:32:44.872374Z"
    },
    "trusted": true
   },
   "outputs": [
    {
     "data": {
      "text/plain": [
       "Index(['Survived', 'Pclass', 'Sex', 'Family', 'isAlone', 'Embarked_le',\n",
       "       'FareBin_le', 'AgeBin_le'],\n",
       "      dtype='object')"
      ]
     },
     "execution_count": 227,
     "metadata": {},
     "output_type": "execute_result"
    }
   ],
   "source": [
    "# removing Title_le and Cabin_le according to VIF method\n",
    "\n",
    "train_FS = train_df.drop([\"Title_le\", \"Cabin_le\"], axis=1)\n",
    "test_FS = test_df.drop([\"Title_le\", \"Cabin_le\"], axis=1)\n",
    "\n",
    "train_FS.columns"
   ]
  },
  {
   "cell_type": "code",
   "execution_count": 228,
   "metadata": {
    "execution": {
     "iopub.execute_input": "2025-01-04T05:32:44.883227Z",
     "iopub.status.busy": "2025-01-04T05:32:44.882787Z",
     "iopub.status.idle": "2025-01-04T05:32:44.901731Z",
     "shell.execute_reply": "2025-01-04T05:32:44.900592Z",
     "shell.execute_reply.started": "2025-01-04T05:32:44.883199Z"
    },
    "trusted": true
   },
   "outputs": [],
   "source": [
    "X = train_FS.drop([\"Survived\"], axis=1)\n",
    "y = train_FS[\"Survived\"]"
   ]
  },
  {
   "cell_type": "markdown",
   "metadata": {},
   "source": [
    "### Splitting the data into train and test"
   ]
  },
  {
   "cell_type": "code",
   "execution_count": 229,
   "metadata": {
    "execution": {
     "iopub.execute_input": "2025-01-04T05:32:44.903375Z",
     "iopub.status.busy": "2025-01-04T05:32:44.902880Z",
     "iopub.status.idle": "2025-01-04T05:32:44.922184Z",
     "shell.execute_reply": "2025-01-04T05:32:44.921225Z",
     "shell.execute_reply.started": "2025-01-04T05:32:44.903287Z"
    },
    "trusted": true
   },
   "outputs": [],
   "source": [
    "X_train, X_test, y_train, y_test = train_test_split(X, y, test_size=0.3, random_state=42)"
   ]
  },
  {
   "cell_type": "code",
   "execution_count": 230,
   "metadata": {
    "execution": {
     "iopub.execute_input": "2025-01-04T05:32:44.923427Z",
     "iopub.status.busy": "2025-01-04T05:32:44.923075Z",
     "iopub.status.idle": "2025-01-04T05:32:44.942190Z",
     "shell.execute_reply": "2025-01-04T05:32:44.941133Z",
     "shell.execute_reply.started": "2025-01-04T05:32:44.923401Z"
    },
    "trusted": true
   },
   "outputs": [
    {
     "data": {
      "text/plain": [
       "((623, 7), (623,), (268, 7), (268,))"
      ]
     },
     "execution_count": 230,
     "metadata": {},
     "output_type": "execute_result"
    }
   ],
   "source": [
    "X_train.shape, y_train.shape, X_test.shape, y_test.shape"
   ]
  },
  {
   "cell_type": "code",
   "execution_count": 231,
   "metadata": {
    "execution": {
     "iopub.execute_input": "2025-01-04T05:32:44.943677Z",
     "iopub.status.busy": "2025-01-04T05:32:44.943288Z",
     "iopub.status.idle": "2025-01-04T05:32:44.964897Z",
     "shell.execute_reply": "2025-01-04T05:32:44.963718Z",
     "shell.execute_reply.started": "2025-01-04T05:32:44.943643Z"
    },
    "trusted": true
   },
   "outputs": [
    {
     "data": {
      "text/html": [
       "<div>\n",
       "<style scoped>\n",
       "    .dataframe tbody tr th:only-of-type {\n",
       "        vertical-align: middle;\n",
       "    }\n",
       "\n",
       "    .dataframe tbody tr th {\n",
       "        vertical-align: top;\n",
       "    }\n",
       "\n",
       "    .dataframe thead th {\n",
       "        text-align: right;\n",
       "    }\n",
       "</style>\n",
       "<table border=\"1\" class=\"dataframe\">\n",
       "  <thead>\n",
       "    <tr style=\"text-align: right;\">\n",
       "      <th></th>\n",
       "      <th>Pclass</th>\n",
       "      <th>Sex</th>\n",
       "      <th>Family</th>\n",
       "      <th>isAlone</th>\n",
       "      <th>Embarked_le</th>\n",
       "      <th>FareBin_le</th>\n",
       "      <th>AgeBin_le</th>\n",
       "    </tr>\n",
       "  </thead>\n",
       "  <tbody>\n",
       "    <tr>\n",
       "      <th>445</th>\n",
       "      <td>1</td>\n",
       "      <td>0</td>\n",
       "      <td>3</td>\n",
       "      <td>0</td>\n",
       "      <td>2</td>\n",
       "      <td>4</td>\n",
       "      <td>0</td>\n",
       "    </tr>\n",
       "    <tr>\n",
       "      <th>650</th>\n",
       "      <td>3</td>\n",
       "      <td>0</td>\n",
       "      <td>1</td>\n",
       "      <td>1</td>\n",
       "      <td>2</td>\n",
       "      <td>1</td>\n",
       "      <td>2</td>\n",
       "    </tr>\n",
       "    <tr>\n",
       "      <th>172</th>\n",
       "      <td>3</td>\n",
       "      <td>1</td>\n",
       "      <td>3</td>\n",
       "      <td>0</td>\n",
       "      <td>2</td>\n",
       "      <td>2</td>\n",
       "      <td>0</td>\n",
       "    </tr>\n",
       "    <tr>\n",
       "      <th>450</th>\n",
       "      <td>2</td>\n",
       "      <td>0</td>\n",
       "      <td>4</td>\n",
       "      <td>0</td>\n",
       "      <td>2</td>\n",
       "      <td>3</td>\n",
       "      <td>2</td>\n",
       "    </tr>\n",
       "    <tr>\n",
       "      <th>314</th>\n",
       "      <td>2</td>\n",
       "      <td>0</td>\n",
       "      <td>3</td>\n",
       "      <td>0</td>\n",
       "      <td>2</td>\n",
       "      <td>3</td>\n",
       "      <td>2</td>\n",
       "    </tr>\n",
       "  </tbody>\n",
       "</table>\n",
       "</div>"
      ],
      "text/plain": [
       "     Pclass  Sex  Family  isAlone  Embarked_le  FareBin_le  AgeBin_le\n",
       "445       1    0       3        0            2           4          0\n",
       "650       3    0       1        1            2           1          2\n",
       "172       3    1       3        0            2           2          0\n",
       "450       2    0       4        0            2           3          2\n",
       "314       2    0       3        0            2           3          2"
      ]
     },
     "execution_count": 231,
     "metadata": {},
     "output_type": "execute_result"
    }
   ],
   "source": [
    "X_train.head()"
   ]
  },
  {
   "cell_type": "code",
   "execution_count": 232,
   "metadata": {
    "execution": {
     "iopub.execute_input": "2025-01-04T05:32:44.966333Z",
     "iopub.status.busy": "2025-01-04T05:32:44.965945Z",
     "iopub.status.idle": "2025-01-04T05:32:44.996896Z",
     "shell.execute_reply": "2025-01-04T05:32:44.995692Z",
     "shell.execute_reply.started": "2025-01-04T05:32:44.966299Z"
    },
    "trusted": true
   },
   "outputs": [
    {
     "data": {
      "text/html": [
       "<div>\n",
       "<style scoped>\n",
       "    .dataframe tbody tr th:only-of-type {\n",
       "        vertical-align: middle;\n",
       "    }\n",
       "\n",
       "    .dataframe tbody tr th {\n",
       "        vertical-align: top;\n",
       "    }\n",
       "\n",
       "    .dataframe thead th {\n",
       "        text-align: right;\n",
       "    }\n",
       "</style>\n",
       "<table border=\"1\" class=\"dataframe\">\n",
       "  <thead>\n",
       "    <tr style=\"text-align: right;\">\n",
       "      <th></th>\n",
       "      <th>features</th>\n",
       "      <th>VIF</th>\n",
       "    </tr>\n",
       "  </thead>\n",
       "  <tbody>\n",
       "    <tr>\n",
       "      <th>0</th>\n",
       "      <td>Pclass</td>\n",
       "      <td>8.431685</td>\n",
       "    </tr>\n",
       "    <tr>\n",
       "      <th>1</th>\n",
       "      <td>Sex</td>\n",
       "      <td>1.649850</td>\n",
       "    </tr>\n",
       "    <tr>\n",
       "      <th>2</th>\n",
       "      <td>Family</td>\n",
       "      <td>5.433325</td>\n",
       "    </tr>\n",
       "    <tr>\n",
       "      <th>3</th>\n",
       "      <td>isAlone</td>\n",
       "      <td>4.516702</td>\n",
       "    </tr>\n",
       "    <tr>\n",
       "      <th>4</th>\n",
       "      <td>Embarked_le</td>\n",
       "      <td>5.109107</td>\n",
       "    </tr>\n",
       "    <tr>\n",
       "      <th>5</th>\n",
       "      <td>FareBin_le</td>\n",
       "      <td>4.285981</td>\n",
       "    </tr>\n",
       "    <tr>\n",
       "      <th>6</th>\n",
       "      <td>AgeBin_le</td>\n",
       "      <td>3.842101</td>\n",
       "    </tr>\n",
       "  </tbody>\n",
       "</table>\n",
       "</div>"
      ],
      "text/plain": [
       "      features       VIF\n",
       "0       Pclass  8.431685\n",
       "1          Sex  1.649850\n",
       "2       Family  5.433325\n",
       "3      isAlone  4.516702\n",
       "4  Embarked_le  5.109107\n",
       "5   FareBin_le  4.285981\n",
       "6    AgeBin_le  3.842101"
      ]
     },
     "execution_count": 232,
     "metadata": {},
     "output_type": "execute_result"
    }
   ],
   "source": [
    "vif(X_train)"
   ]
  },
  {
   "cell_type": "markdown",
   "metadata": {},
   "source": [
    "### Standardization"
   ]
  },
  {
   "cell_type": "code",
   "execution_count": 233,
   "metadata": {
    "execution": {
     "iopub.execute_input": "2025-01-04T05:32:44.998262Z",
     "iopub.status.busy": "2025-01-04T05:32:44.997853Z",
     "iopub.status.idle": "2025-01-04T05:32:45.010128Z",
     "shell.execute_reply": "2025-01-04T05:32:45.008948Z",
     "shell.execute_reply.started": "2025-01-04T05:32:44.998229Z"
    },
    "trusted": true
   },
   "outputs": [],
   "source": [
    "ss = StandardScaler()\n",
    "X_train = ss.fit_transform(X_train)\n",
    "X_test = ss.transform(X_test)"
   ]
  },
  {
   "cell_type": "markdown",
   "metadata": {},
   "source": [
    "# Performing EDA with statistics"
   ]
  },
  {
   "cell_type": "code",
   "execution_count": 234,
   "metadata": {
    "execution": {
     "iopub.execute_input": "2025-01-04T05:32:45.011683Z",
     "iopub.status.busy": "2025-01-04T05:32:45.011314Z",
     "iopub.status.idle": "2025-01-04T05:32:45.028642Z",
     "shell.execute_reply": "2025-01-04T05:32:45.027561Z",
     "shell.execute_reply.started": "2025-01-04T05:32:45.011652Z"
    },
    "trusted": true
   },
   "outputs": [],
   "source": [
    "### "
   ]
  },
  {
   "cell_type": "code",
   "execution_count": 235,
   "metadata": {
    "execution": {
     "iopub.execute_input": "2025-01-04T05:32:45.029929Z",
     "iopub.status.busy": "2025-01-04T05:32:45.029650Z",
     "iopub.status.idle": "2025-01-04T05:32:45.050296Z",
     "shell.execute_reply": "2025-01-04T05:32:45.049230Z",
     "shell.execute_reply.started": "2025-01-04T05:32:45.029904Z"
    },
    "trusted": true
   },
   "outputs": [
    {
     "data": {
      "text/plain": [
       "Index(['Survived', 'Pclass', 'Sex', 'Family', 'isAlone', 'Embarked_le',\n",
       "       'FareBin_le', 'AgeBin_le'],\n",
       "      dtype='object')"
      ]
     },
     "execution_count": 235,
     "metadata": {},
     "output_type": "execute_result"
    }
   ],
   "source": [
    "train_FS.columns"
   ]
  },
  {
   "cell_type": "code",
   "execution_count": 236,
   "metadata": {
    "execution": {
     "iopub.execute_input": "2025-01-04T05:32:45.051772Z",
     "iopub.status.busy": "2025-01-04T05:32:45.051354Z",
     "iopub.status.idle": "2025-01-04T05:32:45.108554Z",
     "shell.execute_reply": "2025-01-04T05:32:45.107407Z",
     "shell.execute_reply.started": "2025-01-04T05:32:45.051738Z"
    },
    "trusted": true
   },
   "outputs": [
    {
     "name": "stdout",
     "output_type": "stream",
     "text": [
      "Correlation of Survived with: Pclass\n",
      "   Pclass  Survived\n",
      "0       1  0.629630\n",
      "1       2  0.472826\n",
      "2       3  0.242363\n",
      "########## \n",
      "\n",
      "Correlation of Survived with: Sex\n",
      "   Sex  Survived\n",
      "0    0  0.188908\n",
      "1    1  0.742038\n",
      "########## \n",
      "\n",
      "Correlation of Survived with: Family\n",
      "   Family  Survived\n",
      "0       1  0.303538\n",
      "1       2  0.552795\n",
      "2       3  0.578431\n",
      "3       4  0.724138\n",
      "4       5  0.200000\n",
      "5       6  0.136364\n",
      "6       7  0.333333\n",
      "7       8  0.000000\n",
      "8      11  0.000000\n",
      "########## \n",
      "\n",
      "Correlation of Survived with: isAlone\n",
      "   isAlone  Survived\n",
      "0        0  0.505650\n",
      "1        1  0.303538\n",
      "########## \n",
      "\n",
      "Correlation of Survived with: Embarked_le\n",
      "   Embarked_le  Survived\n",
      "0            0  0.553571\n",
      "1            1  0.389610\n",
      "2            2  0.339009\n",
      "########## \n",
      "\n",
      "Correlation of Survived with: FareBin_le\n",
      "   FareBin_le  Survived\n",
      "0           0  0.217877\n",
      "1           1  0.201087\n",
      "2           2  0.424419\n",
      "3           3  0.444444\n",
      "4           4  0.642045\n",
      "########## \n",
      "\n",
      "Correlation of Survived with: AgeBin_le\n",
      "   AgeBin_le  Survived\n",
      "0          0  0.589744\n",
      "1          1  0.393229\n",
      "2          2  0.293548\n",
      "3          3  0.434783\n",
      "4          4  0.090909\n",
      "########## \n",
      "\n"
     ]
    }
   ],
   "source": [
    "# discrete variable correlation with Survived\n",
    "\n",
    "disc = ['Pclass', 'Sex', 'Family', 'isAlone', 'Embarked_le',\n",
    "       'FareBin_le', 'AgeBin_le']\n",
    "\n",
    "for x in disc:\n",
    "    if train_FS[x].dtype != \"float64\":\n",
    "        print(\"Correlation of Survived with:\", x)\n",
    "        print(train_FS[[x, \"Survived\"]].groupby(x, as_index=False).mean())\n",
    "        print(\"#\"*10, \"\\n\")"
   ]
  },
  {
   "cell_type": "code",
   "execution_count": 237,
   "metadata": {
    "execution": {
     "iopub.execute_input": "2025-01-04T05:32:45.109956Z",
     "iopub.status.busy": "2025-01-04T05:32:45.109604Z",
     "iopub.status.idle": "2025-01-04T05:32:45.114386Z",
     "shell.execute_reply": "2025-01-04T05:32:45.113037Z",
     "shell.execute_reply.started": "2025-01-04T05:32:45.109914Z"
    },
    "trusted": true
   },
   "outputs": [],
   "source": [
    "# visualizations"
   ]
  },
  {
   "cell_type": "markdown",
   "metadata": {},
   "source": [
    "# Model Data"
   ]
  },
  {
   "cell_type": "code",
   "execution_count": 238,
   "metadata": {
    "execution": {
     "iopub.execute_input": "2025-01-04T05:32:45.116201Z",
     "iopub.status.busy": "2025-01-04T05:32:45.115823Z",
     "iopub.status.idle": "2025-01-04T05:32:45.136211Z",
     "shell.execute_reply": "2025-01-04T05:32:45.135052Z",
     "shell.execute_reply.started": "2025-01-04T05:32:45.116169Z"
    },
    "trusted": true
   },
   "outputs": [],
   "source": [
    "# Machine Learning Algorithm selection and initialization\n",
    "\n",
    "MLA = [\n",
    "    # Ensemble methods\n",
    "    ensemble.AdaBoostClassifier(),\n",
    "    ensemble.BaggingClassifier(),\n",
    "    ensemble.GradientBoostingClassifier(),\n",
    "    ensemble.RandomForestClassifier(),\n",
    "\n",
    "    # Linear models\n",
    "    linear_model.LogisticRegressionCV(),\n",
    "    linear_model.RidgeClassifierCV(),\n",
    "    linear_model.SGDClassifier(),\n",
    "    linear_model.Perceptron(),\n",
    "\n",
    "    # Naive Bayes\n",
    "    naive_bayes.BernoulliNB(),\n",
    "    naive_bayes.GaussianNB(),\n",
    "\n",
    "    # Nearest Neighbors\n",
    "    neighbors.KNeighborsClassifier(),\n",
    "\n",
    "    # SVM\n",
    "    svm.SVC(probability=True),\n",
    "        #NuSVC\n",
    "\n",
    "    # Trees\n",
    "    tree.DecisionTreeClassifier(),\n",
    "\n",
    "    # Discriminant Analysis\n",
    "    discriminant_analysis.LinearDiscriminantAnalysis(),\n",
    "        # quadratic\n",
    "\n",
    "    # XGBoost\n",
    "    XGBClassifier()\n",
    "]"
   ]
  },
  {
   "cell_type": "code",
   "execution_count": 239,
   "metadata": {
    "execution": {
     "iopub.execute_input": "2025-01-04T05:32:45.137859Z",
     "iopub.status.busy": "2025-01-04T05:32:45.137463Z",
     "iopub.status.idle": "2025-01-04T05:32:45.156549Z",
     "shell.execute_reply": "2025-01-04T05:32:45.155337Z",
     "shell.execute_reply.started": "2025-01-04T05:32:45.137828Z"
    },
    "trusted": true
   },
   "outputs": [],
   "source": [
    "from sklearn.model_selection import cross_val_score\n",
    "from sklearn.metrics import confusion_matrix, accuracy_score, classification_report, confusion_matrix\n",
    "\n",
    "def print_model_score(clf, X_train, y_train):\n",
    "    \n",
    "    clf.fit(X_train, y_train)\n",
    "    y_pred = clf.predict(X_train)\n",
    "\n",
    "    print(\"--- Training Result ---\\n\")\n",
    "    print(f\"Accuracy: {accuracy_score(y_train, y_pred):.4f}\")\n",
    "    print(f\"Classification Report:\\n {classification_report(y_train, y_pred)}\")\n",
    "    print(f\"Confusion Matrix:\\n {confusion_matrix(y_train, y_pred)}\")\n",
    "\n",
    "    cvs = cross_val_score(clf, X_train, y_train, cv=10, scoring=\"accuracy\")\n",
    "    mean_cvs = np.mean(cvs)\n",
    "\n",
    "    print(f\"Average accuracy: {mean_cvs:.4f}\")\n",
    "    print(f\"SD accuracy: {np.std(cvs):.4f}\")"
   ]
  },
  {
   "cell_type": "code",
   "execution_count": 240,
   "metadata": {
    "execution": {
     "iopub.execute_input": "2025-01-04T05:32:45.157919Z",
     "iopub.status.busy": "2025-01-04T05:32:45.157586Z",
     "iopub.status.idle": "2025-01-04T05:32:45.177592Z",
     "shell.execute_reply": "2025-01-04T05:32:45.176470Z",
     "shell.execute_reply.started": "2025-01-04T05:32:45.157878Z"
    },
    "scrolled": true,
    "trusted": true
   },
   "outputs": [],
   "source": [
    "# for clf in MLA:\n",
    "#     print(\"- \"*20)\n",
    "#     print(clf)\n",
    "#     print_model_score(clf, X_train, y_train)\n",
    "#     print(\"- \"*20)"
   ]
  },
  {
   "cell_type": "code",
   "execution_count": 241,
   "metadata": {
    "execution": {
     "iopub.execute_input": "2025-01-04T05:32:45.179246Z",
     "iopub.status.busy": "2025-01-04T05:32:45.178875Z",
     "iopub.status.idle": "2025-01-04T05:32:58.787561Z",
     "shell.execute_reply": "2025-01-04T05:32:58.786655Z",
     "shell.execute_reply.started": "2025-01-04T05:32:45.179216Z"
    },
    "trusted": true
   },
   "outputs": [
    {
     "data": {
      "text/html": [
       "<div>\n",
       "<style scoped>\n",
       "    .dataframe tbody tr th:only-of-type {\n",
       "        vertical-align: middle;\n",
       "    }\n",
       "\n",
       "    .dataframe tbody tr th {\n",
       "        vertical-align: top;\n",
       "    }\n",
       "\n",
       "    .dataframe thead th {\n",
       "        text-align: right;\n",
       "    }\n",
       "</style>\n",
       "<table border=\"1\" class=\"dataframe\">\n",
       "  <thead>\n",
       "    <tr style=\"text-align: right;\">\n",
       "      <th></th>\n",
       "      <th>Name</th>\n",
       "      <th>Parameters</th>\n",
       "      <th>Train Accuracy Mean</th>\n",
       "      <th>Train Accuracy STD</th>\n",
       "      <th>Test Accuracy</th>\n",
       "      <th>Time_Taken</th>\n",
       "    </tr>\n",
       "  </thead>\n",
       "  <tbody>\n",
       "    <tr>\n",
       "      <th>11</th>\n",
       "      <td>SVC</td>\n",
       "      <td>{'C': 1.0, 'break_ties': False, 'cache_size': ...</td>\n",
       "      <td>0.809375</td>\n",
       "      <td>0.085367</td>\n",
       "      <td>0.817164</td>\n",
       "      <td>0.046587</td>\n",
       "    </tr>\n",
       "    <tr>\n",
       "      <th>3</th>\n",
       "      <td>RandomForestClassifier</td>\n",
       "      <td>{'bootstrap': True, 'ccp_alpha': 0.0, 'class_w...</td>\n",
       "      <td>0.815675</td>\n",
       "      <td>0.078311</td>\n",
       "      <td>0.809701</td>\n",
       "      <td>0.170439</td>\n",
       "    </tr>\n",
       "    <tr>\n",
       "      <th>4</th>\n",
       "      <td>LogisticRegressionCV</td>\n",
       "      <td>{'Cs': 10, 'class_weight': None, 'cv': None, '...</td>\n",
       "      <td>0.799597</td>\n",
       "      <td>0.093542</td>\n",
       "      <td>0.809701</td>\n",
       "      <td>0.114123</td>\n",
       "    </tr>\n",
       "    <tr>\n",
       "      <th>14</th>\n",
       "      <td>XGBClassifier</td>\n",
       "      <td>{'objective': 'binary:logistic', 'base_score':...</td>\n",
       "      <td>0.807661</td>\n",
       "      <td>0.076438</td>\n",
       "      <td>0.809701</td>\n",
       "      <td>0.046604</td>\n",
       "    </tr>\n",
       "    <tr>\n",
       "      <th>6</th>\n",
       "      <td>SGDClassifier</td>\n",
       "      <td>{'alpha': 0.0001, 'average': False, 'class_wei...</td>\n",
       "      <td>0.735534</td>\n",
       "      <td>0.097814</td>\n",
       "      <td>0.798507</td>\n",
       "      <td>0.003151</td>\n",
       "    </tr>\n",
       "    <tr>\n",
       "      <th>10</th>\n",
       "      <td>KNeighborsClassifier</td>\n",
       "      <td>{'algorithm': 'auto', 'leaf_size': 30, 'metric...</td>\n",
       "      <td>0.826915</td>\n",
       "      <td>0.082792</td>\n",
       "      <td>0.798507</td>\n",
       "      <td>0.00136</td>\n",
       "    </tr>\n",
       "    <tr>\n",
       "      <th>0</th>\n",
       "      <td>AdaBoostClassifier</td>\n",
       "      <td>{'algorithm': 'SAMME.R', 'base_estimator': 'de...</td>\n",
       "      <td>0.797883</td>\n",
       "      <td>0.087718</td>\n",
       "      <td>0.791045</td>\n",
       "      <td>0.08731</td>\n",
       "    </tr>\n",
       "    <tr>\n",
       "      <th>2</th>\n",
       "      <td>GradientBoostingClassifier</td>\n",
       "      <td>{'ccp_alpha': 0.0, 'criterion': 'friedman_mse'...</td>\n",
       "      <td>0.822077</td>\n",
       "      <td>0.076202</td>\n",
       "      <td>0.787313</td>\n",
       "      <td>0.104952</td>\n",
       "    </tr>\n",
       "    <tr>\n",
       "      <th>5</th>\n",
       "      <td>RidgeClassifierCV</td>\n",
       "      <td>{'alphas': (0.1, 1.0, 10.0), 'class_weight': N...</td>\n",
       "      <td>0.798085</td>\n",
       "      <td>0.095528</td>\n",
       "      <td>0.787313</td>\n",
       "      <td>0.003279</td>\n",
       "    </tr>\n",
       "    <tr>\n",
       "      <th>12</th>\n",
       "      <td>DecisionTreeClassifier</td>\n",
       "      <td>{'ccp_alpha': 0.0, 'class_weight': None, 'crit...</td>\n",
       "      <td>0.80131</td>\n",
       "      <td>0.071803</td>\n",
       "      <td>0.787313</td>\n",
       "      <td>0.00148</td>\n",
       "    </tr>\n",
       "    <tr>\n",
       "      <th>13</th>\n",
       "      <td>LinearDiscriminantAnalysis</td>\n",
       "      <td>{'covariance_estimator': None, 'n_components':...</td>\n",
       "      <td>0.796472</td>\n",
       "      <td>0.092885</td>\n",
       "      <td>0.787313</td>\n",
       "      <td>0.001694</td>\n",
       "    </tr>\n",
       "    <tr>\n",
       "      <th>9</th>\n",
       "      <td>GaussianNB</td>\n",
       "      <td>{'priors': None, 'var_smoothing': 1e-09}</td>\n",
       "      <td>0.773891</td>\n",
       "      <td>0.114227</td>\n",
       "      <td>0.779851</td>\n",
       "      <td>0.001258</td>\n",
       "    </tr>\n",
       "    <tr>\n",
       "      <th>1</th>\n",
       "      <td>BaggingClassifier</td>\n",
       "      <td>{'base_estimator': 'deprecated', 'bootstrap': ...</td>\n",
       "      <td>0.802772</td>\n",
       "      <td>0.068517</td>\n",
       "      <td>0.753731</td>\n",
       "      <td>0.022851</td>\n",
       "    </tr>\n",
       "    <tr>\n",
       "      <th>7</th>\n",
       "      <td>Perceptron</td>\n",
       "      <td>{'alpha': 0.0001, 'class_weight': None, 'early...</td>\n",
       "      <td>0.752923</td>\n",
       "      <td>0.092279</td>\n",
       "      <td>0.746269</td>\n",
       "      <td>0.001854</td>\n",
       "    </tr>\n",
       "    <tr>\n",
       "      <th>8</th>\n",
       "      <td>BernoulliNB</td>\n",
       "      <td>{'alpha': 1.0, 'binarize': 0.0, 'class_prior':...</td>\n",
       "      <td>0.749798</td>\n",
       "      <td>0.104433</td>\n",
       "      <td>0.746269</td>\n",
       "      <td>0.0017</td>\n",
       "    </tr>\n",
       "  </tbody>\n",
       "</table>\n",
       "</div>"
      ],
      "text/plain": [
       "                          Name  \\\n",
       "11                         SVC   \n",
       "3       RandomForestClassifier   \n",
       "4         LogisticRegressionCV   \n",
       "14               XGBClassifier   \n",
       "6                SGDClassifier   \n",
       "10        KNeighborsClassifier   \n",
       "0           AdaBoostClassifier   \n",
       "2   GradientBoostingClassifier   \n",
       "5            RidgeClassifierCV   \n",
       "12      DecisionTreeClassifier   \n",
       "13  LinearDiscriminantAnalysis   \n",
       "9                   GaussianNB   \n",
       "1            BaggingClassifier   \n",
       "7                   Perceptron   \n",
       "8                  BernoulliNB   \n",
       "\n",
       "                                           Parameters Train Accuracy Mean  \\\n",
       "11  {'C': 1.0, 'break_ties': False, 'cache_size': ...            0.809375   \n",
       "3   {'bootstrap': True, 'ccp_alpha': 0.0, 'class_w...            0.815675   \n",
       "4   {'Cs': 10, 'class_weight': None, 'cv': None, '...            0.799597   \n",
       "14  {'objective': 'binary:logistic', 'base_score':...            0.807661   \n",
       "6   {'alpha': 0.0001, 'average': False, 'class_wei...            0.735534   \n",
       "10  {'algorithm': 'auto', 'leaf_size': 30, 'metric...            0.826915   \n",
       "0   {'algorithm': 'SAMME.R', 'base_estimator': 'de...            0.797883   \n",
       "2   {'ccp_alpha': 0.0, 'criterion': 'friedman_mse'...            0.822077   \n",
       "5   {'alphas': (0.1, 1.0, 10.0), 'class_weight': N...            0.798085   \n",
       "12  {'ccp_alpha': 0.0, 'class_weight': None, 'crit...             0.80131   \n",
       "13  {'covariance_estimator': None, 'n_components':...            0.796472   \n",
       "9            {'priors': None, 'var_smoothing': 1e-09}            0.773891   \n",
       "1   {'base_estimator': 'deprecated', 'bootstrap': ...            0.802772   \n",
       "7   {'alpha': 0.0001, 'class_weight': None, 'early...            0.752923   \n",
       "8   {'alpha': 1.0, 'binarize': 0.0, 'class_prior':...            0.749798   \n",
       "\n",
       "   Train Accuracy STD Test Accuracy Time_Taken  \n",
       "11           0.085367      0.817164   0.046587  \n",
       "3            0.078311      0.809701   0.170439  \n",
       "4            0.093542      0.809701   0.114123  \n",
       "14           0.076438      0.809701   0.046604  \n",
       "6            0.097814      0.798507   0.003151  \n",
       "10           0.082792      0.798507    0.00136  \n",
       "0            0.087718      0.791045    0.08731  \n",
       "2            0.076202      0.787313   0.104952  \n",
       "5            0.095528      0.787313   0.003279  \n",
       "12           0.071803      0.787313    0.00148  \n",
       "13           0.092885      0.787313   0.001694  \n",
       "9            0.114227      0.779851   0.001258  \n",
       "1            0.068517      0.753731   0.022851  \n",
       "7            0.092279      0.746269   0.001854  \n",
       "8            0.104433      0.746269     0.0017  "
      ]
     },
     "execution_count": 241,
     "metadata": {},
     "output_type": "execute_result"
    }
   ],
   "source": [
    "# model comparison\n",
    "\n",
    "columns = [\"Name\", \"Parameters\", \"Train Accuracy Mean\", \"Train Accuracy STD\", \"Test Accuracy\", \"Time_Taken\"]\n",
    "comparison = pd.DataFrame(columns=columns)\n",
    "\n",
    "row_idx = 0\n",
    "\n",
    "for clf in MLA:\n",
    "    comparison.loc[row_idx, \"Name\"] = clf.__class__.__name__\n",
    "    comparison.loc[row_idx, \"Parameters\"] = str(clf.get_params())\n",
    "\n",
    "    cv_result = cross_validate(clf, X_train, y_train, cv=20)\n",
    "\n",
    "    comparison.loc[row_idx, \"Time_Taken\"] = cv_result[\"fit_time\"].mean()\n",
    "    comparison.loc[row_idx, \"Train Accuracy Mean\"] = cv_result[\"test_score\"].mean()\n",
    "    comparison.loc[row_idx, \"Train Accuracy STD\"] = cv_result[\"test_score\"].std()\n",
    "\n",
    "    clf.fit(X_train, y_train)\n",
    "    comparison.loc[row_idx, \"Test Accuracy\"] = accuracy_score(y_test, clf.predict(X_test))\n",
    "\n",
    "    row_idx += 1\n",
    "    \n",
    "comparison.sort_values(by=[\"Test Accuracy\"], ascending=False, inplace=True)\n",
    "comparison"
   ]
  },
  {
   "cell_type": "code",
   "execution_count": 242,
   "metadata": {
    "execution": {
     "iopub.execute_input": "2025-01-04T05:32:58.789051Z",
     "iopub.status.busy": "2025-01-04T05:32:58.788752Z",
     "iopub.status.idle": "2025-01-04T05:32:59.590672Z",
     "shell.execute_reply": "2025-01-04T05:32:59.589608Z",
     "shell.execute_reply.started": "2025-01-04T05:32:58.789025Z"
    },
    "trusted": true
   },
   "outputs": [
    {
     "data": {
      "image/png": "[encoded data removed]",
      "text/plain": [
       "<Figure size 1600x600 with 2 Axes>"
      ]
     },
     "metadata": {},
     "output_type": "display_data"
    }
   ],
   "source": [
    "plt.figure(figsize=(16, 6))\n",
    "\n",
    "plt.subplot(121)\n",
    "sns.barplot(comparison, x=\"Train Accuracy Mean\", y=\"Name\", color=\"green\")\n",
    "plt.title(\"Accuracy Score\")\n",
    "plt.xlabel(\"Mean Train Accuracy\")\n",
    "plt.ylabel(\"Algorithm\")\n",
    "\n",
    "plt.subplot(122)\n",
    "sns.barplot(comparison, x=\"Test Accuracy\", y=\"Name\", color=\"yellow\")\n",
    "plt.title(\"Accuracy Score\")\n",
    "plt.xlabel(\"Test Accuracy\")\n",
    "plt.ylabel(\"\")\n",
    "plt.gca().set_yticklabels([])\n",
    "plt.tight_layout();"
   ]
  },
  {
   "cell_type": "code",
   "execution_count": 243,
   "metadata": {
    "execution": {
     "iopub.execute_input": "2025-01-04T05:32:59.592292Z",
     "iopub.status.busy": "2025-01-04T05:32:59.591880Z",
     "iopub.status.idle": "2025-01-04T05:32:59.596521Z",
     "shell.execute_reply": "2025-01-04T05:32:59.595348Z",
     "shell.execute_reply.started": "2025-01-04T05:32:59.592249Z"
    },
    "trusted": true
   },
   "outputs": [],
   "source": [
    "# best according to mean training accuracy - KNeighborsClassifier \n",
    "# best according to test accuracy - SVC"
   ]
  },
  {
   "cell_type": "markdown",
   "metadata": {},
   "source": [
    "# Hyperparameter Tuning"
   ]
  },
  {
   "cell_type": "code",
   "execution_count": 244,
   "metadata": {
    "execution": {
     "iopub.execute_input": "2025-01-04T05:32:59.597913Z",
     "iopub.status.busy": "2025-01-04T05:32:59.597520Z",
     "iopub.status.idle": "2025-01-04T05:33:07.499628Z",
     "shell.execute_reply": "2025-01-04T05:33:07.498801Z",
     "shell.execute_reply.started": "2025-01-04T05:32:59.597873Z"
    },
    "trusted": true
   },
   "outputs": [
    {
     "data": {
      "text/html": [
       "<style>#sk-container-id-11 {color: black;background-color: white;}#sk-container-id-11 pre{padding: 0;}#sk-container-id-11 div.sk-toggleable {background-color: white;}#sk-container-id-11 label.sk-toggleable__label {cursor: pointer;display: block;width: 100%;margin-bottom: 0;padding: 0.3em;box-sizing: border-box;text-align: center;}#sk-container-id-11 label.sk-toggleable__label-arrow:before {content: \"▸\";float: left;margin-right: 0.25em;color: #696969;}#sk-container-id-11 label.sk-toggleable__label-arrow:hover:before {color: black;}#sk-container-id-11 div.sk-estimator:hover label.sk-toggleable__label-arrow:before {color: black;}#sk-container-id-11 div.sk-toggleable__content {max-height: 0;max-width: 0;overflow: hidden;text-align: left;background-color: #f0f8ff;}#sk-container-id-11 div.sk-toggleable__content pre {margin: 0.2em;color: black;border-radius: 0.25em;background-color: #f0f8ff;}#sk-container-id-11 input.sk-toggleable__control:checked~div.sk-toggleable__content {max-height: 200px;max-width: 100%;overflow: auto;}#sk-container-id-11 input.sk-toggleable__control:checked~label.sk-toggleable__label-arrow:before {content: \"▾\";}#sk-container-id-11 div.sk-estimator input.sk-toggleable__control:checked~label.sk-toggleable__label {background-color: #d4ebff;}#sk-container-id-11 div.sk-label input.sk-toggleable__control:checked~label.sk-toggleable__label {background-color: #d4ebff;}#sk-container-id-11 input.sk-hidden--visually {border: 0;clip: rect(1px 1px 1px 1px);clip: rect(1px, 1px, 1px, 1px);height: 1px;margin: -1px;overflow: hidden;padding: 0;position: absolute;width: 1px;}#sk-container-id-11 div.sk-estimator {font-family: monospace;background-color: #f0f8ff;border: 1px dotted black;border-radius: 0.25em;box-sizing: border-box;margin-bottom: 0.5em;}#sk-container-id-11 div.sk-estimator:hover {background-color: #d4ebff;}#sk-container-id-11 div.sk-parallel-item::after {content: \"\";width: 100%;border-bottom: 1px solid gray;flex-grow: 1;}#sk-container-id-11 div.sk-label:hover label.sk-toggleable__label {background-color: #d4ebff;}#sk-container-id-11 div.sk-serial::before {content: \"\";position: absolute;border-left: 1px solid gray;box-sizing: border-box;top: 0;bottom: 0;left: 50%;z-index: 0;}#sk-container-id-11 div.sk-serial {display: flex;flex-direction: column;align-items: center;background-color: white;padding-right: 0.2em;padding-left: 0.2em;position: relative;}#sk-container-id-11 div.sk-item {position: relative;z-index: 1;}#sk-container-id-11 div.sk-parallel {display: flex;align-items: stretch;justify-content: center;background-color: white;position: relative;}#sk-container-id-11 div.sk-item::before, #sk-container-id-11 div.sk-parallel-item::before {content: \"\";position: absolute;border-left: 1px solid gray;box-sizing: border-box;top: 0;bottom: 0;left: 50%;z-index: -1;}#sk-container-id-11 div.sk-parallel-item {display: flex;flex-direction: column;z-index: 1;position: relative;background-color: white;}#sk-container-id-11 div.sk-parallel-item:first-child::after {align-self: flex-end;width: 50%;}#sk-container-id-11 div.sk-parallel-item:last-child::after {align-self: flex-start;width: 50%;}#sk-container-id-11 div.sk-parallel-item:only-child::after {width: 0;}#sk-container-id-11 div.sk-dashed-wrapped {border: 1px dashed gray;margin: 0 0.4em 0.5em 0.4em;box-sizing: border-box;padding-bottom: 0.4em;background-color: white;}#sk-container-id-11 div.sk-label label {font-family: monospace;font-weight: bold;display: inline-block;line-height: 1.2em;}#sk-container-id-11 div.sk-label-container {text-align: center;}#sk-container-id-11 div.sk-container {/* jupyter's `normalize.less` sets `[hidden] { display: none; }` but bootstrap.min.css set `[hidden] { display: none !important; }` so we also need the `!important` here to be able to override the default hidden behavior on the sphinx rendered scikit-learn.org. See: https://github.com/scikit-learn/scikit-learn/issues/21755 */display: inline-block !important;position: relative;}#sk-container-id-11 div.sk-text-repr-fallback {display: none;}</style><div id=\"sk-container-id-11\" class=\"sk-top-container\"><div class=\"sk-text-repr-fallback\"><pre>KNeighborsClassifier(algorithm=&#x27;brute&#x27;, n_jobs=-1, p=3)</pre><b>In a Jupyter environment, please rerun this cell to show the HTML representation or trust the notebook. <br />On GitHub, the HTML representation is unable to render, please try loading this page with nbviewer.org.</b></div><div class=\"sk-container\" hidden><div class=\"sk-item\"><div class=\"sk-estimator sk-toggleable\"><input class=\"sk-toggleable__control sk-hidden--visually\" id=\"sk-estimator-id-15\" type=\"checkbox\" checked><label for=\"sk-estimator-id-15\" class=\"sk-toggleable__label sk-toggleable__label-arrow\">KNeighborsClassifier</label><div class=\"sk-toggleable__content\"><pre>KNeighborsClassifier(algorithm=&#x27;brute&#x27;, n_jobs=-1, p=3)</pre></div></div></div></div></div>"
      ],
      "text/plain": [
       "KNeighborsClassifier(algorithm='brute', n_jobs=-1, p=3)"
      ]
     },
     "execution_count": 244,
     "metadata": {},
     "output_type": "execute_result"
    }
   ],
   "source": [
    "# tuning hyperparameters of KNeighborsClassifier\n",
    "\n",
    "knc = neighbors.KNeighborsClassifier()\n",
    "\n",
    "param_grid = {\n",
    "                \"n_neighbors\": [3, 5, 10, 15], # default=5\n",
    "                \"weights\": [\"uniform\", \"distance\"], # default=\"uniform\"\n",
    "                \"algorithm\": [\"auto\", \"ball_tree\", \"kd_tree\", \"brute\"], # default=\"auto\"\n",
    "                \"p\": [1, 2, 3, 5], # default=2 # Euclidean\n",
    "                \"n_jobs\": [-1]}\n",
    "\n",
    "gs = GridSearchCV(knc, param_grid=param_grid, cv=3)\n",
    "\n",
    "gs.fit(X_train, y_train)\n",
    "gs.best_estimator_"
   ]
  },
  {
   "cell_type": "code",
   "execution_count": 245,
   "metadata": {
    "execution": {
     "iopub.execute_input": "2025-01-04T05:33:07.500652Z",
     "iopub.status.busy": "2025-01-04T05:33:07.500388Z",
     "iopub.status.idle": "2025-01-04T05:33:07.640985Z",
     "shell.execute_reply": "2025-01-04T05:33:07.639741Z",
     "shell.execute_reply.started": "2025-01-04T05:33:07.500628Z"
    },
    "trusted": true
   },
   "outputs": [
    {
     "name": "stdout",
     "output_type": "stream",
     "text": [
      "{'algorithm': 'brute', 'leaf_size': 30, 'metric': 'minkowski', 'metric_params': None, 'n_jobs': -1, 'n_neighbors': 5, 'p': 3, 'weights': 'uniform'}\n",
      "Train Result:\n",
      "\n",
      "Accuracy score: 0.8555\n",
      "\n",
      "Classification Report: \n",
      "               precision    recall  f1-score   support\n",
      "\n",
      "           0       0.86      0.92      0.89       392\n",
      "           1       0.84      0.75      0.79       231\n",
      "\n",
      "    accuracy                           0.86       623\n",
      "   macro avg       0.85      0.83      0.84       623\n",
      "weighted avg       0.85      0.86      0.85       623\n",
      "\n",
      "\n",
      "Confusion Matrix: \n",
      " [[359  33]\n",
      " [ 57 174]]\n",
      "\n",
      "**************************************************\n",
      "Test Result:\n",
      "\n",
      "Accuracy score: 0.7873\n",
      "\n",
      "Classification Report: \n",
      "               precision    recall  f1-score   support\n",
      "\n",
      "           0       0.80      0.85      0.82       157\n",
      "           1       0.76      0.70      0.73       111\n",
      "\n",
      "    accuracy                           0.79       268\n",
      "   macro avg       0.78      0.77      0.78       268\n",
      "weighted avg       0.79      0.79      0.79       268\n",
      "\n",
      "\n",
      "Confusion Matrix: \n",
      " [[133  24]\n",
      " [ 33  78]]\n",
      "\n"
     ]
    }
   ],
   "source": [
    "best_knc = gs.best_estimator_\n",
    "print(best_knc.get_params())\n",
    "\n",
    "best_knc.fit(X_train, y_train)\n",
    "\n",
    "y_pred = best_knc.predict(X_train)\n",
    "\n",
    "print(\"Train Result:\\n\")\n",
    "print(\"Accuracy score: {0:.4f}\\n\".format(accuracy_score(y_train, y_pred)))\n",
    "print(\"Classification Report: \\n {}\\n\".format(classification_report(y_train, y_pred)))\n",
    "print(\"Confusion Matrix: \\n {}\\n\".format(confusion_matrix(y_train, y_pred)))\n",
    "print('*'*50)\n",
    "\n",
    "y_pred = best_knc.predict(X_test)\n",
    "\n",
    "\n",
    "print(\"Test Result:\\n\")\n",
    "print(\"Accuracy score: {0:.4f}\\n\".format(accuracy_score(y_test, y_pred)))\n",
    "print(\"Classification Report: \\n {}\\n\".format(classification_report(y_test, y_pred)))\n",
    "print(\"Confusion Matrix: \\n {}\\n\".format(confusion_matrix(y_test, y_pred)))"
   ]
  },
  {
   "cell_type": "code",
   "execution_count": 246,
   "metadata": {
    "execution": {
     "iopub.execute_input": "2025-01-04T05:33:07.642532Z",
     "iopub.status.busy": "2025-01-04T05:33:07.642174Z",
     "iopub.status.idle": "2025-01-04T05:33:11.541423Z",
     "shell.execute_reply": "2025-01-04T05:33:11.540550Z",
     "shell.execute_reply.started": "2025-01-04T05:33:07.642504Z"
    },
    "trusted": true
   },
   "outputs": [
    {
     "data": {
      "text/html": [
       "<style>#sk-container-id-12 {color: black;background-color: white;}#sk-container-id-12 pre{padding: 0;}#sk-container-id-12 div.sk-toggleable {background-color: white;}#sk-container-id-12 label.sk-toggleable__label {cursor: pointer;display: block;width: 100%;margin-bottom: 0;padding: 0.3em;box-sizing: border-box;text-align: center;}#sk-container-id-12 label.sk-toggleable__label-arrow:before {content: \"▸\";float: left;margin-right: 0.25em;color: #696969;}#sk-container-id-12 label.sk-toggleable__label-arrow:hover:before {color: black;}#sk-container-id-12 div.sk-estimator:hover label.sk-toggleable__label-arrow:before {color: black;}#sk-container-id-12 div.sk-toggleable__content {max-height: 0;max-width: 0;overflow: hidden;text-align: left;background-color: #f0f8ff;}#sk-container-id-12 div.sk-toggleable__content pre {margin: 0.2em;color: black;border-radius: 0.25em;background-color: #f0f8ff;}#sk-container-id-12 input.sk-toggleable__control:checked~div.sk-toggleable__content {max-height: 200px;max-width: 100%;overflow: auto;}#sk-container-id-12 input.sk-toggleable__control:checked~label.sk-toggleable__label-arrow:before {content: \"▾\";}#sk-container-id-12 div.sk-estimator input.sk-toggleable__control:checked~label.sk-toggleable__label {background-color: #d4ebff;}#sk-container-id-12 div.sk-label input.sk-toggleable__control:checked~label.sk-toggleable__label {background-color: #d4ebff;}#sk-container-id-12 input.sk-hidden--visually {border: 0;clip: rect(1px 1px 1px 1px);clip: rect(1px, 1px, 1px, 1px);height: 1px;margin: -1px;overflow: hidden;padding: 0;position: absolute;width: 1px;}#sk-container-id-12 div.sk-estimator {font-family: monospace;background-color: #f0f8ff;border: 1px dotted black;border-radius: 0.25em;box-sizing: border-box;margin-bottom: 0.5em;}#sk-container-id-12 div.sk-estimator:hover {background-color: #d4ebff;}#sk-container-id-12 div.sk-parallel-item::after {content: \"\";width: 100%;border-bottom: 1px solid gray;flex-grow: 1;}#sk-container-id-12 div.sk-label:hover label.sk-toggleable__label {background-color: #d4ebff;}#sk-container-id-12 div.sk-serial::before {content: \"\";position: absolute;border-left: 1px solid gray;box-sizing: border-box;top: 0;bottom: 0;left: 50%;z-index: 0;}#sk-container-id-12 div.sk-serial {display: flex;flex-direction: column;align-items: center;background-color: white;padding-right: 0.2em;padding-left: 0.2em;position: relative;}#sk-container-id-12 div.sk-item {position: relative;z-index: 1;}#sk-container-id-12 div.sk-parallel {display: flex;align-items: stretch;justify-content: center;background-color: white;position: relative;}#sk-container-id-12 div.sk-item::before, #sk-container-id-12 div.sk-parallel-item::before {content: \"\";position: absolute;border-left: 1px solid gray;box-sizing: border-box;top: 0;bottom: 0;left: 50%;z-index: -1;}#sk-container-id-12 div.sk-parallel-item {display: flex;flex-direction: column;z-index: 1;position: relative;background-color: white;}#sk-container-id-12 div.sk-parallel-item:first-child::after {align-self: flex-end;width: 50%;}#sk-container-id-12 div.sk-parallel-item:last-child::after {align-self: flex-start;width: 50%;}#sk-container-id-12 div.sk-parallel-item:only-child::after {width: 0;}#sk-container-id-12 div.sk-dashed-wrapped {border: 1px dashed gray;margin: 0 0.4em 0.5em 0.4em;box-sizing: border-box;padding-bottom: 0.4em;background-color: white;}#sk-container-id-12 div.sk-label label {font-family: monospace;font-weight: bold;display: inline-block;line-height: 1.2em;}#sk-container-id-12 div.sk-label-container {text-align: center;}#sk-container-id-12 div.sk-container {/* jupyter's `normalize.less` sets `[hidden] { display: none; }` but bootstrap.min.css set `[hidden] { display: none !important; }` so we also need the `!important` here to be able to override the default hidden behavior on the sphinx rendered scikit-learn.org. See: https://github.com/scikit-learn/scikit-learn/issues/21755 */display: inline-block !important;position: relative;}#sk-container-id-12 div.sk-text-repr-fallback {display: none;}</style><div id=\"sk-container-id-12\" class=\"sk-top-container\"><div class=\"sk-text-repr-fallback\"><pre>SVC(C=1, decision_function_shape=&#x27;ovo&#x27;, gamma=0.5, probability=True)</pre><b>In a Jupyter environment, please rerun this cell to show the HTML representation or trust the notebook. <br />On GitHub, the HTML representation is unable to render, please try loading this page with nbviewer.org.</b></div><div class=\"sk-container\" hidden><div class=\"sk-item\"><div class=\"sk-estimator sk-toggleable\"><input class=\"sk-toggleable__control sk-hidden--visually\" id=\"sk-estimator-id-16\" type=\"checkbox\" checked><label for=\"sk-estimator-id-16\" class=\"sk-toggleable__label sk-toggleable__label-arrow\">SVC</label><div class=\"sk-toggleable__content\"><pre>SVC(C=1, decision_function_shape=&#x27;ovo&#x27;, gamma=0.5, probability=True)</pre></div></div></div></div></div>"
      ],
      "text/plain": [
       "SVC(C=1, decision_function_shape='ovo', gamma=0.5, probability=True)"
      ]
     },
     "execution_count": 246,
     "metadata": {},
     "output_type": "execute_result"
    }
   ],
   "source": [
    "# tuning hyperparameters of SVC\n",
    "\n",
    "svc = svm.SVC()\n",
    "\n",
    "param_grid = {\n",
    "                'C': [0.01, 0.1, 1, 10], #default=1.0\n",
    "                'gamma': [.1, .25, .5, .75, 1.0], #edfault: auto\n",
    "                'decision_function_shape': ['ovo', 'ovr'], #default:ovr\n",
    "                'probability': [True],\n",
    "             }\n",
    "\n",
    "gs = GridSearchCV(svc, param_grid=param_grid, cv=3)\n",
    "\n",
    "gs.fit(X_train, y_train)\n",
    "gs.best_estimator_"
   ]
  },
  {
   "cell_type": "code",
   "execution_count": 247,
   "metadata": {
    "execution": {
     "iopub.execute_input": "2025-01-04T05:33:11.542615Z",
     "iopub.status.busy": "2025-01-04T05:33:11.542360Z",
     "iopub.status.idle": "2025-01-04T05:33:11.637369Z",
     "shell.execute_reply": "2025-01-04T05:33:11.636040Z",
     "shell.execute_reply.started": "2025-01-04T05:33:11.542593Z"
    },
    "trusted": true
   },
   "outputs": [
    {
     "name": "stdout",
     "output_type": "stream",
     "text": [
      "{'C': 1, 'break_ties': False, 'cache_size': 200, 'class_weight': None, 'coef0': 0.0, 'decision_function_shape': 'ovo', 'degree': 3, 'gamma': 0.5, 'kernel': 'rbf', 'max_iter': -1, 'probability': True, 'random_state': None, 'shrinking': True, 'tol': 0.001, 'verbose': False}\n",
      "Train Result:\n",
      "\n",
      "Accuracy score: 0.8636\n",
      "\n",
      "Classification Report: \n",
      "               precision    recall  f1-score   support\n",
      "\n",
      "           0       0.85      0.94      0.90       392\n",
      "           1       0.88      0.73      0.80       231\n",
      "\n",
      "    accuracy                           0.86       623\n",
      "   macro avg       0.87      0.84      0.85       623\n",
      "weighted avg       0.87      0.86      0.86       623\n",
      "\n",
      "\n",
      "Confusion Matrix: \n",
      " [[370  22]\n",
      " [ 63 168]]\n",
      "\n",
      "**************************************************\n",
      "Test Result:\n",
      "\n",
      "Accuracy score: 0.7985\n",
      "\n",
      "Classification Report: \n",
      "               precision    recall  f1-score   support\n",
      "\n",
      "           0       0.79      0.89      0.84       157\n",
      "           1       0.81      0.68      0.74       111\n",
      "\n",
      "    accuracy                           0.80       268\n",
      "   macro avg       0.80      0.78      0.79       268\n",
      "weighted avg       0.80      0.80      0.80       268\n",
      "\n",
      "\n",
      "Confusion Matrix: \n",
      " [[139  18]\n",
      " [ 36  75]]\n",
      "\n"
     ]
    }
   ],
   "source": [
    "best_svc = gs.best_estimator_\n",
    "print(best_svc.get_params())\n",
    "\n",
    "best_svc.fit(X_train, y_train)\n",
    "\n",
    "y_pred = best_svc.predict(X_train)\n",
    "\n",
    "print(\"Train Result:\\n\")\n",
    "print(\"Accuracy score: {0:.4f}\\n\".format(accuracy_score(y_train, y_pred)))\n",
    "print(\"Classification Report: \\n {}\\n\".format(classification_report(y_train, y_pred)))\n",
    "print(\"Confusion Matrix: \\n {}\\n\".format(confusion_matrix(y_train, y_pred)))\n",
    "print('*'*50)\n",
    "\n",
    "y_pred = best_svc.predict(X_test)\n",
    "\n",
    "\n",
    "print(\"Test Result:\\n\")\n",
    "print(\"Accuracy score: {0:.4f}\\n\".format(accuracy_score(y_test, y_pred)))\n",
    "print(\"Classification Report: \\n {}\\n\".format(classification_report(y_test, y_pred)))\n",
    "print(\"Confusion Matrix: \\n {}\\n\".format(confusion_matrix(y_test, y_pred)))"
   ]
  },
  {
   "cell_type": "markdown",
   "metadata": {},
   "source": [
    "# Submission"
   ]
  },
  {
   "cell_type": "code",
   "execution_count": 248,
   "metadata": {
    "execution": {
     "iopub.execute_input": "2025-01-04T05:33:11.638711Z",
     "iopub.status.busy": "2025-01-04T05:33:11.638443Z",
     "iopub.status.idle": "2025-01-04T05:33:11.644383Z",
     "shell.execute_reply": "2025-01-04T05:33:11.643006Z",
     "shell.execute_reply.started": "2025-01-04T05:33:11.638687Z"
    },
    "trusted": true
   },
   "outputs": [],
   "source": [
    "test_FS = test[X.columns]"
   ]
  },
  {
   "cell_type": "code",
   "execution_count": 249,
   "metadata": {
    "execution": {
     "iopub.execute_input": "2025-01-04T05:33:11.645713Z",
     "iopub.status.busy": "2025-01-04T05:33:11.645359Z",
     "iopub.status.idle": "2025-01-04T05:33:11.779929Z",
     "shell.execute_reply": "2025-01-04T05:33:11.778858Z",
     "shell.execute_reply.started": "2025-01-04T05:33:11.645687Z"
    },
    "trusted": true
   },
   "outputs": [
    {
     "name": "stdout",
     "output_type": "stream",
     "text": [
      "Submission file created.\n"
     ]
    }
   ],
   "source": [
    "svc = gs.best_estimator_\n",
    "\n",
    "svc.fit(X, y)\n",
    "\n",
    "predictions = svc.predict(test_FS)\n",
    "\n",
    "my_submission = pd.DataFrame({'PassengerId': test.PassengerId, 'Survived': predictions})\n",
    "my_submission.to_csv('submission.csv', index=False)\n",
    "\n",
    "print(\"Submission file created.\")"
   ]
  },
  {
   "cell_type": "code",
   "execution_count": 250,
   "metadata": {
    "execution": {
     "iopub.execute_input": "2025-01-04T05:33:11.781171Z",
     "iopub.status.busy": "2025-01-04T05:33:11.780857Z",
     "iopub.status.idle": "2025-01-04T05:33:11.785520Z",
     "shell.execute_reply": "2025-01-04T05:33:11.784417Z",
     "shell.execute_reply.started": "2025-01-04T05:33:11.781138Z"
    },
    "trusted": true
   },
   "outputs": [],
   "source": [
    "# got accuracy of - 0.7488"
   ]
  },
  {
   "cell_type": "code",
   "execution_count": 251,
   "metadata": {
    "execution": {
     "iopub.execute_input": "2025-01-04T05:33:11.786923Z",
     "iopub.status.busy": "2025-01-04T05:33:11.786561Z",
     "iopub.status.idle": "2025-01-04T05:33:11.805566Z",
     "shell.execute_reply": "2025-01-04T05:33:11.804812Z",
     "shell.execute_reply.started": "2025-01-04T05:33:11.786896Z"
    },
    "trusted": true
   },
   "outputs": [
    {
     "data": {
      "text/plain": [
       "Index(['Survived', 'Pclass', 'Sex', 'Family', 'isAlone', 'Embarked_le',\n",
       "       'FareBin_le', 'AgeBin_le'],\n",
       "      dtype='object')"
      ]
     },
     "execution_count": 251,
     "metadata": {},
     "output_type": "execute_result"
    }
   ],
   "source": [
    "# dropping 'Embarked_le' and checking accuracy\n",
    "train_FS.columns"
   ]
  },
  {
   "cell_type": "code",
   "execution_count": 269,
   "metadata": {
    "execution": {
     "iopub.execute_input": "2025-01-04T05:58:44.464752Z",
     "iopub.status.busy": "2025-01-04T05:58:44.464265Z",
     "iopub.status.idle": "2025-01-04T05:59:00.810006Z",
     "shell.execute_reply": "2025-01-04T05:59:00.808452Z",
     "shell.execute_reply.started": "2025-01-04T05:58:44.464718Z"
    },
    "trusted": true
   },
   "outputs": [
    {
     "data": {
      "text/html": [
       "<div>\n",
       "<style scoped>\n",
       "    .dataframe tbody tr th:only-of-type {\n",
       "        vertical-align: middle;\n",
       "    }\n",
       "\n",
       "    .dataframe tbody tr th {\n",
       "        vertical-align: top;\n",
       "    }\n",
       "\n",
       "    .dataframe thead th {\n",
       "        text-align: right;\n",
       "    }\n",
       "</style>\n",
       "<table border=\"1\" class=\"dataframe\">\n",
       "  <thead>\n",
       "    <tr style=\"text-align: right;\">\n",
       "      <th></th>\n",
       "      <th>Name</th>\n",
       "      <th>Parameters</th>\n",
       "      <th>Train Accuracy Mean</th>\n",
       "      <th>Train Accuracy STD</th>\n",
       "      <th>Test Accuracy</th>\n",
       "      <th>Time_Taken</th>\n",
       "    </tr>\n",
       "  </thead>\n",
       "  <tbody>\n",
       "    <tr>\n",
       "      <th>11</th>\n",
       "      <td>SVC</td>\n",
       "      <td>{'C': 1.0, 'break_ties': False, 'cache_size': ...</td>\n",
       "      <td>0.817288</td>\n",
       "      <td>0.088161</td>\n",
       "      <td>0.824627</td>\n",
       "      <td>0.052439</td>\n",
       "    </tr>\n",
       "    <tr>\n",
       "      <th>2</th>\n",
       "      <td>GradientBoostingClassifier</td>\n",
       "      <td>{'ccp_alpha': 0.0, 'criterion': 'friedman_mse'...</td>\n",
       "      <td>0.817238</td>\n",
       "      <td>0.070328</td>\n",
       "      <td>0.794776</td>\n",
       "      <td>0.114258</td>\n",
       "    </tr>\n",
       "    <tr>\n",
       "      <th>3</th>\n",
       "      <td>RandomForestClassifier</td>\n",
       "      <td>{'bootstrap': True, 'ccp_alpha': 0.0, 'class_w...</td>\n",
       "      <td>0.817187</td>\n",
       "      <td>0.066013</td>\n",
       "      <td>0.783582</td>\n",
       "      <td>0.17528</td>\n",
       "    </tr>\n",
       "    <tr>\n",
       "      <th>14</th>\n",
       "      <td>XGBClassifier</td>\n",
       "      <td>{'objective': 'binary:logistic', 'base_score':...</td>\n",
       "      <td>0.813962</td>\n",
       "      <td>0.074573</td>\n",
       "      <td>0.802239</td>\n",
       "      <td>0.054351</td>\n",
       "    </tr>\n",
       "    <tr>\n",
       "      <th>12</th>\n",
       "      <td>DecisionTreeClassifier</td>\n",
       "      <td>{'ccp_alpha': 0.0, 'class_weight': None, 'crit...</td>\n",
       "      <td>0.801109</td>\n",
       "      <td>0.060022</td>\n",
       "      <td>0.761194</td>\n",
       "      <td>0.002972</td>\n",
       "    </tr>\n",
       "    <tr>\n",
       "      <th>10</th>\n",
       "      <td>KNeighborsClassifier</td>\n",
       "      <td>{'algorithm': 'auto', 'leaf_size': 30, 'metric...</td>\n",
       "      <td>0.799496</td>\n",
       "      <td>0.08172</td>\n",
       "      <td>0.809701</td>\n",
       "      <td>0.002827</td>\n",
       "    </tr>\n",
       "    <tr>\n",
       "      <th>4</th>\n",
       "      <td>LogisticRegressionCV</td>\n",
       "      <td>{'Cs': 10, 'class_weight': None, 'cv': None, '...</td>\n",
       "      <td>0.796421</td>\n",
       "      <td>0.095822</td>\n",
       "      <td>0.824627</td>\n",
       "      <td>0.178717</td>\n",
       "    </tr>\n",
       "    <tr>\n",
       "      <th>0</th>\n",
       "      <td>AdaBoostClassifier</td>\n",
       "      <td>{'algorithm': 'SAMME.R', 'base_estimator': 'de...</td>\n",
       "      <td>0.794708</td>\n",
       "      <td>0.090626</td>\n",
       "      <td>0.787313</td>\n",
       "      <td>0.091175</td>\n",
       "    </tr>\n",
       "    <tr>\n",
       "      <th>5</th>\n",
       "      <td>RidgeClassifierCV</td>\n",
       "      <td>{'alphas': (0.1, 1.0, 10.0), 'class_weight': N...</td>\n",
       "      <td>0.793196</td>\n",
       "      <td>0.090283</td>\n",
       "      <td>0.791045</td>\n",
       "      <td>0.004817</td>\n",
       "    </tr>\n",
       "    <tr>\n",
       "      <th>13</th>\n",
       "      <td>LinearDiscriminantAnalysis</td>\n",
       "      <td>{'covariance_estimator': None, 'n_components':...</td>\n",
       "      <td>0.793196</td>\n",
       "      <td>0.090283</td>\n",
       "      <td>0.791045</td>\n",
       "      <td>0.003281</td>\n",
       "    </tr>\n",
       "    <tr>\n",
       "      <th>1</th>\n",
       "      <td>BaggingClassifier</td>\n",
       "      <td>{'base_estimator': 'deprecated', 'bootstrap': ...</td>\n",
       "      <td>0.791482</td>\n",
       "      <td>0.06337</td>\n",
       "      <td>0.783582</td>\n",
       "      <td>0.025871</td>\n",
       "    </tr>\n",
       "    <tr>\n",
       "      <th>8</th>\n",
       "      <td>BernoulliNB</td>\n",
       "      <td>{'alpha': 1.0, 'binarize': 0.0, 'class_prior':...</td>\n",
       "      <td>0.775605</td>\n",
       "      <td>0.082553</td>\n",
       "      <td>0.779851</td>\n",
       "      <td>0.0033</td>\n",
       "    </tr>\n",
       "    <tr>\n",
       "      <th>9</th>\n",
       "      <td>GaussianNB</td>\n",
       "      <td>{'priors': None, 'var_smoothing': 1e-09}</td>\n",
       "      <td>0.772228</td>\n",
       "      <td>0.101987</td>\n",
       "      <td>0.802239</td>\n",
       "      <td>0.002679</td>\n",
       "    </tr>\n",
       "    <tr>\n",
       "      <th>6</th>\n",
       "      <td>SGDClassifier</td>\n",
       "      <td>{'alpha': 0.0001, 'average': False, 'class_wei...</td>\n",
       "      <td>0.756855</td>\n",
       "      <td>0.12173</td>\n",
       "      <td>0.824627</td>\n",
       "      <td>0.004588</td>\n",
       "    </tr>\n",
       "    <tr>\n",
       "      <th>7</th>\n",
       "      <td>Perceptron</td>\n",
       "      <td>{'alpha': 0.0001, 'class_weight': None, 'early...</td>\n",
       "      <td>0.719002</td>\n",
       "      <td>0.082808</td>\n",
       "      <td>0.630597</td>\n",
       "      <td>0.003515</td>\n",
       "    </tr>\n",
       "  </tbody>\n",
       "</table>\n",
       "</div>"
      ],
      "text/plain": [
       "                          Name  \\\n",
       "11                         SVC   \n",
       "2   GradientBoostingClassifier   \n",
       "3       RandomForestClassifier   \n",
       "14               XGBClassifier   \n",
       "12      DecisionTreeClassifier   \n",
       "10        KNeighborsClassifier   \n",
       "4         LogisticRegressionCV   \n",
       "0           AdaBoostClassifier   \n",
       "5            RidgeClassifierCV   \n",
       "13  LinearDiscriminantAnalysis   \n",
       "1            BaggingClassifier   \n",
       "8                  BernoulliNB   \n",
       "9                   GaussianNB   \n",
       "6                SGDClassifier   \n",
       "7                   Perceptron   \n",
       "\n",
       "                                           Parameters Train Accuracy Mean  \\\n",
       "11  {'C': 1.0, 'break_ties': False, 'cache_size': ...            0.817288   \n",
       "2   {'ccp_alpha': 0.0, 'criterion': 'friedman_mse'...            0.817238   \n",
       "3   {'bootstrap': True, 'ccp_alpha': 0.0, 'class_w...            0.817187   \n",
       "14  {'objective': 'binary:logistic', 'base_score':...            0.813962   \n",
       "12  {'ccp_alpha': 0.0, 'class_weight': None, 'crit...            0.801109   \n",
       "10  {'algorithm': 'auto', 'leaf_size': 30, 'metric...            0.799496   \n",
       "4   {'Cs': 10, 'class_weight': None, 'cv': None, '...            0.796421   \n",
       "0   {'algorithm': 'SAMME.R', 'base_estimator': 'de...            0.794708   \n",
       "5   {'alphas': (0.1, 1.0, 10.0), 'class_weight': N...            0.793196   \n",
       "13  {'covariance_estimator': None, 'n_components':...            0.793196   \n",
       "1   {'base_estimator': 'deprecated', 'bootstrap': ...            0.791482   \n",
       "8   {'alpha': 1.0, 'binarize': 0.0, 'class_prior':...            0.775605   \n",
       "9            {'priors': None, 'var_smoothing': 1e-09}            0.772228   \n",
       "6   {'alpha': 0.0001, 'average': False, 'class_wei...            0.756855   \n",
       "7   {'alpha': 0.0001, 'class_weight': None, 'early...            0.719002   \n",
       "\n",
       "   Train Accuracy STD Test Accuracy Time_Taken  \n",
       "11           0.088161      0.824627   0.052439  \n",
       "2            0.070328      0.794776   0.114258  \n",
       "3            0.066013      0.783582    0.17528  \n",
       "14           0.074573      0.802239   0.054351  \n",
       "12           0.060022      0.761194   0.002972  \n",
       "10            0.08172      0.809701   0.002827  \n",
       "4            0.095822      0.824627   0.178717  \n",
       "0            0.090626      0.787313   0.091175  \n",
       "5            0.090283      0.791045   0.004817  \n",
       "13           0.090283      0.791045   0.003281  \n",
       "1             0.06337      0.783582   0.025871  \n",
       "8            0.082553      0.779851     0.0033  \n",
       "9            0.101987      0.802239   0.002679  \n",
       "6             0.12173      0.824627   0.004588  \n",
       "7            0.082808      0.630597   0.003515  "
      ]
     },
     "execution_count": 269,
     "metadata": {},
     "output_type": "execute_result"
    }
   ],
   "source": [
    "train_FS1 = train_df.drop(['Title_le', 'Cabin_le','Embarked_le' ],axis=1)\n",
    "test_FS1 = test_df.drop (['Title_le', 'Cabin_le', 'Embarked_le'], axis=1)\n",
    "\n",
    "X1 = train_FS1.drop('Survived', axis=1)\n",
    "y1 = train_FS1['Survived']\n",
    "\n",
    "X_train1, X_test1, y_train1, y_test1 = train_test_split(X1, y1, test_size= 0.3, random_state=42)\n",
    "\n",
    "# model comparison\n",
    "\n",
    "columns = [\"Name\", \"Parameters\", \"Train Accuracy Mean\", \"Train Accuracy STD\", \"Test Accuracy\", \"Time_Taken\"]\n",
    "comparison = pd.DataFrame(columns=columns)\n",
    "\n",
    "row_idx = 0\n",
    "\n",
    "for clf in MLA:\n",
    "    comparison.loc[row_idx, \"Name\"] = clf.__class__.__name__\n",
    "    comparison.loc[row_idx, \"Parameters\"] = str(clf.get_params())\n",
    "\n",
    "    cv_result = cross_validate(clf, X_train1, y_train1, cv=20)\n",
    "\n",
    "    comparison.loc[row_idx, \"Time_Taken\"] = cv_result[\"fit_time\"].mean()\n",
    "    comparison.loc[row_idx, \"Train Accuracy Mean\"] = cv_result[\"test_score\"].mean()\n",
    "    comparison.loc[row_idx, \"Train Accuracy STD\"] = cv_result[\"test_score\"].std()\n",
    "\n",
    "    clf.fit(X_train1, y_train1)\n",
    "    comparison.loc[row_idx, \"Test Accuracy\"] = accuracy_score(y_test1, clf.predict(X_test1))\n",
    "\n",
    "    row_idx += 1\n",
    "    \n",
    "comparison.sort_values(by=[\"Train Accuracy Mean\"], ascending=False, inplace=True)\n",
    "comparison"
   ]
  },
  {
   "cell_type": "code",
   "execution_count": null,
   "metadata": {
    "trusted": true
   },
   "outputs": [],
   "source": []
  }
 ],
 "metadata": {
  "kaggle": {
   "accelerator": "none",
   "dataSources": [
    {
     "databundleVersionId": 26502,
     "sourceId": 3136,
     "sourceType": "competition"
    }
   ],
   "dockerImageVersionId": 30822,
   "isGpuEnabled": false,
   "isInternetEnabled": false,
   "language": "python",
   "sourceType": "notebook"
  },
  "kernelspec": {
   "display_name": "Python 3",
   "language": "python",
   "name": "python3"
  },
  "language_info": {
   "codemirror_mode": {
    "name": "ipython",
    "version": 3
   },
   "file_extension": ".py",
   "mimetype": "text/x-python",
   "name": "python",
   "nbconvert_exporter": "python",
   "pygments_lexer": "ipython3",
   "version": "3.10.12"
  }
 },
 "nbformat": 4,
 "nbformat_minor": 4
}
